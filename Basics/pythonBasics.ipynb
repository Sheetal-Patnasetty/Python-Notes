{
 "cells": [
  {
   "cell_type": "markdown",
   "metadata": {},
   "source": [
    "# String Formatting"
   ]
  },
  {
   "cell_type": "code",
   "execution_count": 61,
   "metadata": {},
   "outputs": [],
   "source": [
    "planet='earth'\n",
    "diameter=12734"
   ]
  },
  {
   "cell_type": "code",
   "execution_count": 62,
   "metadata": {},
   "outputs": [
    {
     "name": "stdout",
     "output_type": "stream",
     "text": [
      "the diameter of  earth is  12734\n"
     ]
    }
   ],
   "source": [
    "# old and poor method\n",
    "print('the diameter of ', planet, 'is ', diameter)"
   ]
  },
  {
   "cell_type": "code",
   "execution_count": 63,
   "metadata": {},
   "outputs": [
    {
     "name": "stdout",
     "output_type": "stream",
     "text": [
      "The diameter of earth is 12734\n"
     ]
    }
   ],
   "source": [
    "# Method-1 using .format()\n",
    "print('The diameter of {} is {}'.format(planet,diameter))"
   ]
  },
  {
   "cell_type": "code",
   "execution_count": 64,
   "metadata": {},
   "outputs": [
    {
     "name": "stdout",
     "output_type": "stream",
     "text": [
      "The diameter of earth is 12734\n",
      "The diameter of 12734 is earth\n"
     ]
    }
   ],
   "source": [
    "print('The diameter of {0} is {1}'.format(planet,diameter))\n",
    "print('The diameter of {1} is {0}'.format(planet,diameter))"
   ]
  },
  {
   "cell_type": "code",
   "execution_count": 65,
   "metadata": {},
   "outputs": [
    {
     "name": "stdout",
     "output_type": "stream",
     "text": [
      "The diameter of earth is 12734\n"
     ]
    }
   ],
   "source": [
    "#Method-2 using % expression\n",
    "print('The diameter of %s is %s' % (planet,diameter))"
   ]
  },
  {
   "cell_type": "code",
   "execution_count": 66,
   "metadata": {},
   "outputs": [
    {
     "name": "stdout",
     "output_type": "stream",
     "text": [
      "The diameter of earth is 12734\n"
     ]
    }
   ],
   "source": [
    "#Method-3 using f string \n",
    "print(f'The diameter of {planet} is {diameter}')"
   ]
  },
  {
   "cell_type": "code",
   "execution_count": 67,
   "metadata": {},
   "outputs": [
    {
     "name": "stdout",
     "output_type": "stream",
     "text": [
      "I ate a clock yesterday it was very time consuming\n",
      "I ate a clock yesterday it was very time consuming\n",
      "I ate a clock yesterday it was very time consuming\n"
     ]
    }
   ],
   "source": [
    "item='clock'\n",
    "day='yesterday'\n",
    "impact='time consuming'\n",
    "\n",
    "print('I ate a {0} {1} it was very {2}'.format(item,day,impact))\n",
    "print('I ate a %s %s it was very %s' % (item,day,impact))\n",
    "print(f'I ate a {item} {day} it was very {impact}')"
   ]
  },
  {
   "cell_type": "markdown",
   "metadata": {},
   "source": [
    "------------------------------"
   ]
  },
  {
   "cell_type": "markdown",
   "metadata": {},
   "source": [
    "# DECISION MAKING"
   ]
  },
  {
   "cell_type": "code",
   "execution_count": 1,
   "metadata": {},
   "outputs": [
    {
     "name": "stdout",
     "output_type": "stream",
     "text": [
      "For the given 7500.0, the HRA is 900.0, DA is 1050.0 and the gross pay is 9450.0\n"
     ]
    }
   ],
   "source": [
    "# Simulating employee pay roll. Ask the user to enter base pay.\n",
    "\n",
    "base_pay=float(input('Enter base pay: '))\n",
    "if (base_pay >= 5000):\n",
    "    hra=0.12*base_pay\n",
    "    da=0.14*base_pay\n",
    "elif (base_pay < 5000):\n",
    "    hra=0.16*base_pay\n",
    "    da=0.18*base_pay\n",
    "else:\n",
    "    print(\"invalid\")\n",
    "gross=base_pay+hra+da\n",
    "print(f\"For the given {base_pay}, the HRA is {hra}, DA is {da} and the gross pay is {gross}\")\n"
   ]
  },
  {
   "cell_type": "markdown",
   "metadata": {},
   "source": [
    "---------------------------"
   ]
  },
  {
   "cell_type": "markdown",
   "metadata": {},
   "source": [
    "# AUTO TYPE CASTING"
   ]
  },
  {
   "cell_type": "code",
   "execution_count": null,
   "metadata": {},
   "outputs": [
    {
     "name": "stdout",
     "output_type": "stream",
     "text": [
      "<class 'str'>\n"
     ]
    },
    {
     "data": {
      "text/plain": [
       "\"\\n(1,2,3,4)\\n<class 'tuple'>\\n\""
      ]
     },
     "execution_count": 4,
     "metadata": {},
     "output_type": "execute_result"
    }
   ],
   "source": [
    "import ast\n",
    "data = ast.literal_eval( input() )\n",
    "print(type(data))\n",
    "\n",
    "\"\"\"\n",
    "(1,2,3,4)\n",
    "<class 'tuple'>\n",
    "---------------\n",
    "\"abc\"\n",
    "100\n",
    "2.234\n",
    "True\n",
    "{ 'a': 'apple'}\n",
    "(1,2,3,4)\n",
    "[1,2,3,4]\n",
    "-----------------\n",
    "\"\"\""
   ]
  },
  {
   "cell_type": "markdown",
   "metadata": {},
   "source": [
    "---------------------"
   ]
  },
  {
   "cell_type": "markdown",
   "metadata": {},
   "source": [
    "# LOOPING"
   ]
  },
  {
   "cell_type": "code",
   "execution_count": null,
   "metadata": {},
   "outputs": [
    {
     "name": "stdout",
     "output_type": "stream",
     "text": [
      "Counting  1\n",
      "Counting  2\n",
      "Counting  3\n",
      "Counting  4\n",
      "Counting  5\n",
      "Counting  6\n",
      "Counting  7\n",
      "Counting  8\n",
      "Counting  9\n",
      "Counting  10\n"
     ]
    }
   ],
   "source": [
    "import time\n",
    "\n",
    "meter=1\n",
    "while meter <=10:\n",
    "    print('Counting ', meter)\n",
    "    meter +=1 \n",
    "    time.sleep(1)"
   ]
  },
  {
   "cell_type": "markdown",
   "metadata": {},
   "source": [
    "range(limit) -> this function generates numbers.\n",
    "-> starting from 0\n",
    "-> till limit -1\n",
    "-> eg. range(3) -> 0,1,2"
   ]
  },
  {
   "cell_type": "code",
   "execution_count": null,
   "metadata": {},
   "outputs": [
    {
     "name": "stdout",
     "output_type": "stream",
     "text": [
      "0\n",
      "1\n",
      "2\n",
      "3\n",
      "4\n"
     ]
    }
   ],
   "source": [
    "for x in range(5):   #LIMIT\n",
    "    print(x)"
   ]
  },
  {
   "cell_type": "code",
   "execution_count": null,
   "metadata": {},
   "outputs": [
    {
     "name": "stdout",
     "output_type": "stream",
     "text": [
      "5\n",
      "6\n",
      "7\n",
      "8\n",
      "9\n"
     ]
    }
   ],
   "source": [
    "for x in range(5,10):    #START, STOP\n",
    "    print(x)"
   ]
  },
  {
   "cell_type": "code",
   "execution_count": null,
   "metadata": {},
   "outputs": [
    {
     "name": "stdout",
     "output_type": "stream",
     "text": [
      "2\n",
      "4\n",
      "6\n",
      "8\n",
      "10\n",
      "12\n",
      "14\n",
      "16\n",
      "18\n",
      "20\n"
     ]
    }
   ],
   "source": [
    "for x in range(2,21,2):        #START, STOP, STEP\n",
    "    print(x)"
   ]
  },
  {
   "cell_type": "code",
   "execution_count": null,
   "metadata": {},
   "outputs": [
    {
     "name": "stdout",
     "output_type": "stream",
     "text": [
      "Your guess is too high\n",
      "Your guess is too high\n",
      "Your guess is too low\n",
      "Your guess is too high\n",
      "Gotcha! you guessed it right. The answer is  11\n"
     ]
    }
   ],
   "source": [
    "# Guessing game\n",
    "import random\n",
    "\n",
    "computerChoice = random.randint(1,20)\n",
    "\n",
    "for i in range(6):\n",
    "    guess=int(input(\"Choice: \"))\n",
    "    if guess > computerChoice:\n",
    "        print('Your guess is too high')\n",
    "    elif guess < computerChoice:\n",
    "        print('Your guess is too low')\n",
    "    else:\n",
    "        print('Gotcha! you guessed it right. The answer is ', computerChoice)  \n",
    "        break \n",
    "else:\n",
    "    print('OOPS! try again. The answer is ', computerChoice)\n",
    "\n"
   ]
  },
  {
   "cell_type": "code",
   "execution_count": null,
   "metadata": {},
   "outputs": [
    {
     "name": "stdout",
     "output_type": "stream",
     "text": [
      "7\n",
      "22\n",
      "11\n",
      "34\n",
      "17\n",
      "52\n",
      "26\n",
      "13\n",
      "40\n",
      "20\n",
      "10\n",
      "5\n",
      "16\n",
      "8\n",
      "4\n",
      "2\n",
      "1\n"
     ]
    }
   ],
   "source": [
    "# Hailstone sequence algorithm\n",
    "def hailstone_sequence(n):\n",
    "    print(n)\n",
    "    if n == 1:\n",
    "        return\n",
    "    elif n % 2 == 0:\n",
    "        hailstone_sequence(n // 2)\n",
    "    else:\n",
    "        hailstone_sequence(3 * n + 1)\n",
    "num = int(input(\"Enter a positive number: \"))\n",
    "hailstone_sequence(num)\n",
    "\n",
    "# can use while loop also"
   ]
  },
  {
   "cell_type": "code",
   "execution_count": null,
   "metadata": {},
   "outputs": [
    {
     "name": "stdout",
     "output_type": "stream",
     "text": [
      "coin 5 target 9\n",
      "coin 3 target 4\n",
      "coin 1 target 1\n",
      "[5, 3, 1]\n"
     ]
    }
   ],
   "source": [
    "# CoinSorter(coins, target)\n",
    "# coins=[1,3,5]\n",
    "# target=9          \n",
    "# output=[3,3,3]  -> minimum number of coins requried to get target\n",
    "\n",
    "def coin_sorter(coins, target):\n",
    "    result = []\n",
    "    for coin in sorted(coins, reverse=True):\n",
    "        print(f'coin {coin} target {target}')\n",
    "        while target >= coin:\n",
    "            result.append(coin)\n",
    "            target -= coin\n",
    "    return result\n",
    "# Test the function\n",
    "coins = [1, 3, 5]\n",
    "target = 9\n",
    "print(coin_sorter(coins, target))  # Output: [5, 3, 1]"
   ]
  },
  {
   "cell_type": "markdown",
   "metadata": {},
   "source": [
    "-------------------------------------------"
   ]
  },
  {
   "cell_type": "markdown",
   "metadata": {},
   "source": [
    "# DATA STRUCTURES"
   ]
  },
  {
   "cell_type": "markdown",
   "metadata": {},
   "source": [
    "-> Data structures enables us to efficiently \n",
    "\n",
    "    - store\n",
    "\n",
    "    - organize\n",
    "\n",
    "    - manipulate (insert/ update/ delete)  \n",
    "\n",
    "    - Access\n",
    "\n",
    "\n",
    "## Types of Data structures:\n",
    "### 1. Primitive Types:\n",
    "\n",
    "-> Int\n",
    "\n",
    "-> Str\n",
    "\n",
    "-> Bool\n",
    "\n",
    "-> Float\n",
    "\n",
    "\n",
    "### 2. Non Primitive:\n",
    "\n",
    "-> List\n",
    "\n",
    "->Tuple\n",
    "\n",
    "-> Set\n",
    "\n",
    "->Dictionary\n",
    "\n",
    "\n",
    "Non Primitive types are used to store and process non-linear or group of values. \n",
    "\n",
    "eg. salary=(101,102,103,104,105)"
   ]
  },
  {
   "cell_type": "markdown",
   "metadata": {},
   "source": [
    "----------------------"
   ]
  },
  {
   "cell_type": "markdown",
   "metadata": {},
   "source": [
    "# LIST\n",
    "\n",
    "## Characteristics of List:\n",
    "\n",
    "-> A list is represented using [ ]\n",
    "\n",
    "-> A list can contain elements of multiple data types (Compound structure).\n",
    "\n",
    "-> A list can contain duplicate elements\n",
    "\n",
    "-> A list is a mutable data structure, i.e. the elements in the list can be manipulated (add/ remove).\n",
    "\n",
    "-> List is ordered, it means the sequence in which elements are added is retained while accessing items."
   ]
  },
  {
   "cell_type": "code",
   "execution_count": null,
   "metadata": {},
   "outputs": [
    {
     "data": {
      "text/plain": [
       "list"
      ]
     },
     "execution_count": 1,
     "metadata": {},
     "output_type": "execute_result"
    }
   ],
   "source": [
    "grocery = ['hello', True, False, 10, 10.5, [1,2,3]]\n",
    "type(grocery)"
   ]
  },
  {
   "cell_type": "code",
   "execution_count": null,
   "metadata": {},
   "outputs": [
    {
     "name": "stdout",
     "output_type": "stream",
     "text": [
      "Total products in cart, 0\n"
     ]
    }
   ],
   "source": [
    "shopping_cart=[]\n",
    "print(f'Total products in cart, {len(shopping_cart)}')"
   ]
  },
  {
   "cell_type": "markdown",
   "metadata": {},
   "source": [
    "## Insert Elements"
   ]
  },
  {
   "cell_type": "markdown",
   "metadata": {},
   "source": [
    "### ListName.append(value)"
   ]
  },
  {
   "cell_type": "code",
   "execution_count": null,
   "metadata": {},
   "outputs": [
    {
     "data": {
      "text/plain": [
       "['iPhone']"
      ]
     },
     "execution_count": 3,
     "metadata": {},
     "output_type": "execute_result"
    }
   ],
   "source": [
    "# adding element in the list using append()\n",
    "shopping_cart.append('iPhone')\n",
    "shopping_cart"
   ]
  },
  {
   "cell_type": "code",
   "execution_count": null,
   "metadata": {},
   "outputs": [
    {
     "data": {
      "text/plain": [
       "['iPhone', 'airPods', 'iPad', 'Macbook', 'Airfrier']"
      ]
     },
     "execution_count": 4,
     "metadata": {},
     "output_type": "execute_result"
    }
   ],
   "source": [
    "shopping_cart.append('airPods')\n",
    "shopping_cart.append('iPad')\n",
    "shopping_cart.append('Macbook')\n",
    "shopping_cart.append('Airfrier')\n",
    "shopping_cart"
   ]
  },
  {
   "cell_type": "code",
   "execution_count": null,
   "metadata": {},
   "outputs": [
    {
     "name": "stdout",
     "output_type": "stream",
     "text": [
      "Total products in cart, 5\n"
     ]
    }
   ],
   "source": [
    "print(f'Total products in cart, {len(shopping_cart)}')"
   ]
  },
  {
   "cell_type": "markdown",
   "metadata": {},
   "source": [
    "### ListName.extend(newList)"
   ]
  },
  {
   "cell_type": "code",
   "execution_count": null,
   "metadata": {},
   "outputs": [
    {
     "name": "stdout",
     "output_type": "stream",
     "text": [
      "['iPhone', 'airPods', 'iPad', 'Macbook', 'Airfrier', 'backpack', 'charger', 'datacable']\n"
     ]
    }
   ],
   "source": [
    "# adding multiple elements in a list using extend()\n",
    "combo_offer=['backpack','charger','datacable']\n",
    "shopping_cart.extend(combo_offer)\n",
    "print(shopping_cart)"
   ]
  },
  {
   "cell_type": "markdown",
   "metadata": {},
   "source": [
    "## Removing Elements"
   ]
  },
  {
   "cell_type": "markdown",
   "metadata": {},
   "source": [
    "### Method-1: ListName.remove(element)"
   ]
  },
  {
   "cell_type": "code",
   "execution_count": null,
   "metadata": {},
   "outputs": [
    {
     "name": "stdout",
     "output_type": "stream",
     "text": [
      "['iPhone', 'airPods', 'Macbook', 'Airfrier', 'backpack', 'charger', 'datacable']\n"
     ]
    }
   ],
   "source": [
    "shopping_cart.remove('iPad') \n",
    "print(shopping_cart)"
   ]
  },
  {
   "cell_type": "markdown",
   "metadata": {},
   "source": [
    "### Method-2: del ListName[index]"
   ]
  },
  {
   "cell_type": "code",
   "execution_count": null,
   "metadata": {},
   "outputs": [
    {
     "name": "stdout",
     "output_type": "stream",
     "text": [
      "['iPhone', 'airPods', 'Airfrier', 'backpack', 'charger', 'datacable']\n"
     ]
    }
   ],
   "source": [
    "del shopping_cart[2] #macbook\n",
    "print(shopping_cart)"
   ]
  },
  {
   "cell_type": "markdown",
   "metadata": {},
   "source": [
    "### Method-3: ListName.pop() \n",
    "\n",
    "-> removes last element (default)\n",
    "\n",
    "-> works with index also\n",
    "\n",
    "-> returns the deleted element"
   ]
  },
  {
   "cell_type": "code",
   "execution_count": null,
   "metadata": {},
   "outputs": [
    {
     "data": {
      "text/plain": [
       "'datacable'"
      ]
     },
     "execution_count": 30,
     "metadata": {},
     "output_type": "execute_result"
    }
   ],
   "source": [
    "shopping_cart.pop()  #Last element -> datacable"
   ]
  },
  {
   "cell_type": "code",
   "execution_count": null,
   "metadata": {},
   "outputs": [
    {
     "data": {
      "text/plain": [
       "'airPods'"
      ]
     },
     "execution_count": 31,
     "metadata": {},
     "output_type": "execute_result"
    }
   ],
   "source": [
    "shopping_cart.pop(1)  # airpods"
   ]
  },
  {
   "cell_type": "markdown",
   "metadata": {},
   "source": [
    "# Speed Test\n",
    "=====================================================\n",
    "\n",
    "### To prove numpy is more efficient than python\n",
    "\n",
    "Add 1 million numbers using python vs numpy.\n",
    "\n",
    "Check which method takes less time"
   ]
  },
  {
   "cell_type": "code",
   "execution_count": 1,
   "metadata": {},
   "outputs": [
    {
     "name": "stdout",
     "output_type": "stream",
     "text": [
      "Python took  169.5542335510254  ms\n",
      "Numpy took  32.724857330322266  ms\n"
     ]
    }
   ],
   "source": [
    "import time\n",
    "import numpy as np\n",
    "\n",
    "size = 1000000\n",
    "L1=range(size)\n",
    "L2=range(size)\n",
    "\n",
    "A1=np.arange(size)\n",
    "A2=np.arange(size)\n",
    "\n",
    "start=time.time()\n",
    "result=[x+y for x,y in zip(L1,L2)]\n",
    "stop=time.time()\n",
    "\n",
    "print('Python took ', (stop-start)*1000, ' ms')\n",
    "\n",
    "start = time.time()\n",
    "result = A1+A2\n",
    "stop=time.time()\n",
    "\n",
    "print('Numpy took ', (stop-start)*1000, ' ms')"
   ]
  },
  {
   "cell_type": "markdown",
   "metadata": {},
   "source": [
    "### Memory Consumption Test"
   ]
  },
  {
   "cell_type": "code",
   "execution_count": null,
   "metadata": {},
   "outputs": [
    {
     "name": "stdout",
     "output_type": "stream",
     "text": [
      "Python takes  28  bytes\n",
      "Numpy takes  4  bytes\n"
     ]
    }
   ],
   "source": [
    "import sys\n",
    "print('Python takes ', sys.getsizeof(5), ' bytes')\n",
    "print('Numpy takes ',np.array([1,2,3]).itemsize, ' bytes')"
   ]
  },
  {
   "cell_type": "markdown",
   "metadata": {},
   "source": [
    "================================================================="
   ]
  },
  {
   "cell_type": "markdown",
   "metadata": {},
   "source": [
    "## Working with index"
   ]
  },
  {
   "cell_type": "code",
   "execution_count": null,
   "metadata": {},
   "outputs": [
    {
     "data": {
      "text/plain": [
       "['iPhone', 'Airfrier', 'backpack', 'charger']"
      ]
     },
     "execution_count": 32,
     "metadata": {},
     "output_type": "execute_result"
    }
   ],
   "source": [
    "shopping_cart"
   ]
  },
  {
   "cell_type": "code",
   "execution_count": null,
   "metadata": {},
   "outputs": [
    {
     "data": {
      "text/plain": [
       "'Airfrier'"
      ]
     },
     "execution_count": 33,
     "metadata": {},
     "output_type": "execute_result"
    }
   ],
   "source": [
    "shopping_cart[1]  # indexing starts from 0"
   ]
  },
  {
   "cell_type": "code",
   "execution_count": null,
   "metadata": {},
   "outputs": [
    {
     "data": {
      "text/plain": [
       "'charger'"
      ]
     },
     "execution_count": 34,
     "metadata": {},
     "output_type": "execute_result"
    }
   ],
   "source": [
    "shopping_cart[-1]  # negative -> from last"
   ]
  },
  {
   "cell_type": "markdown",
   "metadata": {},
   "source": [
    "## Sorting"
   ]
  },
  {
   "cell_type": "code",
   "execution_count": null,
   "metadata": {},
   "outputs": [
    {
     "data": {
      "text/plain": [
       "['iPhone', 'Airfrier', 'backpack', 'charger']"
      ]
     },
     "execution_count": 35,
     "metadata": {},
     "output_type": "execute_result"
    }
   ],
   "source": [
    "shopping_cart"
   ]
  },
  {
   "cell_type": "code",
   "execution_count": null,
   "metadata": {},
   "outputs": [
    {
     "data": {
      "text/plain": [
       "['Airfrier', 'backpack', 'charger', 'iPhone']"
      ]
     },
     "execution_count": 36,
     "metadata": {},
     "output_type": "execute_result"
    }
   ],
   "source": [
    "sorted(shopping_cart)"
   ]
  },
  {
   "cell_type": "markdown",
   "metadata": {},
   "source": [
    "sorted returns new sorted list and the original isn't sorted"
   ]
  },
  {
   "cell_type": "code",
   "execution_count": null,
   "metadata": {},
   "outputs": [
    {
     "data": {
      "text/plain": [
       "['iPhone', 'Airfrier', 'backpack', 'charger']"
      ]
     },
     "execution_count": 37,
     "metadata": {},
     "output_type": "execute_result"
    }
   ],
   "source": [
    "shopping_cart"
   ]
  },
  {
   "cell_type": "code",
   "execution_count": null,
   "metadata": {},
   "outputs": [],
   "source": [
    "shopping_cart.sort()"
   ]
  },
  {
   "cell_type": "markdown",
   "metadata": {},
   "source": [
    "sort() method sorts the original list and returns None"
   ]
  },
  {
   "cell_type": "code",
   "execution_count": null,
   "metadata": {},
   "outputs": [
    {
     "data": {
      "text/plain": [
       "['Airfrier', 'backpack', 'charger', 'iPhone']"
      ]
     },
     "execution_count": 39,
     "metadata": {},
     "output_type": "execute_result"
    }
   ],
   "source": [
    "shopping_cart"
   ]
  },
  {
   "cell_type": "markdown",
   "metadata": {},
   "source": [
    "# ACTIVITY\n",
    "=============================================================================================\n",
    "\n",
    "Assume there is a birthday party. You are provided with the height of candles used on cake. \n",
    "\n",
    "candles = [4,1,3,4,4]\n",
    "\n",
    "Find count of tallest candle.\n",
    "\n",
    "Output: 3 \n",
    "\n",
    "Explanation: there are 3 tallest candles with height=4\n",
    "\n",
    "Cannot use max() method"
   ]
  },
  {
   "cell_type": "code",
   "execution_count": null,
   "metadata": {},
   "outputs": [
    {
     "name": "stdout",
     "output_type": "stream",
     "text": [
      "3\n"
     ]
    }
   ],
   "source": [
    "candles = [4,1,3,4,4]\n",
    "candles.sort(reverse=True)\n",
    "count=candles.count(candles[0])\n",
    "print(count)"
   ]
  },
  {
   "cell_type": "markdown",
   "metadata": {},
   "source": [
    "=============================================================================================="
   ]
  },
  {
   "cell_type": "markdown",
   "metadata": {},
   "source": [
    "-------------------"
   ]
  },
  {
   "cell_type": "markdown",
   "metadata": {},
   "source": [
    "# Tuple"
   ]
  },
  {
   "cell_type": "markdown",
   "metadata": {},
   "source": [
    "Tuple are known for their ReadOnly (Immutable) nature"
   ]
  },
  {
   "cell_type": "code",
   "execution_count": null,
   "metadata": {},
   "outputs": [
    {
     "data": {
      "text/plain": [
       "tuple"
      ]
     },
     "execution_count": 52,
     "metadata": {},
     "output_type": "execute_result"
    }
   ],
   "source": [
    "panCards = ('aonpc3222J','IBKQ39191','MCJN33191')\n",
    "type(panCards)"
   ]
  },
  {
   "cell_type": "code",
   "execution_count": null,
   "metadata": {},
   "outputs": [
    {
     "ename": "TypeError",
     "evalue": "'tuple' object doesn't support item deletion",
     "output_type": "error",
     "traceback": [
      "\u001b[1;31m---------------------------------------------------------------------------\u001b[0m",
      "\u001b[1;31mTypeError\u001b[0m                                 Traceback (most recent call last)",
      "\u001b[1;32m~\\AppData\\Local\\Temp\\ipykernel_8520\\1289709617.py\u001b[0m in \u001b[0;36m<module>\u001b[1;34m\u001b[0m\n\u001b[0;32m      1\u001b[0m \u001b[1;31m# Tuples are immutable:\u001b[0m\u001b[1;33m\u001b[0m\u001b[1;33m\u001b[0m\u001b[1;33m\u001b[0m\u001b[0m\n\u001b[1;32m----> 2\u001b[1;33m \u001b[1;32mdel\u001b[0m \u001b[0mpanCards\u001b[0m\u001b[1;33m[\u001b[0m\u001b[1;36m0\u001b[0m\u001b[1;33m]\u001b[0m\u001b[1;33m\u001b[0m\u001b[1;33m\u001b[0m\u001b[0m\n\u001b[0m",
      "\u001b[1;31mTypeError\u001b[0m: 'tuple' object doesn't support item deletion"
     ]
    }
   ],
   "source": [
    "# Tuples are immutable: cannot delete/ add/ sort\n",
    "del panCards[0]"
   ]
  },
  {
   "cell_type": "markdown",
   "metadata": {},
   "source": [
    "A list contained in a tuple can be manipulated, not whole list but elements inside list."
   ]
  },
  {
   "cell_type": "code",
   "execution_count": null,
   "metadata": {},
   "outputs": [
    {
     "data": {
      "text/plain": [
       "3"
      ]
     },
     "execution_count": 54,
     "metadata": {},
     "output_type": "execute_result"
    }
   ],
   "source": [
    "demo = (1,2,[3,4])\n",
    "demo[2][0]"
   ]
  },
  {
   "cell_type": "code",
   "execution_count": null,
   "metadata": {},
   "outputs": [
    {
     "data": {
      "text/plain": [
       "(1, 2, [99, 4])"
      ]
     },
     "execution_count": 55,
     "metadata": {},
     "output_type": "execute_result"
    }
   ],
   "source": [
    "# we can update the list inside the tuple\n",
    "demo[2][0] = 99\n",
    "demo"
   ]
  },
  {
   "cell_type": "markdown",
   "metadata": {},
   "source": [
    "## Packing and Unpacking"
   ]
  },
  {
   "cell_type": "code",
   "execution_count": null,
   "metadata": {},
   "outputs": [],
   "source": [
    "# Packing:\n",
    "\n",
    "icecreme = ('chocolate','strawberry','rum-rasin')"
   ]
  },
  {
   "cell_type": "code",
   "execution_count": null,
   "metadata": {},
   "outputs": [],
   "source": [
    "# Unpacking:\n",
    "\n",
    "f1, f2, f3 = icecreme"
   ]
  },
  {
   "cell_type": "code",
   "execution_count": null,
   "metadata": {},
   "outputs": [
    {
     "data": {
      "text/plain": [
       "'chocolate'"
      ]
     },
     "execution_count": 58,
     "metadata": {},
     "output_type": "execute_result"
    }
   ],
   "source": [
    "f1"
   ]
  },
  {
   "cell_type": "code",
   "execution_count": null,
   "metadata": {},
   "outputs": [
    {
     "data": {
      "text/plain": [
       "'strawberry'"
      ]
     },
     "execution_count": 59,
     "metadata": {},
     "output_type": "execute_result"
    }
   ],
   "source": [
    "f2"
   ]
  },
  {
   "cell_type": "code",
   "execution_count": 69,
   "metadata": {},
   "outputs": [
    {
     "data": {
      "text/plain": [
       "'rum-rasin'"
      ]
     },
     "execution_count": 69,
     "metadata": {},
     "output_type": "execute_result"
    }
   ],
   "source": [
    "f3"
   ]
  },
  {
   "cell_type": "markdown",
   "metadata": {},
   "source": [
    "# ACTIVITY\n",
    "==============================================================\n",
    "\n",
    "Assume you were riding a bike and later caught by a police officer. You are asked to provide below details.\n",
    "\n",
    "1. What is your rideing speed?\n",
    "\n",
    "2. Is it your birthday?\n",
    "\n",
    "Calculate the ticket as per the details below:\n",
    "\n",
    "if speed > 80 'big ticket'\n",
    "\n",
    "if speed > 60 and < 80 'small ticket'\n",
    "\n",
    "if speed < 60 'no ticket'\n",
    "\n",
    "If rider's birthday then 5 miles/hr will be exempted from speed before calculating.\n",
    "\n",
    "Ex:\n",
    "\n",
    "speed= 83\n",
    "\n",
    "isBirthday='Y'\n",
    "\n",
    "expected result: 'small ticket'"
   ]
  },
  {
   "cell_type": "code",
   "execution_count": 74,
   "metadata": {},
   "outputs": [
    {
     "name": "stdout",
     "output_type": "stream",
     "text": [
      "small ticket\n"
     ]
    }
   ],
   "source": [
    "def calculate_ticket(speed, is_birthday):\n",
    "    if is_birthday == 'Y':\n",
    "        speed -= 5  \n",
    "    \n",
    "    ticket_thresholds = (80, 60)\n",
    "    ticket_descriptions = ('big ticket', 'small ticket')\n",
    "    \n",
    "    for i, threshold in enumerate(ticket_thresholds):\n",
    "        if speed > threshold:\n",
    "            return ticket_descriptions[i]\n",
    "    return 'no ticket'\n",
    "\n",
    "speed = 83\n",
    "is_birthday = 'Y'\n",
    "print(calculate_ticket(speed, is_birthday))  "
   ]
  },
  {
   "cell_type": "markdown",
   "metadata": {},
   "source": [
    "=============================================================="
   ]
  },
  {
   "cell_type": "markdown",
   "metadata": {},
   "source": [
    "-------------------------------"
   ]
  },
  {
   "cell_type": "markdown",
   "metadata": {},
   "source": [
    "# Type Conversion"
   ]
  },
  {
   "cell_type": "code",
   "execution_count": 75,
   "metadata": {},
   "outputs": [
    {
     "data": {
      "text/plain": [
       "[1, 2, 3]"
      ]
     },
     "execution_count": 75,
     "metadata": {},
     "output_type": "execute_result"
    }
   ],
   "source": [
    "# Tuple to List\n",
    "\n",
    "list((1,2,3))"
   ]
  },
  {
   "cell_type": "code",
   "execution_count": 76,
   "metadata": {},
   "outputs": [
    {
     "data": {
      "text/plain": [
       "(1, 2, 3)"
      ]
     },
     "execution_count": 76,
     "metadata": {},
     "output_type": "execute_result"
    }
   ],
   "source": [
    "# List to Tuple\n",
    "\n",
    "tuple([1,2,3])"
   ]
  },
  {
   "cell_type": "code",
   "execution_count": 77,
   "metadata": {},
   "outputs": [
    {
     "data": {
      "text/plain": [
       "['s', 'h', 'e', 'e', 't', 'a', 'l']"
      ]
     },
     "execution_count": 77,
     "metadata": {},
     "output_type": "execute_result"
    }
   ],
   "source": [
    "# List conversion with strings gives us individual characters\n",
    "\n",
    "list('sheetal')"
   ]
  },
  {
   "cell_type": "markdown",
   "metadata": {},
   "source": [
    "Implicit -> auto conversion\n",
    "\n",
    "Explicit -> Manual conversion"
   ]
  },
  {
   "cell_type": "code",
   "execution_count": 78,
   "metadata": {},
   "outputs": [
    {
     "data": {
      "text/plain": [
       "40.5"
      ]
     },
     "execution_count": 78,
     "metadata": {},
     "output_type": "execute_result"
    }
   ],
   "source": [
    "# Implicit type conversion\n",
    "\n",
    "n1=20   # int\n",
    "n2=20.5 # float\n",
    "sum = n1 + n2\n",
    "sum     # float"
   ]
  },
  {
   "cell_type": "code",
   "execution_count": 79,
   "metadata": {},
   "outputs": [
    {
     "name": "stdout",
     "output_type": "stream",
     "text": [
      "After converting to integer base 2 : 18\n"
     ]
    }
   ],
   "source": [
    "# Explicit\n",
    "\n",
    "s = \"10010\"\n",
    "# printing string converting to int base 2\n",
    "c = int(s,2)\n",
    "print (\"After converting to integer base 2 : \", end=\"\")\n",
    "print (c)"
   ]
  },
  {
   "cell_type": "markdown",
   "metadata": {},
   "source": [
    "-----------------------------"
   ]
  },
  {
   "cell_type": "markdown",
   "metadata": {},
   "source": [
    "# Set\n",
    "\n",
    "-> Elimates duplicates\n",
    "\n",
    "-> Mutable\n",
    "\n",
    "-> Can contain elements of different data types\n",
    "\n",
    "-> Unordered\n",
    "\n",
    "-> Indexing is not supported"
   ]
  },
  {
   "cell_type": "code",
   "execution_count": 81,
   "metadata": {},
   "outputs": [
    {
     "data": {
      "text/plain": [
       "{'cyan', 'indigo', 'maroon', 'orange', 'red'}"
      ]
     },
     "execution_count": 81,
     "metadata": {},
     "output_type": "execute_result"
    }
   ],
   "source": [
    "colors = {'orange','red','maroon','cyan','indigo','red','orange'}\n",
    "colors"
   ]
  },
  {
   "cell_type": "code",
   "execution_count": 82,
   "metadata": {},
   "outputs": [
    {
     "name": "stdout",
     "output_type": "stream",
     "text": [
      "indigo\n",
      "cyan\n",
      "maroon\n",
      "red\n",
      "orange\n"
     ]
    }
   ],
   "source": [
    "for c in colors:\n",
    "    print(c)"
   ]
  },
  {
   "cell_type": "code",
   "execution_count": 83,
   "metadata": {},
   "outputs": [
    {
     "ename": "TypeError",
     "evalue": "'set' object is not subscriptable",
     "output_type": "error",
     "traceback": [
      "\u001b[1;31m---------------------------------------------------------------------------\u001b[0m",
      "\u001b[1;31mTypeError\u001b[0m                                 Traceback (most recent call last)",
      "\u001b[1;32m~\\AppData\\Local\\Temp\\ipykernel_8520\\4110793329.py\u001b[0m in \u001b[0;36m<module>\u001b[1;34m\u001b[0m\n\u001b[1;32m----> 1\u001b[1;33m \u001b[0mcolors\u001b[0m\u001b[1;33m[\u001b[0m\u001b[1;36m0\u001b[0m\u001b[1;33m]\u001b[0m\u001b[1;33m\u001b[0m\u001b[1;33m\u001b[0m\u001b[0m\n\u001b[0m",
      "\u001b[1;31mTypeError\u001b[0m: 'set' object is not subscriptable"
     ]
    }
   ],
   "source": [
    "# Indexing is not supported\n",
    "colors[0]"
   ]
  },
  {
   "cell_type": "markdown",
   "metadata": {},
   "source": [
    "Adding and Removing elements"
   ]
  },
  {
   "cell_type": "code",
   "execution_count": 85,
   "metadata": {},
   "outputs": [
    {
     "data": {
      "text/plain": [
       "{'brown', 'cyan', 'indigo', 'maroon', 'orange', 'red'}"
      ]
     },
     "execution_count": 85,
     "metadata": {},
     "output_type": "execute_result"
    }
   ],
   "source": [
    "colors.add('brown')\n",
    "colors"
   ]
  },
  {
   "cell_type": "code",
   "execution_count": 86,
   "metadata": {},
   "outputs": [
    {
     "data": {
      "text/plain": [
       "{'brown', 'indigo', 'maroon', 'orange', 'red'}"
      ]
     },
     "execution_count": 86,
     "metadata": {},
     "output_type": "execute_result"
    }
   ],
   "source": [
    "colors.remove('cyan')\n",
    "colors"
   ]
  },
  {
   "cell_type": "markdown",
   "metadata": {},
   "source": [
    "## Mathematics using Set"
   ]
  },
  {
   "cell_type": "code",
   "execution_count": 91,
   "metadata": {},
   "outputs": [],
   "source": [
    "marketingTeam = {'rishi','shakeer','vyshnavi','prasanna', 'fardeen'}\n",
    "salesTeam = {'shakeer','jayashankar','rajendra','fardeen','vamsi'}"
   ]
  },
  {
   "cell_type": "code",
   "execution_count": 92,
   "metadata": {},
   "outputs": [
    {
     "data": {
      "text/plain": [
       "{'fardeen', 'prasanna', 'rishi', 'shakeer', 'vyshnavi'}"
      ]
     },
     "execution_count": 92,
     "metadata": {},
     "output_type": "execute_result"
    }
   ],
   "source": [
    "marketingTeam"
   ]
  },
  {
   "cell_type": "code",
   "execution_count": 93,
   "metadata": {},
   "outputs": [
    {
     "data": {
      "text/plain": [
       "{'fardeen', 'jayashankar', 'rajendra', 'shakeer', 'vamsi'}"
      ]
     },
     "execution_count": 93,
     "metadata": {},
     "output_type": "execute_result"
    }
   ],
   "source": [
    "salesTeam"
   ]
  },
  {
   "cell_type": "markdown",
   "metadata": {},
   "source": [
    "### 1. Find employees working in both the teams\n",
    "\n",
    "### Intersection"
   ]
  },
  {
   "cell_type": "code",
   "execution_count": 96,
   "metadata": {},
   "outputs": [
    {
     "data": {
      "text/plain": [
       "{'fardeen', 'shakeer'}"
      ]
     },
     "execution_count": 96,
     "metadata": {},
     "output_type": "execute_result"
    }
   ],
   "source": [
    "marketingTeam.intersection(salesTeam)"
   ]
  },
  {
   "cell_type": "code",
   "execution_count": 95,
   "metadata": {},
   "outputs": [
    {
     "data": {
      "text/plain": [
       "{'fardeen', 'shakeer'}"
      ]
     },
     "execution_count": 95,
     "metadata": {},
     "output_type": "execute_result"
    }
   ],
   "source": [
    "marketingTeam & salesTeam"
   ]
  },
  {
   "cell_type": "markdown",
   "metadata": {},
   "source": [
    "### 2. Find marketing team employees only. \n",
    "\n",
    "### Difference"
   ]
  },
  {
   "cell_type": "code",
   "execution_count": 97,
   "metadata": {},
   "outputs": [
    {
     "data": {
      "text/plain": [
       "{'prasanna', 'rishi', 'vyshnavi'}"
      ]
     },
     "execution_count": 97,
     "metadata": {},
     "output_type": "execute_result"
    }
   ],
   "source": [
    "marketingTeam.difference(salesTeam)"
   ]
  },
  {
   "cell_type": "code",
   "execution_count": 98,
   "metadata": {},
   "outputs": [
    {
     "data": {
      "text/plain": [
       "{'prasanna', 'rishi', 'vyshnavi'}"
      ]
     },
     "execution_count": 98,
     "metadata": {},
     "output_type": "execute_result"
    }
   ],
   "source": [
    "marketingTeam - salesTeam"
   ]
  },
  {
   "cell_type": "markdown",
   "metadata": {},
   "source": [
    "### 3. Prepare report including all employees from both team.\n",
    "\n",
    "### Union"
   ]
  },
  {
   "cell_type": "code",
   "execution_count": 99,
   "metadata": {},
   "outputs": [
    {
     "data": {
      "text/plain": [
       "{'fardeen',\n",
       " 'jayashankar',\n",
       " 'prasanna',\n",
       " 'rajendra',\n",
       " 'rishi',\n",
       " 'shakeer',\n",
       " 'vamsi',\n",
       " 'vyshnavi'}"
      ]
     },
     "execution_count": 99,
     "metadata": {},
     "output_type": "execute_result"
    }
   ],
   "source": [
    "marketingTeam.union(salesTeam)"
   ]
  },
  {
   "cell_type": "code",
   "execution_count": 100,
   "metadata": {},
   "outputs": [
    {
     "data": {
      "text/plain": [
       "{'fardeen',\n",
       " 'jayashankar',\n",
       " 'prasanna',\n",
       " 'rajendra',\n",
       " 'rishi',\n",
       " 'shakeer',\n",
       " 'vamsi',\n",
       " 'vyshnavi'}"
      ]
     },
     "execution_count": 100,
     "metadata": {},
     "output_type": "execute_result"
    }
   ],
   "source": [
    "marketingTeam | salesTeam"
   ]
  },
  {
   "cell_type": "markdown",
   "metadata": {},
   "source": [
    "### 4. Find all employees from both team who work for their own team only.\n",
    "\n",
    "### Symmetric Difference"
   ]
  },
  {
   "cell_type": "code",
   "execution_count": 101,
   "metadata": {},
   "outputs": [
    {
     "data": {
      "text/plain": [
       "{'jayashankar', 'prasanna', 'rajendra', 'rishi', 'vamsi', 'vyshnavi'}"
      ]
     },
     "execution_count": 101,
     "metadata": {},
     "output_type": "execute_result"
    }
   ],
   "source": [
    "marketingTeam.symmetric_difference(salesTeam)"
   ]
  },
  {
   "cell_type": "code",
   "execution_count": 102,
   "metadata": {},
   "outputs": [
    {
     "data": {
      "text/plain": [
       "{'jayashankar', 'prasanna', 'rajendra', 'rishi', 'vamsi', 'vyshnavi'}"
      ]
     },
     "execution_count": 102,
     "metadata": {},
     "output_type": "execute_result"
    }
   ],
   "source": [
    "marketingTeam ^ salesTeam"
   ]
  },
  {
   "cell_type": "markdown",
   "metadata": {},
   "source": [
    "#### union vs symmetric difference:\n",
    "\n",
    "-> union includes intersection data too which symmetric difference excludes"
   ]
  },
  {
   "cell_type": "markdown",
   "metadata": {},
   "source": [
    "-------------------------"
   ]
  },
  {
   "cell_type": "markdown",
   "metadata": {},
   "source": [
    "# Dictionary\n",
    "\n",
    "-> syntax: {key:value}\n",
    "\n",
    "-> keys cannot be repeated in a dict (you can repeat value).\n",
    "\n",
    "-> Ordered\n",
    "\n",
    "-> Mutable\n",
    "\n",
    "-> Only immutable types can be used as key. eg. int/float/bool/str/tuple"
   ]
  },
  {
   "cell_type": "code",
   "execution_count": 103,
   "metadata": {},
   "outputs": [
    {
     "data": {
      "text/plain": [
       "dict"
      ]
     },
     "execution_count": 103,
     "metadata": {},
     "output_type": "execute_result"
    }
   ],
   "source": [
    "lang = {'en':'english', 'hi':'hindi', 'fr': 'french'}\n",
    "type(lang)"
   ]
  },
  {
   "cell_type": "code",
   "execution_count": 104,
   "metadata": {},
   "outputs": [
    {
     "data": {
      "text/plain": [
       "{'en': 'english', 'hi': 'hindi', 'fr': 'french'}"
      ]
     },
     "execution_count": 104,
     "metadata": {},
     "output_type": "execute_result"
    }
   ],
   "source": [
    "lang"
   ]
  },
  {
   "cell_type": "code",
   "execution_count": 107,
   "metadata": {},
   "outputs": [],
   "source": [
    "# create empty dict\n",
    "usa = {}"
   ]
  },
  {
   "cell_type": "markdown",
   "metadata": {},
   "source": [
    "## Add key-value pair\n",
    "\n",
    "### dictName[key]=value"
   ]
  },
  {
   "cell_type": "code",
   "execution_count": 109,
   "metadata": {},
   "outputs": [
    {
     "data": {
      "text/plain": [
       "{'Tx': 'Texas', 'Al': 'Alabama'}"
      ]
     },
     "execution_count": 109,
     "metadata": {},
     "output_type": "execute_result"
    }
   ],
   "source": [
    "usa['Tx']='Texas'\n",
    "usa['Al']='Alabama'\n",
    "usa"
   ]
  },
  {
   "cell_type": "markdown",
   "metadata": {},
   "source": [
    "## Add multiple pairs\n",
    "\n",
    "### dictName.update({key:value})"
   ]
  },
  {
   "cell_type": "code",
   "execution_count": 110,
   "metadata": {},
   "outputs": [
    {
     "data": {
      "text/plain": [
       "{'Tx': 'Texas',\n",
       " 'Al': 'Alabama',\n",
       " 'Ca': 'California',\n",
       " 'Il': 'Illinois',\n",
       " 'Hi': 'Hawai'}"
      ]
     },
     "execution_count": 110,
     "metadata": {},
     "output_type": "execute_result"
    }
   ],
   "source": [
    "usa.update({'Ca':'California', 'Il':'Illinois', 'Hi':'Hawai'})\n",
    "usa"
   ]
  },
  {
   "cell_type": "markdown",
   "metadata": {},
   "source": [
    "## Delete key-value pair\n",
    "\n",
    "### del dict[key]"
   ]
  },
  {
   "cell_type": "code",
   "execution_count": 111,
   "metadata": {},
   "outputs": [],
   "source": [
    "del usa['Il']"
   ]
  },
  {
   "cell_type": "code",
   "execution_count": 112,
   "metadata": {},
   "outputs": [
    {
     "data": {
      "text/plain": [
       "{'Tx': 'Texas', 'Al': 'Alabama', 'Ca': 'California', 'Hi': 'Hawai'}"
      ]
     },
     "execution_count": 112,
     "metadata": {},
     "output_type": "execute_result"
    }
   ],
   "source": [
    "usa"
   ]
  },
  {
   "cell_type": "markdown",
   "metadata": {},
   "source": [
    "## Get value from Dict\n",
    "\n",
    "### Method-1: dict[key] -> throws error when non existing key is provided\n",
    "\n",
    "### Method-2: dict.get(key) -> doesnot throws error when non existing key is provided\n",
    "\n",
    ".get() also has a provision to produce a default value when a non existing key is provided.\n",
    "\n",
    ".get(key, default_value) "
   ]
  },
  {
   "cell_type": "code",
   "execution_count": 113,
   "metadata": {},
   "outputs": [
    {
     "data": {
      "text/plain": [
       "'Texas'"
      ]
     },
     "execution_count": 113,
     "metadata": {},
     "output_type": "execute_result"
    }
   ],
   "source": [
    "usa['Tx']"
   ]
  },
  {
   "cell_type": "code",
   "execution_count": 114,
   "metadata": {},
   "outputs": [
    {
     "data": {
      "text/plain": [
       "'Texas'"
      ]
     },
     "execution_count": 114,
     "metadata": {},
     "output_type": "execute_result"
    }
   ],
   "source": [
    "usa.get('Tx')"
   ]
  },
  {
   "cell_type": "code",
   "execution_count": 115,
   "metadata": {},
   "outputs": [
    {
     "data": {
      "text/plain": [
       "'Oops! key not found'"
      ]
     },
     "execution_count": 115,
     "metadata": {},
     "output_type": "execute_result"
    }
   ],
   "source": [
    "# Non-existing key\n",
    "usa.get('xoxo','Oops! key not found')"
   ]
  },
  {
   "cell_type": "code",
   "execution_count": 116,
   "metadata": {},
   "outputs": [
    {
     "data": {
      "text/plain": [
       "'Texas'"
      ]
     },
     "execution_count": 116,
     "metadata": {},
     "output_type": "execute_result"
    }
   ],
   "source": [
    "# Existing key\n",
    "usa.get('Tx','Oops! key not found')"
   ]
  },
  {
   "cell_type": "markdown",
   "metadata": {},
   "source": [
    "## Accessing Elements"
   ]
  },
  {
   "cell_type": "code",
   "execution_count": 117,
   "metadata": {},
   "outputs": [
    {
     "data": {
      "text/plain": [
       "dict_keys(['Tx', 'Al', 'Ca', 'Hi'])"
      ]
     },
     "execution_count": 117,
     "metadata": {},
     "output_type": "execute_result"
    }
   ],
   "source": [
    "usa.keys()"
   ]
  },
  {
   "cell_type": "code",
   "execution_count": 118,
   "metadata": {},
   "outputs": [
    {
     "data": {
      "text/plain": [
       "dict_values(['Texas', 'Alabama', 'California', 'Hawai'])"
      ]
     },
     "execution_count": 118,
     "metadata": {},
     "output_type": "execute_result"
    }
   ],
   "source": [
    "usa.values()"
   ]
  },
  {
   "cell_type": "code",
   "execution_count": 119,
   "metadata": {},
   "outputs": [
    {
     "data": {
      "text/plain": [
       "dict_items([('Tx', 'Texas'), ('Al', 'Alabama'), ('Ca', 'California'), ('Hi', 'Hawai')])"
      ]
     },
     "execution_count": 119,
     "metadata": {},
     "output_type": "execute_result"
    }
   ],
   "source": [
    "usa.items()"
   ]
  },
  {
   "cell_type": "code",
   "execution_count": 120,
   "metadata": {},
   "outputs": [
    {
     "name": "stdout",
     "output_type": "stream",
     "text": [
      "Tx Texas\n",
      "Al Alabama\n",
      "Ca California\n",
      "Hi Hawai\n"
     ]
    }
   ],
   "source": [
    "for key in usa:\n",
    "    print(key, usa[key])"
   ]
  },
  {
   "cell_type": "code",
   "execution_count": 121,
   "metadata": {},
   "outputs": [
    {
     "name": "stdout",
     "output_type": "stream",
     "text": [
      "Tx Texas\n",
      "Al Alabama\n",
      "Ca California\n",
      "Hi Hawai\n"
     ]
    }
   ],
   "source": [
    "for k,v in usa.items():\n",
    "    print(k,v)"
   ]
  },
  {
   "cell_type": "markdown",
   "metadata": {},
   "source": [
    "# ACTIVITY\n",
    "===========================================\n",
    "\n",
    "days=['sun', 'mon', 'tue', 'wed']\n",
    "\n",
    "fruits=['apple','kiwi', 'papaya', 'orange']"
   ]
  },
  {
   "cell_type": "code",
   "execution_count": 126,
   "metadata": {},
   "outputs": [
    {
     "name": "stdout",
     "output_type": "stream",
     "text": [
      "{'sun': 'apple', 'mon': 'kiwi', 'tue': 'papaya', 'wed': 'orange'}\n"
     ]
    }
   ],
   "source": [
    "days=['sun', 'mon', 'tue', 'wed']\n",
    "fruits=['apple','kiwi', 'papaya', 'orange']\n",
    "\n",
    "d = {}\n",
    "for i in range(len(days)):\n",
    "    d[days[i]]=fruits[i]\n",
    "print(d)"
   ]
  },
  {
   "cell_type": "code",
   "execution_count": 125,
   "metadata": {},
   "outputs": [
    {
     "data": {
      "text/plain": [
       "{'sun': 'apple', 'mon': 'kiwi', 'tue': 'papaya', 'wed': 'orange'}"
      ]
     },
     "execution_count": 125,
     "metadata": {},
     "output_type": "execute_result"
    }
   ],
   "source": [
    "days=['sun', 'mon', 'tue', 'wed']\n",
    "fruits=['apple','kiwi', 'papaya', 'orange']\n",
    "mydict={}\n",
    "for d,f in zip(days,fruits):\n",
    "    mydict[d]=f\n",
    "\n",
    "mydict"
   ]
  },
  {
   "cell_type": "markdown",
   "metadata": {},
   "source": [
    "==============================================="
   ]
  },
  {
   "cell_type": "markdown",
   "metadata": {},
   "source": [
    "# ACTIVITY\n",
    "===================================================\n",
    "\n",
    "shop_cart=['orange','peach','apple','kiwi']\n",
    "\n",
    "prices = {\n",
    "    'orange':1.5,\n",
    "    'apple':2,\n",
    "    'peach':3,\n",
    "    'kiwi':4.5\n",
    "}\n",
    "\n",
    "stock={\n",
    "    'orange':24,\n",
    "    'apple':0,\n",
    "    'peach':10,\n",
    "    'kiwi':5\n",
    "}\n",
    "\n",
    "find total bill value for the products in cart, make sure you dont bill products that are out of stock."
   ]
  },
  {
   "cell_type": "code",
   "execution_count": 129,
   "metadata": {},
   "outputs": [
    {
     "name": "stdout",
     "output_type": "stream",
     "text": [
      "9.0\n"
     ]
    }
   ],
   "source": [
    "shop_cart=['orange','peach','apple','kiwi']\n",
    "\n",
    "prices = {\n",
    "    'orange':1.5,\n",
    "    'apple':2,\n",
    "    'peach':3,\n",
    "    'kiwi':4.5\n",
    "}\n",
    " \n",
    "stock={\n",
    "    'orange':24,\n",
    "    'apple':0,\n",
    "    'peach':10,\n",
    "    'kiwi':5\n",
    "}\n",
    "\n",
    "total = 0\n",
    "for i in shop_cart:\n",
    "    if stock[i] > 0:\n",
    "        total += prices[i]\n",
    "        stock[i] -= 1\n",
    "print(total)"
   ]
  },
  {
   "cell_type": "markdown",
   "metadata": {},
   "source": [
    "======================================================"
   ]
  },
  {
   "cell_type": "markdown",
   "metadata": {},
   "source": [
    "------------------------"
   ]
  },
  {
   "cell_type": "markdown",
   "metadata": {},
   "source": [
    "# FILE HANDLING"
   ]
  },
  {
   "cell_type": "code",
   "execution_count": 130,
   "metadata": {},
   "outputs": [
    {
     "name": "stdout",
     "output_type": "stream",
     "text": [
      "File created successfully\n"
     ]
    }
   ],
   "source": [
    "myfile=open('c390.txt','w')\n",
    "myfile.close()\n",
    "print('File created successfully')"
   ]
  },
  {
   "cell_type": "markdown",
   "metadata": {},
   "source": [
    "## Writing data in File\n",
    "\n",
    "### 'w' mode"
   ]
  },
  {
   "cell_type": "code",
   "execution_count": 131,
   "metadata": {},
   "outputs": [
    {
     "name": "stdout",
     "output_type": "stream",
     "text": [
      "File updated! \n"
     ]
    }
   ],
   "source": [
    "myfile=open('c390.txt','w')\n",
    "myfile.write('Hello \\n')\n",
    "myfile.write('My name is Sheetal \\n')\n",
    "myfile.close()\n",
    "print('File updated! ')"
   ]
  },
  {
   "cell_type": "markdown",
   "metadata": {},
   "source": [
    "## Append Mode\n",
    "\n",
    "### 'a' mode\n",
    "\n",
    "prevents file overwriting"
   ]
  },
  {
   "cell_type": "code",
   "execution_count": 132,
   "metadata": {},
   "outputs": [
    {
     "name": "stdout",
     "output_type": "stream",
     "text": [
      "File updated! \n"
     ]
    }
   ],
   "source": [
    "myfile=open('c390.txt','a')\n",
    "myfile.write('I am learning Python \\n')\n",
    "myfile.write('I live in BLR \\n')\n",
    "myfile.close()\n",
    "print('File updated! ')"
   ]
  },
  {
   "cell_type": "markdown",
   "metadata": {},
   "source": [
    "## Reading file\n",
    "\n",
    "### 'r' mode\n",
    "\n",
    "read() -> returns whole content as string\n",
    "\n",
    "readlines() -> returns a list where each line is a list element"
   ]
  },
  {
   "cell_type": "code",
   "execution_count": 133,
   "metadata": {},
   "outputs": [
    {
     "name": "stdout",
     "output_type": "stream",
     "text": [
      "Hello \n",
      "My name is Sheetal \n",
      "I am learning Python \n",
      "I live in BLR \n",
      "\n"
     ]
    }
   ],
   "source": [
    "myfile=open('c390.txt','r')\n",
    "content = myfile.read()   \n",
    "print(content)"
   ]
  },
  {
   "cell_type": "code",
   "execution_count": 134,
   "metadata": {},
   "outputs": [
    {
     "name": "stdout",
     "output_type": "stream",
     "text": [
      "['Hello \\n', 'My name is Sheetal \\n', 'I am learning Python \\n', 'I live in BLR \\n']\n"
     ]
    }
   ],
   "source": [
    "myfile=open('c390.txt','r')\n",
    "content = myfile.readlines()   \n",
    "print(content)"
   ]
  },
  {
   "cell_type": "markdown",
   "metadata": {},
   "source": [
    "# ACTIVITY\n",
    "==================================================\n",
    "\n",
    "Find average of each student from the csv file:\n",
    "\n",
    "Rollno, name, mark1, mark2, mark3\n",
    "\n",
    "101,Shakeer,45,65,87\n",
    "\n",
    "102,sushma,56,87,91\n",
    "\n",
    "103,rishi,58,87,45\n"
   ]
  },
  {
   "cell_type": "code",
   "execution_count": 137,
   "metadata": {},
   "outputs": [
    {
     "name": "stdout",
     "output_type": "stream",
     "text": [
      "['101,Shakeer,45,65,87\\n', '102,sushma,56,87,91\\n', '103,rishi,58,87,45']\n"
     ]
    }
   ],
   "source": [
    "s=open('students.csv','r')\n",
    "content = s.readlines()   \n",
    "print(content)"
   ]
  },
  {
   "cell_type": "code",
   "execution_count": 143,
   "metadata": {},
   "outputs": [
    {
     "name": "stdout",
     "output_type": "stream",
     "text": [
      "Shakeer :  65.66666666666667\n",
      "sushma :  78.0\n",
      "rishi :  63.333333333333336\n"
     ]
    }
   ],
   "source": [
    "f=open('students.csv','r')\n",
    "c = f.readlines()\n",
    "for i in range(0,len(c)):\n",
    "    a=c[i].split(',')\n",
    "    print(a[1],\": \",(int(a[-1])+int(a[-2])+int(a[-3]))/3)\n",
    "\n",
    "f.close()"
   ]
  },
  {
   "cell_type": "markdown",
   "metadata": {},
   "source": [
    "================================================================="
   ]
  },
  {
   "cell_type": "markdown",
   "metadata": {},
   "source": [
    "------------------"
   ]
  },
  {
   "cell_type": "markdown",
   "metadata": {},
   "source": [
    "# Python's best Coding Practices"
   ]
  },
  {
   "cell_type": "markdown",
   "metadata": {},
   "source": [
    "1] List Comrehension\n",
    "\n",
    "2] Dictionary Comprehension\n",
    "\n",
    "Comprehension can be thought of as 'One Liner Expression'"
   ]
  },
  {
   "cell_type": "markdown",
   "metadata": {},
   "source": [
    "## List Comprehension\n",
    "\n",
    "### [ < output expression > < loop > ]"
   ]
  },
  {
   "cell_type": "code",
   "execution_count": 1,
   "metadata": {},
   "outputs": [
    {
     "data": {
      "text/plain": [
       "['*', '*', '*', '*', '*']"
      ]
     },
     "execution_count": 1,
     "metadata": {},
     "output_type": "execute_result"
    }
   ],
   "source": [
    "['*'   for x in range(5)]"
   ]
  },
  {
   "cell_type": "code",
   "execution_count": 4,
   "metadata": {},
   "outputs": [
    {
     "data": {
      "text/plain": [
       "[0, 1, 2, 3, 4, 5, 6, 7, 8, 9]"
      ]
     },
     "execution_count": 4,
     "metadata": {},
     "output_type": "execute_result"
    }
   ],
   "source": [
    "[x   for x in range(10)]"
   ]
  },
  {
   "cell_type": "code",
   "execution_count": 5,
   "metadata": {},
   "outputs": [
    {
     "data": {
      "text/plain": [
       "[1, 2, 3, 4, 5, 6, 7, 8, 9, 10]"
      ]
     },
     "execution_count": 5,
     "metadata": {},
     "output_type": "execute_result"
    }
   ],
   "source": [
    "[x   for x in range(1,11)]"
   ]
  },
  {
   "cell_type": "code",
   "execution_count": 6,
   "metadata": {},
   "outputs": [
    {
     "data": {
      "text/plain": [
       "[1, 4, 9, 16, 25, 36, 49, 64, 81, 100]"
      ]
     },
     "execution_count": 6,
     "metadata": {},
     "output_type": "execute_result"
    }
   ],
   "source": [
    "[x*x   for x in range(1,11)]"
   ]
  },
  {
   "cell_type": "code",
   "execution_count": 7,
   "metadata": {},
   "outputs": [
    {
     "data": {
      "text/plain": [
       "['2 * 1 = 2',\n",
       " '2 * 2 = 4',\n",
       " '2 * 3 = 6',\n",
       " '2 * 4 = 8',\n",
       " '2 * 5 = 10',\n",
       " '2 * 6 = 12',\n",
       " '2 * 7 = 14',\n",
       " '2 * 8 = 16',\n",
       " '2 * 9 = 18',\n",
       " '2 * 10 = 20']"
      ]
     },
     "execution_count": 7,
     "metadata": {},
     "output_type": "execute_result"
    }
   ],
   "source": [
    "[f'2 * {x} = {2*x}'   for x in range(1,11)]"
   ]
  },
  {
   "cell_type": "code",
   "execution_count": 8,
   "metadata": {},
   "outputs": [
    {
     "data": {
      "text/plain": [
       "['red', 'orange', 'maroon', 'indigo', 'cyan']"
      ]
     },
     "execution_count": 8,
     "metadata": {},
     "output_type": "execute_result"
    }
   ],
   "source": [
    "colors = ['red','orange','maroon','indigo','cyan']\n",
    "[c  for c in colors]"
   ]
  },
  {
   "cell_type": "code",
   "execution_count": 9,
   "metadata": {},
   "outputs": [
    {
     "data": {
      "text/plain": [
       "['r', 'o', 'm', 'i', 'c']"
      ]
     },
     "execution_count": 9,
     "metadata": {},
     "output_type": "execute_result"
    }
   ],
   "source": [
    "# first character of each color\n",
    "[c[0]  for c in colors]"
   ]
  },
  {
   "cell_type": "code",
   "execution_count": 10,
   "metadata": {},
   "outputs": [
    {
     "data": {
      "text/plain": [
       "['d', 'e', 'n', 'o', 'n']"
      ]
     },
     "execution_count": 10,
     "metadata": {},
     "output_type": "execute_result"
    }
   ],
   "source": [
    "#Last character of each color\n",
    "[c[-1]  for c in colors]"
   ]
  },
  {
   "cell_type": "code",
   "execution_count": 11,
   "metadata": {},
   "outputs": [
    {
     "data": {
      "text/plain": [
       "['der', 'egnaro', 'nooram', 'ogidni', 'nayc']"
      ]
     },
     "execution_count": 11,
     "metadata": {},
     "output_type": "execute_result"
    }
   ],
   "source": [
    "#reverse each\n",
    "[c[::-1]  for c in colors]"
   ]
  },
  {
   "cell_type": "code",
   "execution_count": 12,
   "metadata": {},
   "outputs": [
    {
     "data": {
      "text/plain": [
       "['RED', 'ORANGE', 'MAROON', 'INDIGO', 'CYAN']"
      ]
     },
     "execution_count": 12,
     "metadata": {},
     "output_type": "execute_result"
    }
   ],
   "source": [
    "#Each in caps\n",
    "[c.upper()  for c in colors]"
   ]
  },
  {
   "cell_type": "code",
   "execution_count": 13,
   "metadata": {},
   "outputs": [
    {
     "data": {
      "text/plain": [
       "['red', 'orange', 'maroon', 'indigo', 'cyan']"
      ]
     },
     "execution_count": 13,
     "metadata": {},
     "output_type": "execute_result"
    }
   ],
   "source": [
    "#Each in lower case\n",
    "[c.lower()  for c in colors]"
   ]
  },
  {
   "cell_type": "markdown",
   "metadata": {},
   "source": [
    "## Comprehension with condition\n",
    "\n",
    "### [ < output-expression >  < loop >   < if-condition > ]"
   ]
  },
  {
   "cell_type": "code",
   "execution_count": 14,
   "metadata": {},
   "outputs": [
    {
     "data": {
      "text/plain": [
       "[0, 1, 2, 3, 4, 5]"
      ]
     },
     "execution_count": 14,
     "metadata": {},
     "output_type": "execute_result"
    }
   ],
   "source": [
    "[x  for x in range(100)  if x<6]"
   ]
  },
  {
   "cell_type": "markdown",
   "metadata": {},
   "source": [
    "### [ < if-result >  < if-condition > < else >  < else-result >  < loop > ]"
   ]
  },
  {
   "cell_type": "code",
   "execution_count": 15,
   "metadata": {},
   "outputs": [
    {
     "data": {
      "text/plain": [
       "['odd', 'even', 'odd', 'even', 'odd']"
      ]
     },
     "execution_count": 15,
     "metadata": {},
     "output_type": "execute_result"
    }
   ],
   "source": [
    "['even'  if x%2==0  else  'odd'  for x in range(1,6)]"
   ]
  },
  {
   "cell_type": "code",
   "execution_count": 16,
   "metadata": {},
   "outputs": [
    {
     "data": {
      "text/plain": [
       "['orange', 'indigo']"
      ]
     },
     "execution_count": 16,
     "metadata": {},
     "output_type": "execute_result"
    }
   ],
   "source": [
    "# vowels in colors list\n",
    "[ c for c in colors if c[0] in 'aeiou' ]"
   ]
  },
  {
   "cell_type": "markdown",
   "metadata": {},
   "source": [
    "# ACTIVITY\n",
    "====================================================\n",
    "\n",
    "Player weights in pounds. \n",
    "\n",
    "Comprehension to print their weights in kg.\n",
    "\n",
    "1pound = 0.45kg"
   ]
  },
  {
   "cell_type": "code",
   "execution_count": 18,
   "metadata": {},
   "outputs": [
    {
     "data": {
      "text/plain": [
       "['110 pounds is 49.5 kg(s)',\n",
       " '120 pounds is 54.0 kg(s)',\n",
       " '130 pounds is 58.5 kg(s)',\n",
       " '140 pounds is 63.0 kg(s)',\n",
       " '150 pounds is 67.5 kg(s)',\n",
       " '160 pounds is 72.0 kg(s)']"
      ]
     },
     "execution_count": 18,
     "metadata": {},
     "output_type": "execute_result"
    }
   ],
   "source": [
    "pw=[110,120,130,140,150,160]\n",
    "\n",
    "[f'{w} pounds is {w*0.45} kg(s)'  for w in pw]"
   ]
  },
  {
   "cell_type": "code",
   "execution_count": 19,
   "metadata": {},
   "outputs": [],
   "source": [
    "karachiBakery= [ ('veg','biscuit'), ('veg','dhokla') ,('nonveg','butterchicken'),('veg','paneer'),('nonveg','prawns')]"
   ]
  },
  {
   "cell_type": "code",
   "execution_count": 22,
   "metadata": {},
   "outputs": [
    {
     "data": {
      "text/plain": [
       "['veg: biscuit', 'veg: dhokla', 'veg: paneer']"
      ]
     },
     "execution_count": 22,
     "metadata": {},
     "output_type": "execute_result"
    }
   ],
   "source": [
    "# Print only veg items\n",
    "\n",
    "[f'veg: {v}' for k,v in karachiBakery if k == 'veg']\n",
    "\n",
    "# [ item[1]  for item in karachiBackery  if item[0]=='veg']"
   ]
  },
  {
   "cell_type": "markdown",
   "metadata": {},
   "source": [
    "==========================================================================="
   ]
  },
  {
   "cell_type": "markdown",
   "metadata": {},
   "source": [
    "## Dictionary Comprehension\n",
    "\n",
    "### { key : value  < loop > }"
   ]
  },
  {
   "cell_type": "code",
   "execution_count": 23,
   "metadata": {},
   "outputs": [
    {
     "data": {
      "text/plain": [
       "{1: '*', 2: '*', 3: '*', 4: '*', 5: '*'}"
      ]
     },
     "execution_count": 23,
     "metadata": {},
     "output_type": "execute_result"
    }
   ],
   "source": [
    "{ x: '*'  for x in range(1,6)}"
   ]
  },
  {
   "cell_type": "code",
   "execution_count": 24,
   "metadata": {},
   "outputs": [
    {
     "data": {
      "text/plain": [
       "{1: 1, 2: 4, 3: 9, 4: 16, 5: 25}"
      ]
     },
     "execution_count": 24,
     "metadata": {},
     "output_type": "execute_result"
    }
   ],
   "source": [
    "{ x: x*x  for x in range(1,6)}"
   ]
  },
  {
   "cell_type": "code",
   "execution_count": 38,
   "metadata": {},
   "outputs": [
    {
     "data": {
      "text/plain": [
       "{110: 49.5, 120: 54.0, 130: 58.5, 140: 63.0, 150: 67.5, 160: 72.0}"
      ]
     },
     "execution_count": 38,
     "metadata": {},
     "output_type": "execute_result"
    }
   ],
   "source": [
    "# key=pounds, value=kg\n",
    "pw=[110,120,130,140,150,160]\n",
    "{ k: k*0.45   for k in pw}"
   ]
  },
  {
   "cell_type": "code",
   "execution_count": 41,
   "metadata": {},
   "outputs": [
    {
     "data": {
      "text/plain": [
       "{'red': 3, 'orange': 6, 'maroon': 6, 'indigo': 6, 'cyan': 4}"
      ]
     },
     "execution_count": 41,
     "metadata": {},
     "output_type": "execute_result"
    }
   ],
   "source": [
    "#key=color, value=number of characters in that color\n",
    "{c:len(c) for c in colors}"
   ]
  },
  {
   "cell_type": "code",
   "execution_count": 30,
   "metadata": {},
   "outputs": [
    {
     "data": {
      "text/plain": [
       "{41: 'fail', 67: 'pass', 32: 'fail', 28: 'fail', 84: 'pass', 76: 'pass'}"
      ]
     },
     "execution_count": 30,
     "metadata": {},
     "output_type": "execute_result"
    }
   ],
   "source": [
    "chotuScores=[41,67,32,28,84,76]\n",
    "# key is score, value is pass/fail\n",
    "\n",
    "{s: 'pass' if s > 44 else 'fail' for s in chotuScores}"
   ]
  },
  {
   "cell_type": "markdown",
   "metadata": {},
   "source": [
    "# Functional Programming\n",
    "\n",
    "Encourages use of functions for solving problems.\n",
    "\n",
    "Advantages of functions:\n",
    "\n",
    "1] Code reusability\n",
    "\n",
    "2] Modular or distributed coding\n",
    "\n",
    "3] Reduced code complexity"
   ]
  },
  {
   "cell_type": "markdown",
   "metadata": {},
   "source": [
    "# Lambda Expression\n",
    "\n",
    "Lambda is a one liner function"
   ]
  },
  {
   "cell_type": "code",
   "execution_count": 31,
   "metadata": {},
   "outputs": [
    {
     "data": {
      "text/plain": [
       "'Good morning'"
      ]
     },
     "execution_count": 31,
     "metadata": {},
     "output_type": "execute_result"
    }
   ],
   "source": [
    "def greet():\n",
    "    return 'Good morning'\n",
    "\n",
    "greet()"
   ]
  },
  {
   "cell_type": "code",
   "execution_count": 35,
   "metadata": {},
   "outputs": [
    {
     "data": {
      "text/plain": [
       "'Good morning'"
      ]
     },
     "execution_count": 35,
     "metadata": {},
     "output_type": "execute_result"
    }
   ],
   "source": [
    "greet1 = lambda : 'Good morning'\n",
    "\n",
    "greet1()"
   ]
  },
  {
   "cell_type": "markdown",
   "metadata": {},
   "source": [
    "### funcName = lambda < input-variable > : < output-expression >"
   ]
  },
  {
   "cell_type": "code",
   "execution_count": 36,
   "metadata": {},
   "outputs": [
    {
     "data": {
      "text/plain": [
       "49"
      ]
     },
     "execution_count": 36,
     "metadata": {},
     "output_type": "execute_result"
    }
   ],
   "source": [
    "getSquare = lambda num:num*num\n",
    "\n",
    "getSquare(7)"
   ]
  },
  {
   "cell_type": "code",
   "execution_count": 37,
   "metadata": {},
   "outputs": [
    {
     "data": {
      "text/plain": [
       "80"
      ]
     },
     "execution_count": 37,
     "metadata": {},
     "output_type": "execute_result"
    }
   ],
   "source": [
    "getForce = lambda mass,acc : mass*acc\n",
    "\n",
    "getForce(10, 8)"
   ]
  },
  {
   "cell_type": "code",
   "execution_count": 40,
   "metadata": {},
   "outputs": [
    {
     "data": {
      "text/plain": [
       "['Pounds= 110, Kgs= 49.5',\n",
       " 'Pounds= 120, Kgs= 54.0',\n",
       " 'Pounds= 130, Kgs= 58.5',\n",
       " 'Pounds= 140, Kgs= 63.0',\n",
       " 'Pounds= 150, Kgs= 67.5',\n",
       " 'Pounds= 160, Kgs= 72.0']"
      ]
     },
     "execution_count": 40,
     "metadata": {},
     "output_type": "execute_result"
    }
   ],
   "source": [
    "pw=[110,120,130,140,150,160]\n",
    "lbstokg = lambda lbs: lbs*0.45\n",
    "[f'Pounds= {w}, Kgs= {lbstokg(w)}' for w in pw]"
   ]
  },
  {
   "cell_type": "markdown",
   "metadata": {},
   "source": [
    "# ACTIVITY\n",
    "==================================================\n",
    "\n",
    "1] °C = (°F - 32) × 5/9"
   ]
  },
  {
   "cell_type": "code",
   "execution_count": 46,
   "metadata": {},
   "outputs": [
    {
     "data": {
      "text/plain": [
       "26.67"
      ]
     },
     "execution_count": 46,
     "metadata": {},
     "output_type": "execute_result"
    }
   ],
   "source": [
    "convert = lambda f: round((f-32)*(5/9),2)\n",
    "convert(80)"
   ]
  },
  {
   "cell_type": "markdown",
   "metadata": {},
   "source": [
    "2] Send invitations to scientists:\n",
    "\n",
    "Dear Mr. Name \n",
    "\n",
    "Dear Mr. Name"
   ]
  },
  {
   "cell_type": "code",
   "execution_count": 58,
   "metadata": {},
   "outputs": [
    {
     "data": {
      "text/plain": [
       "['Dear Mr. Edison. T',\n",
       " 'Dear Mr. Ohm. G',\n",
       " 'Dear Mr. Dalton. J',\n",
       " 'Dear Mr. Dulong. P']"
      ]
     },
     "execution_count": 58,
     "metadata": {},
     "output_type": "execute_result"
    }
   ],
   "source": [
    "scientists= 'Thomas Edison,Georg Simon Ohm,John Dalton,Pierre Louis Dulong'\n",
    "[f'Dear Mr. {name.split()[-1]}. {name[0]}' for name in scientists.split(',')]"
   ]
  },
  {
   "cell_type": "markdown",
   "metadata": {},
   "source": [
    "========================================================================="
   ]
  },
  {
   "cell_type": "markdown",
   "metadata": {},
   "source": [
    "# ACTIVITY\n",
    "===========================================================\n",
    "\n",
    "1] Take any input from user \n",
    "\n",
    "2] reverse the input\n",
    "\n",
    "3] Replace vowels as per the details below:\n",
    "\n",
    "a -> 0\n",
    "\n",
    "e -> 1\n",
    "\n",
    "i -> 2\n",
    "\n",
    "0 -> 3\n",
    "\n",
    "u -> 4\n",
    "\n",
    "4] add 'aca' at the end\n",
    "\n",
    "apple -> 1lpp0aca"
   ]
  },
  {
   "cell_type": "code",
   "execution_count": 4,
   "metadata": {},
   "outputs": [
    {
     "name": "stdout",
     "output_type": "stream",
     "text": [
      "l0t11hsaca\n"
     ]
    }
   ],
   "source": [
    "s = input('Enter a string: ')\n",
    "reverse = s[::-1]\n",
    "vowel = {'a': '0', 'e': '1', 'i': '2', 'o': '3', 'u': '4'}\n",
    "replace = ''.join(vowel.get(r, r) for r in reverse)\n",
    "result = replace + 'aca'\n",
    "print(result)"
   ]
  },
  {
   "cell_type": "markdown",
   "metadata": {},
   "source": [
    "============================================================"
   ]
  },
  {
   "cell_type": "markdown",
   "metadata": {},
   "source": [
    "# MAP, FILTER, REDUCE"
   ]
  },
  {
   "cell_type": "markdown",
   "metadata": {},
   "source": [
    "## MAP\n",
    "\n",
    "map function maps each element of a given list to a function and produces a new ResultSet.\n",
    "\n",
    "map ( function , data )"
   ]
  },
  {
   "cell_type": "code",
   "execution_count": 1,
   "metadata": {},
   "outputs": [
    {
     "data": {
      "text/plain": [
       "<map at 0x28140844d08>"
      ]
     },
     "execution_count": 1,
     "metadata": {},
     "output_type": "execute_result"
    }
   ],
   "source": [
    "# find the square using map\n",
    "# data -> 2,4,5,3,6\n",
    "# function -> lambda num: num*num\n",
    "\n",
    "map(lambda n: n*n, [2,4,5,3,6])"
   ]
  },
  {
   "cell_type": "code",
   "execution_count": 2,
   "metadata": {},
   "outputs": [
    {
     "data": {
      "text/plain": [
       "{4, 9, 16, 25, 36}"
      ]
     },
     "execution_count": 2,
     "metadata": {},
     "output_type": "execute_result"
    }
   ],
   "source": [
    "set(map ( lambda num: num*num, [2, 4, 5, 3, 6] ))"
   ]
  },
  {
   "cell_type": "code",
   "execution_count": 7,
   "metadata": {},
   "outputs": [
    {
     "data": {
      "text/plain": [
       "[4, 16, 25, 9, 36]"
      ]
     },
     "execution_count": 7,
     "metadata": {},
     "output_type": "execute_result"
    }
   ],
   "source": [
    "list(map ( lambda num: num*num, [2, 4, 5, 3, 6] ))"
   ]
  },
  {
   "cell_type": "code",
   "execution_count": 9,
   "metadata": {},
   "outputs": [
    {
     "data": {
      "text/plain": [
       "{2: 4, 4: 16, 5: 25, 3: 9, 6: 36}"
      ]
     },
     "execution_count": 9,
     "metadata": {},
     "output_type": "execute_result"
    }
   ],
   "source": [
    "dict(map ( lambda num: (num,num*num), [2, 4, 5, 3, 6] ))"
   ]
  },
  {
   "cell_type": "code",
   "execution_count": 10,
   "metadata": {},
   "outputs": [
    {
     "data": {
      "text/plain": [
       "(4, 16, 25, 9, 36)"
      ]
     },
     "execution_count": 10,
     "metadata": {},
     "output_type": "execute_result"
    }
   ],
   "source": [
    "tuple(map ( lambda num: num*num, [2, 4, 5, 3, 6] ))"
   ]
  },
  {
   "cell_type": "code",
   "execution_count": 11,
   "metadata": {},
   "outputs": [
    {
     "data": {
      "text/plain": [
       "[2.2, 4.21, 4.1]"
      ]
     },
     "execution_count": 11,
     "metadata": {},
     "output_type": "execute_result"
    }
   ],
   "source": [
    "dirtyData=['2.2','4.21','4.1']\n",
    "list(map(float, dirtyData))"
   ]
  },
  {
   "cell_type": "code",
   "execution_count": 13,
   "metadata": {},
   "outputs": [
    {
     "data": {
      "text/plain": [
       "[3, 6, 6, 6, 4]"
      ]
     },
     "execution_count": 13,
     "metadata": {},
     "output_type": "execute_result"
    }
   ],
   "source": [
    "colors = ['red','orange','maroon','indigo','cyan']\n",
    "list(map(len, colors))"
   ]
  },
  {
   "cell_type": "markdown",
   "metadata": {},
   "source": [
    "# ACTIVITY\n",
    "=================================================================\n",
    "\n",
    "Salary data of 6 employees. \n",
    "\n",
    "salaries = [5500, 8700, 9400, 4300, 8900, 4400]\n",
    "\n",
    "Use map function to increment each salary by 16% and print the incremented salary."
   ]
  },
  {
   "cell_type": "code",
   "execution_count": 17,
   "metadata": {},
   "outputs": [
    {
     "data": {
      "text/plain": [
       "[6380.0, 10092.0, 10904.0, 4988.0, 10324.0, 5104.0]"
      ]
     },
     "execution_count": 17,
     "metadata": {},
     "output_type": "execute_result"
    }
   ],
   "source": [
    "salaries = [5500, 8700, 9400, 4300, 8900, 4400]\n",
    "list(map(lambda n:n+(n*0.16), salaries))"
   ]
  },
  {
   "cell_type": "markdown",
   "metadata": {},
   "source": [
    "===================================================================================="
   ]
  },
  {
   "cell_type": "markdown",
   "metadata": {},
   "source": [
    "## Filter\n",
    "\n",
    "filter is used to extract subset of original data.\n",
    "\n",
    "filter ( bool_func, data )"
   ]
  },
  {
   "cell_type": "code",
   "execution_count": 21,
   "metadata": {},
   "outputs": [
    {
     "data": {
      "text/plain": [
       "[4, 8]"
      ]
     },
     "execution_count": 21,
     "metadata": {},
     "output_type": "execute_result"
    }
   ],
   "source": [
    "# Print even number\n",
    "ans = list(filter( lambda n:n%2==0, [1,4,5,9,8,3]))\n",
    "ans"
   ]
  },
  {
   "cell_type": "code",
   "execution_count": 23,
   "metadata": {},
   "outputs": [
    {
     "data": {
      "text/plain": [
       "['orange', 'indigo']"
      ]
     },
     "execution_count": 23,
     "metadata": {},
     "output_type": "execute_result"
    }
   ],
   "source": [
    "# Print strings starting with a vowel\n",
    "colors = ['red','orange','maroon','indigo','cyan']\n",
    "list(filter(lambda c: c[0] in 'aeiou', colors))"
   ]
  },
  {
   "cell_type": "code",
   "execution_count": 27,
   "metadata": {},
   "outputs": [
    {
     "data": {
      "text/plain": [
       "[100, 200, 300]"
      ]
     },
     "execution_count": 27,
     "metadata": {},
     "output_type": "execute_result"
    }
   ],
   "source": [
    "# Print only integers\n",
    "garbage = [100, True, 200, False, 300, 'hello']\n",
    "list(filter(lambda i: type(i)==int, garbage))"
   ]
  },
  {
   "cell_type": "markdown",
   "metadata": {},
   "source": [
    "## Reduce\n",
    "\n",
    "Reduce is only used to aggregate data. \n",
    "\n",
    "-> You will only use reduce when you are looking or facts like max/ min/ sum etc.\n",
    "\n",
    "reduce ( function , data )\n",
    "\n",
    "-> import from functools\n",
    "\n",
    "-> The input data is always 2"
   ]
  },
  {
   "cell_type": "code",
   "execution_count": 28,
   "metadata": {},
   "outputs": [],
   "source": [
    "from functools import reduce"
   ]
  },
  {
   "cell_type": "code",
   "execution_count": 29,
   "metadata": {},
   "outputs": [
    {
     "data": {
      "text/plain": [
       "30"
      ]
     },
     "execution_count": 29,
     "metadata": {},
     "output_type": "execute_result"
    }
   ],
   "source": [
    "# sum of list\n",
    "reduce(lambda x,y: x+y, [8,4,5,7,6])\n",
    "\n",
    "\"\"\"\n",
    "Explanation:\n",
    "x   y\n",
    "8   4    x+y gives 12\n",
    "12  5    x+y gives 17\n",
    "17  7    x+y gives 24\n",
    "12  6    x+y gives 30\n",
    "\n",
    "reduce function is designed to return x as final result i.e. 30\n",
    "\"\"\""
   ]
  },
  {
   "cell_type": "code",
   "execution_count": 30,
   "metadata": {},
   "outputs": [
    {
     "data": {
      "text/plain": [
       "9"
      ]
     },
     "execution_count": 30,
     "metadata": {},
     "output_type": "execute_result"
    }
   ],
   "source": [
    "# Find max score\n",
    "\n",
    "scores = [4,1,2,6,5,3,9]\n",
    "reduce(lambda x,y: x if x>y else y, scores)\n",
    "\n",
    "\"\"\"\n",
    "Explanation:\n",
    "x   y\n",
    "4   1    gives 4\n",
    "4   2    gives 4\n",
    "4   6    gives 6\n",
    "6   5    gives 6\n",
    "6   3    gives 6\n",
    "6   9    gives 9\n",
    "9\n",
    "\"\"\""
   ]
  },
  {
   "cell_type": "code",
   "execution_count": 31,
   "metadata": {},
   "outputs": [
    {
     "data": {
      "text/plain": [
       "1"
      ]
     },
     "execution_count": 31,
     "metadata": {},
     "output_type": "execute_result"
    }
   ],
   "source": [
    "# Find min score\n",
    "scores = [4,1,2,6,5,3,9]\n",
    "reduce(lambda x,y: x if x<y else y, scores)"
   ]
  },
  {
   "cell_type": "markdown",
   "metadata": {},
   "source": [
    "# ACTIVITY\n",
    "===================================\n",
    "\n",
    "Load the dataset"
   ]
  },
  {
   "cell_type": "code",
   "execution_count": 32,
   "metadata": {},
   "outputs": [
    {
     "data": {
      "text/plain": [
       "['Stock Price\\n',\n",
       " '50.12\\n',\n",
       " '54.1\\n',\n",
       " '54.65\\n',\n",
       " '52.38\\n',\n",
       " '52.95\\n',\n",
       " '53.9\\n',\n",
       " '53.02\\n',\n",
       " '50.95\\n',\n",
       " '51.13\\n',\n",
       " '50.07\\n',\n",
       " '50.7\\n',\n",
       " '49.95\\n',\n",
       " '50.74\\n',\n",
       " '51.1\\n',\n",
       " '51.1\\n',\n",
       " '52.61\\n',\n",
       " '53.7\\n',\n",
       " '55.69\\n',\n",
       " '55.94\\n',\n",
       " '56.93\\n',\n",
       " '58.69\\n',\n",
       " '59.62\\n',\n",
       " '58.86\\n',\n",
       " '59.13\\n',\n",
       " '60.35\\n',\n",
       " '59.86\\n',\n",
       " '59.07\\n',\n",
       " '63.37\\n',\n",
       " '65.47\\n',\n",
       " '64.74\\n',\n",
       " '66.22\\n',\n",
       " '67.46\\n',\n",
       " '69.12\\n',\n",
       " '68.47\\n',\n",
       " '69.36\\n',\n",
       " '68.8\\n',\n",
       " '67.56\\n',\n",
       " '68.63\\n',\n",
       " '70.38\\n',\n",
       " '70.93\\n',\n",
       " '71.98\\n',\n",
       " '74.51\\n',\n",
       " '73.9\\n',\n",
       " '70.17\\n',\n",
       " '74.62\\n',\n",
       " '86.13\\n',\n",
       " '93.61\\n',\n",
       " '90.81\\n',\n",
       " '92.89\\n',\n",
       " '96.55\\n',\n",
       " '95.22\\n',\n",
       " '97.92\\n',\n",
       " '97.34\\n',\n",
       " '95.74\\n',\n",
       " '92.26\\n',\n",
       " '84.59\\n',\n",
       " '86.19\\n',\n",
       " '84.27\\n',\n",
       " '83.85\\n',\n",
       " '91.42\\n',\n",
       " '90.91\\n',\n",
       " '92.34\\n',\n",
       " '86.19\\n',\n",
       " '86.16\\n',\n",
       " '83.69\\n',\n",
       " '84.62\\n',\n",
       " '82.47\\n',\n",
       " '83.68\\n',\n",
       " '87.29\\n',\n",
       " '89.61\\n',\n",
       " '90.43\\n',\n",
       " '90.9\\n',\n",
       " '89.89\\n',\n",
       " '89.61\\n',\n",
       " '90.11\\n',\n",
       " '88.06\\n',\n",
       " '85.63\\n',\n",
       " '84.91\\n',\n",
       " '86.63\\n',\n",
       " '85.74\\n',\n",
       " '85.14\\n',\n",
       " '89.26\\n',\n",
       " '89.8\\n',\n",
       " '88.15\\n',\n",
       " '89.95\\n',\n",
       " '92.42\\n',\n",
       " '91.78\\n',\n",
       " '93.06\\n',\n",
       " '93.86\\n',\n",
       " '95.86\\n',\n",
       " '96.28\\n',\n",
       " '96.35\\n',\n",
       " '98.7\\n',\n",
       " '96.3\\n',\n",
       " '101.25\\n',\n",
       " '97.15\\n',\n",
       " '96.66\\n',\n",
       " '94.18\\n',\n",
       " '96.83\\n',\n",
       " '97.43\\n',\n",
       " '96.67\\n',\n",
       " '97.59\\n',\n",
       " '97.57\\n',\n",
       " '99.89\\n',\n",
       " '101.85\\n',\n",
       " '98.55\\n',\n",
       " '96.86\\n',\n",
       " '94.05\\n',\n",
       " '90.27\\n',\n",
       " '88.47\\n',\n",
       " '94.53\\n',\n",
       " '93.95\\n',\n",
       " '95.07\\n',\n",
       " '97.71\\n',\n",
       " '95.85\\n',\n",
       " '102.88\\n',\n",
       " '105.32\\n',\n",
       " '102.08\\n',\n",
       " '97.92\\n',\n",
       " '99.22\\n',\n",
       " '95.69\\n',\n",
       " '93.9\\n',\n",
       " '93.61\\n',\n",
       " '96.4\\n',\n",
       " '97.52\\n',\n",
       " '99.11\\n',\n",
       " '98.85\\n',\n",
       " '98.88\\n',\n",
       " '95.59\\n',\n",
       " '96.88\\n',\n",
       " '94.35\\n',\n",
       " '92.84\\n',\n",
       " '93.9\\n',\n",
       " '92.94\\n',\n",
       " '92.5\\n',\n",
       " '93.41\\n',\n",
       " '92.86\\n',\n",
       " '94.31\\n',\n",
       " '92.51\\n',\n",
       " '90.58\\n',\n",
       " '89.9\\n',\n",
       " '88.81\\n',\n",
       " '87.41\\n',\n",
       " '89.22\\n',\n",
       " '87.71\\n',\n",
       " '89.56\\n',\n",
       " '89.93\\n',\n",
       " '90.35\\n',\n",
       " '89.21\\n',\n",
       " '89.4\\n',\n",
       " '89.54\\n',\n",
       " '90.62\\n',\n",
       " '89.7\\n',\n",
       " '90.13\\n',\n",
       " '90.16\\n',\n",
       " '89.93\\n',\n",
       " '92.55\\n',\n",
       " '94.19\\n',\n",
       " '94.52\\n',\n",
       " '96.78\\n',\n",
       " '95.93\\n',\n",
       " '96.52\\n',\n",
       " '96.88\\n',\n",
       " '96.37\\n',\n",
       " '95.63\\n',\n",
       " '92.41\\n',\n",
       " '93.39\\n',\n",
       " '95.6\\n',\n",
       " '98.95\\n',\n",
       " '102.01\\n',\n",
       " '107.8\\n',\n",
       " '111.65\\n',\n",
       " '109.27\\n',\n",
       " '109.78\\n',\n",
       " '109.62\\n',\n",
       " '109.89\\n',\n",
       " '111.03\\n',\n",
       " '112.98\\n',\n",
       " '114.14\\n',\n",
       " '113.38\\n',\n",
       " '113.9\\n',\n",
       " '112.9\\n',\n",
       " '113.79\\n',\n",
       " '115.53\\n',\n",
       " '114.25\\n',\n",
       " '114.51\\n',\n",
       " '115.41\\n',\n",
       " '116.45\\n',\n",
       " '119.46\\n',\n",
       " '119.47\\n',\n",
       " '120.68\\n',\n",
       " '127.6\\n',\n",
       " '127.87\\n',\n",
       " '130.27\\n',\n",
       " '129.47\\n',\n",
       " '132.87\\n',\n",
       " '138.5\\n',\n",
       " '143.86\\n',\n",
       " '143.81\\n',\n",
       " '139.99\\n',\n",
       " '145.32\\n',\n",
       " '146.41\\n',\n",
       " '139.64\\n',\n",
       " '143.01\\n',\n",
       " '141.11\\n',\n",
       " '141.23\\n',\n",
       " '139.04\\n',\n",
       " '137.26\\n',\n",
       " '138.58\\n',\n",
       " '140\\n',\n",
       " '143.21\\n',\n",
       " '143.78\\n',\n",
       " '144.51\\n',\n",
       " '144.71\\n',\n",
       " '148.48\\n',\n",
       " '151.9\\n',\n",
       " '150.85\\n',\n",
       " '146.21\\n',\n",
       " '146.93\\n',\n",
       " '145.48\\n',\n",
       " '147.71\\n',\n",
       " '145.62\\n',\n",
       " '147.62\\n',\n",
       " '147.97\\n',\n",
       " '146.53\\n',\n",
       " '145.75\\n',\n",
       " '149.28\\n',\n",
       " '150.29\\n',\n",
       " '150.44\\n',\n",
       " '149.62\\n',\n",
       " '154.8\\n',\n",
       " '155.84\\n',\n",
       " '156.81\\n',\n",
       " '151.05\\n',\n",
       " '147.78\\n',\n",
       " '147.9\\n',\n",
       " '148.32\\n',\n",
       " '146.6\\n',\n",
       " '143.74\\n',\n",
       " '145.66\\n',\n",
       " '149.45\\n',\n",
       " '148.5\\n',\n",
       " '148.72\\n',\n",
       " '146.03\\n',\n",
       " '145.48\\n',\n",
       " '145.64\\n',\n",
       " '142.7\\n',\n",
       " '141.88\\n',\n",
       " '144.72\\n',\n",
       " '141.86\\n',\n",
       " '142.68\\n',\n",
       " '142.41\\n',\n",
       " '139.86\\n',\n",
       " '139.86\\n',\n",
       " '136.87\\n',\n",
       " '139.65\\n',\n",
       " '141.14\\n',\n",
       " '141.15\\n',\n",
       " '141.65\\n',\n",
       " '144.08\\n',\n",
       " '143.49\\n',\n",
       " '142.86\\n',\n",
       " '142.98\\n',\n",
       " '144.08\\n',\n",
       " '143.41\\n',\n",
       " '147.29\\n',\n",
       " '147.55\\n',\n",
       " '149.4\\n',\n",
       " '154.72\\n',\n",
       " '155.68\\n',\n",
       " '151.35\\n',\n",
       " '151.16\\n',\n",
       " '149.95\\n',\n",
       " '151.74\\n',\n",
       " '153.8\\n',\n",
       " '155.79\\n',\n",
       " '155.53\\n',\n",
       " '157.52\\n',\n",
       " '156.98\\n',\n",
       " '156.81\\n',\n",
       " '152.85\\n',\n",
       " '154.66\\n',\n",
       " '158.07\\n',\n",
       " '159.18\\n',\n",
       " '155.34\\n',\n",
       " '155.2\\n',\n",
       " '156.22\\n',\n",
       " '156.34\\n',\n",
       " '155.17\\n',\n",
       " '152.9\\n',\n",
       " '150.33\\n',\n",
       " '148.57\\n',\n",
       " '147.92\\n',\n",
       " '152.35\\n',\n",
       " '151.49\\n',\n",
       " '154.2\\n',\n",
       " '151.45\\n',\n",
       " '169.78\\n',\n",
       " '174.15\\n',\n",
       " '173.28\\n',\n",
       " '177.54\\n',\n",
       " '176.35\\n',\n",
       " '178.91\\n',\n",
       " '185.88\\n',\n",
       " '189.5\\n',\n",
       " '189.65\\n',\n",
       " '192.78\\n',\n",
       " '195.02\\n',\n",
       " '197.32\\n',\n",
       " '194.76\\n',\n",
       " '189.39\\n',\n",
       " '195.35\\n',\n",
       " '195\\n',\n",
       " '198.29\\n',\n",
       " '196.2\\n',\n",
       " '198.88\\n',\n",
       " '201.52\\n',\n",
       " '199.9\\n',\n",
       " '204.48\\n',\n",
       " '208.03\\n',\n",
       " '211.22\\n',\n",
       " '214.1\\n',\n",
       " '211.53\\n',\n",
       " '201.57\\n',\n",
       " '202.25\\n',\n",
       " '206.84\\n',\n",
       " '208.64\\n',\n",
       " '202.72\\n',\n",
       " '202.07\\n',\n",
       " '201.91\\n',\n",
       " '205.12\\n',\n",
       " '204.4\\n',\n",
       " '206.1\\n',\n",
       " '208.54\\n',\n",
       " '209.27\\n',\n",
       " '211.05\\n',\n",
       " '214.86\\n',\n",
       " '212.09\\n',\n",
       " '214.66\\n',\n",
       " '212.95\\n',\n",
       " '215.8\\n',\n",
       " '215.25\\n',\n",
       " '212.11\\n',\n",
       " '213.13\\n',\n",
       " '209.86\\n',\n",
       " '207.22\\n',\n",
       " '217.4\\n',\n",
       " '222.4\\n',\n",
       " '225.39\\n',\n",
       " '232.6\\n',\n",
       " '233.22\\n',\n",
       " '234.65\\n',\n",
       " '235.58\\n',\n",
       " '231.58\\n',\n",
       " '232.89\\n',\n",
       " '233.32\\n',\n",
       " '222.23\\n',\n",
       " '218\\n',\n",
       " '199.53\\n',\n",
       " '213.54\\n',\n",
       " '221.29\\n',\n",
       " '216.28\\n',\n",
       " '216.92\\n',\n",
       " '216.53\\n',\n",
       " '213.2\\n',\n",
       " '216.11\\n',\n",
       " '200.69\\n',\n",
       " '197.82\\n',\n",
       " '190.59\\n',\n",
       " '192.36\\n',\n",
       " '183.78\\n',\n",
       " '184.36\\n',\n",
       " '179.21\\n',\n",
       " '181.12\\n',\n",
       " '172.68\\n',\n",
       " '171.49\\n',\n",
       " '171.02\\n',\n",
       " '183.05\\n',\n",
       " '184.19\\n',\n",
       " '183.11\\n',\n",
       " '182.56\\n',\n",
       " '188.85\\n',\n",
       " '188.51\\n',\n",
       " '194.99\\n',\n",
       " '181.13\\n',\n",
       " '182.22\\n',\n",
       " '188.04\\n',\n",
       " '188.9\\n',\n",
       " '183.87\\n',\n",
       " '182.04\\n',\n",
       " '176.76\\n',\n",
       " '171.33\\n',\n",
       " '168.58\\n',\n",
       " '168.36\\n',\n",
       " '175.4\\n',\n",
       " '172.08\\n',\n",
       " '169.22\\n',\n",
       " '169.73\\n',\n",
       " '173.92\\n',\n",
       " '169.79\\n',\n",
       " '169.94\\n',\n",
       " '170.77\\n',\n",
       " '182.72\\n',\n",
       " '184.66\\n',\n",
       " '188.41\\n',\n",
       " '197.29\\n',\n",
       " '194.03\\n',\n",
       " '194.8\\n',\n",
       " '194.66\\n',\n",
       " '201.97\\n',\n",
       " '203.79\\n',\n",
       " '205.38\\n',\n",
       " '202.88\\n',\n",
       " '207.98\\n',\n",
       " '204.63\\n',\n",
       " '204.27\\n',\n",
       " '200.88\\n',\n",
       " '203.21\\n',\n",
       " '201.92\\n',\n",
       " '205.04\\n',\n",
       " '207.29\\n',\n",
       " '218.33\\n',\n",
       " '220.03\\n',\n",
       " '213.37\\n',\n",
       " '212.77\\n',\n",
       " '209.8\\n',\n",
       " '208.76\\n',\n",
       " '199.25\\n',\n",
       " '197.2\\n',\n",
       " '196.89\\n',\n",
       " '197.18\\n',\n",
       " '196.95\\n',\n",
       " '197.19\\n',\n",
       " '204.2\\n',\n",
       " '201.29\\n',\n",
       " '193.31\\n',\n",
       " '186.88\\n',\n",
       " '187.91\\n',\n",
       " '185.46\\n',\n",
       " '187.06\\n',\n",
       " '185.31\\n',\n",
       " '184.82\\n',\n",
       " '185.29\\n',\n",
       " '187.6\\n',\n",
       " '190.43\\n',\n",
       " '191.3\\n',\n",
       " '190.48\\n',\n",
       " '185.78\\n',\n",
       " '185.72\\n',\n",
       " '191.12\\n',\n",
       " '189.53\\n',\n",
       " '187.03\\n',\n",
       " '194.8\\n',\n",
       " '193.06\\n',\n",
       " '196.45\\n',\n",
       " '193.09\\n',\n",
       " '190.58\\n',\n",
       " '193.07\\n',\n",
       " '192\\n',\n",
       " '195.3\\n',\n",
       " '195.15\\n',\n",
       " '193.88\\n',\n",
       " '193.39\\n',\n",
       " '200.86\\n',\n",
       " '199.78\\n',\n",
       " '202.23\\n',\n",
       " '201.91\\n',\n",
       " '200.96\\n',\n",
       " '202.85\\n',\n",
       " '208.7\\n',\n",
       " '209.46\\n',\n",
       " '211.39\\n',\n",
       " '210.52\\n',\n",
       " '211.38\\n',\n",
       " '210.01\\n',\n",
       " '208.89\\n',\n",
       " '212.07\\n',\n",
       " '208.42\\n',\n",
       " '204.21\\n',\n",
       " '201.55\\n',\n",
       " '203.74\\n',\n",
       " '201.32\\n',\n",
       " '199.3\\n',\n",
       " '193.37\\n',\n",
       " '194.86\\n',\n",
       " '195.25\\n',\n",
       " '194.49\\n',\n",
       " '192.56\\n',\n",
       " '191.01\\n',\n",
       " '193.87\\n',\n",
       " '193.11\\n',\n",
       " '187.57\\n',\n",
       " '183.43\\n',\n",
       " '187.51\\n',\n",
       " '186.74\\n',\n",
       " '188.79\\n',\n",
       " '190.31\\n',\n",
       " '188.28\\n',\n",
       " '186.91\\n',\n",
       " '184.07\\n',\n",
       " '184.53\\n',\n",
       " '190.29\\n',\n",
       " '193.67\\n',\n",
       " '192.71\\n',\n",
       " '191.49\\n',\n",
       " '188.46\\n',\n",
       " '188.96\\n',\n",
       " '186.53\\n',\n",
       " '186.68\\n',\n",
       " '186.44\\n',\n",
       " '190.28\\n',\n",
       " '189.29\\n',\n",
       " '190.18\\n',\n",
       " '189.08\\n',\n",
       " '189.11\\n',\n",
       " '191.99\\n',\n",
       " '189.88\\n',\n",
       " '189.06\\n',\n",
       " '188.74\\n',\n",
       " '191.85\\n',\n",
       " '195.75\\n',\n",
       " '203.08\\n',\n",
       " '201.79\\n',\n",
       " '204.74\\n',\n",
       " '207.14\\n',\n",
       " '201.7\\n',\n",
       " '198.3\\n',\n",
       " '203.22\\n',\n",
       " '201.69\\n',\n",
       " '201.79\\n',\n",
       " '203.23\\n',\n",
       " '201.26\\n',\n",
       " '201.59\\n',\n",
       " '200.75\\n',\n",
       " '200.52\\n',\n",
       " '201.82\\n',\n",
       " '207.64\\n',\n",
       " '205.7\\n',\n",
       " '210.04\\n',\n",
       " '214.29\\n',\n",
       " '213.11\\n',\n",
       " '213.04\\n',\n",
       " '213.51\\n',\n",
       " '213.44\\n',\n",
       " '210.66\\n',\n",
       " '210.11\\n',\n",
       " '209.44\\n',\n",
       " '212.82\\n',\n",
       " '229.61\\n',\n",
       " '240.15\\n',\n",
       " '236.42\\n',\n",
       " '243.06\\n',\n",
       " '242.31\\n',\n",
       " '237.36\\n',\n",
       " '238.05\\n',\n",
       " '237.96\\n',\n",
       " '233.52\\n',\n",
       " '234.72\\n',\n",
       " '235.66\\n',\n",
       " '238.24\\n',\n",
       " '236.05\\n',\n",
       " '237.26\\n',\n",
       " '236.08\\n',\n",
       " '236.54\\n',\n",
       " '240.27\\n',\n",
       " '244.41\\n',\n",
       " '245.72\\n',\n",
       " '247.7\\n',\n",
       " '249.15\\n',\n",
       " '247.28\\n',\n",
       " '254.57\\n',\n",
       " '253.75\\n',\n",
       " '252.2\\n',\n",
       " '242.13\\n',\n",
       " '244.51\\n',\n",
       " '242.08\\n',\n",
       " '242.16\\n',\n",
       " '240.16\\n',\n",
       " '242.18\\n',\n",
       " '243.26\\n',\n",
       " '244.11\\n',\n",
       " '241.08\\n',\n",
       " '241.81\\n',\n",
       " '241.72\\n',\n",
       " '240.65\\n',\n",
       " '239.26\\n',\n",
       " '240.82\\n',\n",
       " '239.91\\n',\n",
       " '231.17\\n',\n",
       " '234.08\\n',\n",
       " '231.22\\n',\n",
       " '227.87\\n',\n",
       " '227.56\\n',\n",
       " '228.54\\n',\n",
       " '233.78\\n',\n",
       " '231.05\\n',\n",
       " '230.01\\n',\n",
       " '233.56\\n',\n",
       " '241.39\\n',\n",
       " '243.35\\n',\n",
       " '241.55\\n',\n",
       " '242.51\\n',\n",
       " '244.49\\n',\n",
       " '249.61\\n',\n",
       " '252.25\\n',\n",
       " '251.89\\n',\n",
       " '248.39\\n',\n",
       " '243.67\\n',\n",
       " '244.63\\n',\n",
       " '240.18\\n',\n",
       " '239.29\\n',\n",
       " '249.28\\n',\n",
       " '243.8\\n',\n",
       " '247.67\\n',\n",
       " '245.99\\n',\n",
       " '246.91\\n',\n",
       " '250.5\\n',\n",
       " '240.63\\n',\n",
       " '240.51\\n',\n",
       " '233.35\\n',\n",
       " '235.5\\n',\n",
       " '234.77\\n',\n",
       " '235.28\\n',\n",
       " '230.71\\n',\n",
       " '228.92\\n',\n",
       " '229.32\\n',\n",
       " '232.73\\n',\n",
       " '230.5\\n',\n",
       " '234.74\\n',\n",
       " '235.81\\n',\n",
       " '237.69\\n',\n",
       " '237.69\\n',\n",
       " '235.07\\n',\n",
       " '232.23\\n',\n",
       " '224.16\\n',\n",
       " '224.5\\n',\n",
       " '223.89\\n',\n",
       " '219.12\\n',\n",
       " '220.25\\n',\n",
       " '228.55\\n',\n",
       " '227.59\\n',\n",
       " '227.13\\n',\n",
       " '226.25\\n',\n",
       " '227.15\\n',\n",
       " '221.29\\n',\n",
       " '223.78\\n',\n",
       " '222.87\\n',\n",
       " '220.2\\n',\n",
       " '223.39\\n',\n",
       " '222.42\\n',\n",
       " '228.05\\n',\n",
       " '230.79\\n',\n",
       " '230.68\\n',\n",
       " '232.27\\n',\n",
       " '231.58\\n',\n",
       " '230.71\\n',\n",
       " '230.23\\n',\n",
       " '228.85\\n',\n",
       " '229.04\\n',\n",
       " '236.06\\n',\n",
       " '235.27\\n',\n",
       " '235.52\\n',\n",
       " '233.87\\n',\n",
       " '233.02\\n',\n",
       " '232.03\\n',\n",
       " '233.46\\n',\n",
       " '232.91\\n',\n",
       " '236.9\\n',\n",
       " '236.16\\n',\n",
       " '237.77\\n',\n",
       " '235.59\\n',\n",
       " '241\\n',\n",
       " '239.3\\n',\n",
       " '238.53\\n',\n",
       " '238.76\\n',\n",
       " '240.35\\n',\n",
       " '239.27\\n',\n",
       " '235.45\\n',\n",
       " '234.27\\n',\n",
       " '232.66\\n',\n",
       " '236.38\\n',\n",
       " '235.32\\n',\n",
       " '233.4\\n',\n",
       " '233.17\\n',\n",
       " '234.39\\n',\n",
       " '230.5\\n',\n",
       " '233.14\\n',\n",
       " '230.66\\n',\n",
       " '228.77\\n',\n",
       " '236.07\\n',\n",
       " '235.24\\n',\n",
       " '234.92\\n',\n",
       " '235.06\\n',\n",
       " '237.69\\n',\n",
       " '236.75\\n',\n",
       " '236.93\\n',\n",
       " '241.52\\n',\n",
       " '243.31\\n',\n",
       " '249.05\\n',\n",
       " '248.71\\n',\n",
       " '249.95\\n',\n",
       " '253.28\\n',\n",
       " '259.16\\n',\n",
       " '258.87\\n',\n",
       " '257.27\\n',\n",
       " '257.49\\n',\n",
       " '255.41\\n',\n",
       " '252.13\\n',\n",
       " '252.37\\n',\n",
       " '251.17\\n',\n",
       " '252.69\\n',\n",
       " '257.34\\n',\n",
       " '256.9\\n',\n",
       " '254.73\\n',\n",
       " '256.8\\n',\n",
       " '262.23\\n',\n",
       " '263.45\\n',\n",
       " '264.86\\n',\n",
       " '262.88\\n',\n",
       " '262.24\\n',\n",
       " '261.09\\n',\n",
       " '264.92\\n',\n",
       " '266.9\\n',\n",
       " '270.54\\n',\n",
       " '269.43\\n',\n",
       " '271.01\\n',\n",
       " '271.4\\n',\n",
       " '271.96\\n',\n",
       " '272.39\\n',\n",
       " '275.8\\n',\n",
       " '276.22\\n',\n",
       " '277.22\\n',\n",
       " '274.48\\n',\n",
       " '274.02\\n',\n",
       " '259.8\\n',\n",
       " '256\\n',\n",
       " '256.74\\n',\n",
       " '254.63\\n',\n",
       " '253.75\\n',\n",
       " '255.69\\n',\n",
       " '257.8\\n',\n",
       " '254.74\\n',\n",
       " '256.21\\n',\n",
       " '255.25\\n',\n",
       " '251.25\\n',\n",
       " '254.74\\n',\n",
       " '257.75\\n',\n",
       " '262.63\\n',\n",
       " '257.11\\n',\n",
       " '257.62\\n',\n",
       " '257.49\\n',\n",
       " '254.05\\n',\n",
       " '248.53\\n',\n",
       " '245.51\\n',\n",
       " '249.77\\n',\n",
       " '248.71\\n',\n",
       " '253.05\\n',\n",
       " '256.12\\n',\n",
       " '255.84\\n',\n",
       " '257.24\\n',\n",
       " '256.37\\n',\n",
       " '252.95\\n',\n",
       " '256.18\\n',\n",
       " '255.44\\n',\n",
       " '257.37\\n',\n",
       " '262.31\\n',\n",
       " '263.64\\n',\n",
       " '261.5\\n',\n",
       " '259.42\\n',\n",
       " '256.98\\n',\n",
       " '260.4\\n',\n",
       " '261.06\\n',\n",
       " '262.13\\n',\n",
       " '264.11\\n',\n",
       " '262.39\\n',\n",
       " '267.37\\n',\n",
       " '273.15\\n',\n",
       " '276.14\\n',\n",
       " '279.77\\n',\n",
       " '283.73\\n',\n",
       " '284.22\\n',\n",
       " '283.8\\n',\n",
       " '283.47\\n',\n",
       " '283.35\\n',\n",
       " '290.98\\n',\n",
       " '291.9\\n',\n",
       " '291.72\\n',\n",
       " '289.23\\n',\n",
       " '296.73\\n',\n",
       " '304.51\\n',\n",
       " '307.28\\n',\n",
       " '312.38\\n',\n",
       " '310.69\\n',\n",
       " '318.38\\n',\n",
       " '309.74\\n',\n",
       " '307.69\\n',\n",
       " '316.42\\n',\n",
       " '319.49\\n',\n",
       " '322.03\\n',\n",
       " '325.05\\n',\n",
       " '337.55\\n',\n",
       " '337.57\\n',\n",
       " '333.92\\n',\n",
       " '336.96\\n',\n",
       " '339.28\\n',\n",
       " '347.04\\n',\n",
       " '353.15\\n',\n",
       " '351.25\\n',\n",
       " '355.27\\n',\n",
       " '362.46\\n',\n",
       " '370.52\\n',\n",
       " '366.1\\n',\n",
       " '346.57\\n',\n",
       " '331.65\\n',\n",
       " '315.72\\n',\n",
       " '329.94\\n',\n",
       " '320.52\\n',\n",
       " '314.51\\n',\n",
       " '316.5\\n',\n",
       " '312.61\\n',\n",
       " '323.95\\n',\n",
       " '329.93\\n',\n",
       " '338.01\\n',\n",
       " '332.7\\n',\n",
       " '336.45\\n',\n",
       " '345.78\\n',\n",
       " '348.15\\n',\n",
       " '346.15\\n',\n",
       " '340.42\\n',\n",
       " '341.74\\n',\n",
       " '348.91\\n',\n",
       " '357.27\\n',\n",
       " '357.08\\n',\n",
       " '358.85\\n',\n",
       " '349.25\\n',\n",
       " '349.33\\n',\n",
       " '346.68\\n',\n",
       " '344.64\\n',\n",
       " '334.28\\n',\n",
       " '336.34\\n',\n",
       " '338.35\\n',\n",
       " '344.5\\n',\n",
       " '348\\n',\n",
       " '350.01\\n',\n",
       " '355.06\\n',\n",
       " '350.02\\n',\n",
       " '350.91\\n',\n",
       " '345.39\\n',\n",
       " '342.25\\n',\n",
       " '342.32\\n',\n",
       " '328.17\\n',\n",
       " '324.3\\n',\n",
       " '315.52\\n',\n",
       " '326.27\\n',\n",
       " '323.04\\n',\n",
       " '318.81\\n',\n",
       " '326.58\\n',\n",
       " '318.51\\n',\n",
       " '307.67\\n',\n",
       " '300.09\\n',\n",
       " '299.82\\n',\n",
       " '291.88\\n',\n",
       " '274.04\\n',\n",
       " '286.96\\n',\n",
       " '282.92\\n',\n",
       " '277.71\\n',\n",
       " '274.98\\n',\n",
       " '273.86\\n',\n",
       " '281.87\\n',\n",
       " '257.69\\n',\n",
       " '247.47\\n',\n",
       " '253.15\\n',\n",
       " '250.6\\n',\n",
       " '252.22\\n',\n",
       " '258.09\\n',\n",
       " '260.32\\n',\n",
       " '258.79\\n',\n",
       " '267.04\\n',\n",
       " '265.86\\n',\n",
       " '264.56\\n',\n",
       " '254.22\\n',\n",
       " '254.25\\n',\n",
       " '251.18\\n',\n",
       " '253.65\\n',\n",
       " '242.98\\n',\n",
       " '231.86\\n',\n",
       " '236.19\\n',\n",
       " '237.46\\n',\n",
       " '235.35\\n',\n",
       " '228.28\\n',\n",
       " '222.08\\n',\n",
       " '223.63\\n',\n",
       " '216.13\\n',\n",
       " '216.46\\n',\n",
       " '206.6\\n',\n",
       " '219.7\\n',\n",
       " '219.87\\n',\n",
       " '221.28\\n',\n",
       " '218.74\\n',\n",
       " '209.73\\n',\n",
       " '219.36\\n',\n",
       " '215.78\\n',\n",
       " '216.56\\n',\n",
       " '230.05\\n',\n",
       " '225.16\\n',\n",
       " '228.87\\n',\n",
       " '221.82\\n',\n",
       " '218.82\\n',\n",
       " '220.01\\n',\n",
       " '232.62\\n',\n",
       " '232.62\\n',\n",
       " '227.33\\n',\n",
       " '235.31\\n',\n",
       " '238.17\\n',\n",
       " '233.67\\n',\n",
       " '231.86\\n',\n",
       " '234.3\\n',\n",
       " '228.5\\n',\n",
       " '225.6\\n',\n",
       " '223.2\\n',\n",
       " '227.29\\n',\n",
       " '224.55\\n',\n",
       " '269.44\\n',\n",
       " '268.63\\n',\n",
       " '277.22\\n',\n",
       " '272.97\\n',\n",
       " '271.25\\n',\n",
       " '271.76\\n',\n",
       " '275.78\\n',\n",
       " '278.96\\n',\n",
       " '286.86\\n',\n",
       " '296.24\\n',\n",
       " '290.35\\n',\n",
       " '297.15\\n',\n",
       " '292.89\\n',\n",
       " '289.21\\n',\n",
       " '291.21\\n',\n",
       " '286.3\\n',\n",
       " '292.18\\n',\n",
       " '291.21\\n',\n",
       " '287.86\\n',\n",
       " '290.21\\n',\n",
       " '289.74\\n',\n",
       " '288.47\\n',\n",
       " '289.01\\n',\n",
       " '274.72\\n',\n",
       " '274.46\\n',\n",
       " '272.04\\n',\n",
       " '280.17\\n',\n",
       " '283.84\\n',\n",
       " '291.21\\n',\n",
       " '292.61\\n',\n",
       " '287.21\\n',\n",
       " '283.37\\n',\n",
       " '285.82\\n',\n",
       " '292.86\\n',\n",
       " '283.22\\n',\n",
       " '278.66\\n',\n",
       " '276.81\\n',\n",
       " '272.33\\n',\n",
       " '276.2\\n',\n",
       " '285.47\\n',\n",
       " '286.12\\n',\n",
       " '284.45\\n',\n",
       " '280.91\\n',\n",
       " '279.82\\n',\n",
       " '272.94\\n',\n",
       " '272.33\\n',\n",
       " '270.88\\n',\n",
       " '275.22\\n',\n",
       " '264.15\\n',\n",
       " '263.77\\n',\n",
       " '262.95\\n',\n",
       " '267.1\\n',\n",
       " '263.26\\n',\n",
       " '268.23\\n',\n",
       " '271.68\\n',\n",
       " '276.99\\n',\n",
       " '270.5\\n',\n",
       " '270.02\\n',\n",
       " '266.63\\n',\n",
       " '260.55\\n',\n",
       " '257.79\\n',\n",
       " '267.53\\n',\n",
       " '266.45\\n',\n",
       " '240.42\\n',\n",
       " '234.17\\n',\n",
       " '238.32\\n',\n",
       " '244.37\\n',\n",
       " '237.57\\n',\n",
       " '245.74\\n',\n",
       " '238.32\\n',\n",
       " '241.31\\n',\n",
       " '241.11\\n',\n",
       " '236.64\\n',\n",
       " '233.7\\n',\n",
       " '231.27\\n',\n",
       " '239.69\\n',\n",
       " '242.93\\n',\n",
       " ...]"
      ]
     },
     "execution_count": 32,
     "metadata": {},
     "output_type": "execute_result"
    }
   ],
   "source": [
    "google = open('google_stock_price.csv').readlines()\n",
    "google"
   ]
  },
  {
   "cell_type": "code",
   "execution_count": 39,
   "metadata": {},
   "outputs": [
    {
     "data": {
      "text/plain": [
       "3012"
      ]
     },
     "execution_count": 39,
     "metadata": {},
     "output_type": "execute_result"
    }
   ],
   "source": [
    "# Delete the header and find the count of stocks\n",
    "gnew=google[1:]\n",
    "c=len(gnew)\n",
    "c\n",
    "\n",
    "# also can use -> del google[0]"
   ]
  },
  {
   "cell_type": "code",
   "execution_count": 41,
   "metadata": {},
   "outputs": [
    {
     "data": {
      "text/plain": [
       "[50.12,\n",
       " 54.1,\n",
       " 54.65,\n",
       " 52.38,\n",
       " 52.95,\n",
       " 53.9,\n",
       " 53.02,\n",
       " 50.95,\n",
       " 51.13,\n",
       " 50.07,\n",
       " 50.7,\n",
       " 49.95,\n",
       " 50.74,\n",
       " 51.1,\n",
       " 51.1,\n",
       " 52.61,\n",
       " 53.7,\n",
       " 55.69,\n",
       " 55.94,\n",
       " 56.93,\n",
       " 58.69,\n",
       " 59.62,\n",
       " 58.86,\n",
       " 59.13,\n",
       " 60.35,\n",
       " 59.86,\n",
       " 59.07,\n",
       " 63.37,\n",
       " 65.47,\n",
       " 64.74,\n",
       " 66.22,\n",
       " 67.46,\n",
       " 69.12,\n",
       " 68.47,\n",
       " 69.36,\n",
       " 68.8,\n",
       " 67.56,\n",
       " 68.63,\n",
       " 70.38,\n",
       " 70.93,\n",
       " 71.98,\n",
       " 74.51,\n",
       " 73.9,\n",
       " 70.17,\n",
       " 74.62,\n",
       " 86.13,\n",
       " 93.61,\n",
       " 90.81,\n",
       " 92.89,\n",
       " 96.55,\n",
       " 95.22,\n",
       " 97.92,\n",
       " 97.34,\n",
       " 95.74,\n",
       " 92.26,\n",
       " 84.59,\n",
       " 86.19,\n",
       " 84.27,\n",
       " 83.85,\n",
       " 91.42,\n",
       " 90.91,\n",
       " 92.34,\n",
       " 86.19,\n",
       " 86.16,\n",
       " 83.69,\n",
       " 84.62,\n",
       " 82.47,\n",
       " 83.68,\n",
       " 87.29,\n",
       " 89.61,\n",
       " 90.43,\n",
       " 90.9,\n",
       " 89.89,\n",
       " 89.61,\n",
       " 90.11,\n",
       " 88.06,\n",
       " 85.63,\n",
       " 84.91,\n",
       " 86.63,\n",
       " 85.74,\n",
       " 85.14,\n",
       " 89.26,\n",
       " 89.8,\n",
       " 88.15,\n",
       " 89.95,\n",
       " 92.42,\n",
       " 91.78,\n",
       " 93.06,\n",
       " 93.86,\n",
       " 95.86,\n",
       " 96.28,\n",
       " 96.35,\n",
       " 98.7,\n",
       " 96.3,\n",
       " 101.25,\n",
       " 97.15,\n",
       " 96.66,\n",
       " 94.18,\n",
       " 96.83,\n",
       " 97.43,\n",
       " 96.67,\n",
       " 97.59,\n",
       " 97.57,\n",
       " 99.89,\n",
       " 101.85,\n",
       " 98.55,\n",
       " 96.86,\n",
       " 94.05,\n",
       " 90.27,\n",
       " 88.47,\n",
       " 94.53,\n",
       " 93.95,\n",
       " 95.07,\n",
       " 97.71,\n",
       " 95.85,\n",
       " 102.88,\n",
       " 105.32,\n",
       " 102.08,\n",
       " 97.92,\n",
       " 99.22,\n",
       " 95.69,\n",
       " 93.9,\n",
       " 93.61,\n",
       " 96.4,\n",
       " 97.52,\n",
       " 99.11,\n",
       " 98.85,\n",
       " 98.88,\n",
       " 95.59,\n",
       " 96.88,\n",
       " 94.35,\n",
       " 92.84,\n",
       " 93.9,\n",
       " 92.94,\n",
       " 92.5,\n",
       " 93.41,\n",
       " 92.86,\n",
       " 94.31,\n",
       " 92.51,\n",
       " 90.58,\n",
       " 89.9,\n",
       " 88.81,\n",
       " 87.41,\n",
       " 89.22,\n",
       " 87.71,\n",
       " 89.56,\n",
       " 89.93,\n",
       " 90.35,\n",
       " 89.21,\n",
       " 89.4,\n",
       " 89.54,\n",
       " 90.62,\n",
       " 89.7,\n",
       " 90.13,\n",
       " 90.16,\n",
       " 89.93,\n",
       " 92.55,\n",
       " 94.19,\n",
       " 94.52,\n",
       " 96.78,\n",
       " 95.93,\n",
       " 96.52,\n",
       " 96.88,\n",
       " 96.37,\n",
       " 95.63,\n",
       " 92.41,\n",
       " 93.39,\n",
       " 95.6,\n",
       " 98.95,\n",
       " 102.01,\n",
       " 107.8,\n",
       " 111.65,\n",
       " 109.27,\n",
       " 109.78,\n",
       " 109.62,\n",
       " 109.89,\n",
       " 111.03,\n",
       " 112.98,\n",
       " 114.14,\n",
       " 113.38,\n",
       " 113.9,\n",
       " 112.9,\n",
       " 113.79,\n",
       " 115.53,\n",
       " 114.25,\n",
       " 114.51,\n",
       " 115.41,\n",
       " 116.45,\n",
       " 119.46,\n",
       " 119.47,\n",
       " 120.68,\n",
       " 127.6,\n",
       " 127.87,\n",
       " 130.27,\n",
       " 129.47,\n",
       " 132.87,\n",
       " 138.5,\n",
       " 143.86,\n",
       " 143.81,\n",
       " 139.99,\n",
       " 145.32,\n",
       " 146.41,\n",
       " 139.64,\n",
       " 143.01,\n",
       " 141.11,\n",
       " 141.23,\n",
       " 139.04,\n",
       " 137.26,\n",
       " 138.58,\n",
       " 140.0,\n",
       " 143.21,\n",
       " 143.78,\n",
       " 144.51,\n",
       " 144.71,\n",
       " 148.48,\n",
       " 151.9,\n",
       " 150.85,\n",
       " 146.21,\n",
       " 146.93,\n",
       " 145.48,\n",
       " 147.71,\n",
       " 145.62,\n",
       " 147.62,\n",
       " 147.97,\n",
       " 146.53,\n",
       " 145.75,\n",
       " 149.28,\n",
       " 150.29,\n",
       " 150.44,\n",
       " 149.62,\n",
       " 154.8,\n",
       " 155.84,\n",
       " 156.81,\n",
       " 151.05,\n",
       " 147.78,\n",
       " 147.9,\n",
       " 148.32,\n",
       " 146.6,\n",
       " 143.74,\n",
       " 145.66,\n",
       " 149.45,\n",
       " 148.5,\n",
       " 148.72,\n",
       " 146.03,\n",
       " 145.48,\n",
       " 145.64,\n",
       " 142.7,\n",
       " 141.88,\n",
       " 144.72,\n",
       " 141.86,\n",
       " 142.68,\n",
       " 142.41,\n",
       " 139.86,\n",
       " 139.86,\n",
       " 136.87,\n",
       " 139.65,\n",
       " 141.14,\n",
       " 141.15,\n",
       " 141.65,\n",
       " 144.08,\n",
       " 143.49,\n",
       " 142.86,\n",
       " 142.98,\n",
       " 144.08,\n",
       " 143.41,\n",
       " 147.29,\n",
       " 147.55,\n",
       " 149.4,\n",
       " 154.72,\n",
       " 155.68,\n",
       " 151.35,\n",
       " 151.16,\n",
       " 149.95,\n",
       " 151.74,\n",
       " 153.8,\n",
       " 155.79,\n",
       " 155.53,\n",
       " 157.52,\n",
       " 156.98,\n",
       " 156.81,\n",
       " 152.85,\n",
       " 154.66,\n",
       " 158.07,\n",
       " 159.18,\n",
       " 155.34,\n",
       " 155.2,\n",
       " 156.22,\n",
       " 156.34,\n",
       " 155.17,\n",
       " 152.9,\n",
       " 150.33,\n",
       " 148.57,\n",
       " 147.92,\n",
       " 152.35,\n",
       " 151.49,\n",
       " 154.2,\n",
       " 151.45,\n",
       " 169.78,\n",
       " 174.15,\n",
       " 173.28,\n",
       " 177.54,\n",
       " 176.35,\n",
       " 178.91,\n",
       " 185.88,\n",
       " 189.5,\n",
       " 189.65,\n",
       " 192.78,\n",
       " 195.02,\n",
       " 197.32,\n",
       " 194.76,\n",
       " 189.39,\n",
       " 195.35,\n",
       " 195.0,\n",
       " 198.29,\n",
       " 196.2,\n",
       " 198.88,\n",
       " 201.52,\n",
       " 199.9,\n",
       " 204.48,\n",
       " 208.03,\n",
       " 211.22,\n",
       " 214.1,\n",
       " 211.53,\n",
       " 201.57,\n",
       " 202.25,\n",
       " 206.84,\n",
       " 208.64,\n",
       " 202.72,\n",
       " 202.07,\n",
       " 201.91,\n",
       " 205.12,\n",
       " 204.4,\n",
       " 206.1,\n",
       " 208.54,\n",
       " 209.27,\n",
       " 211.05,\n",
       " 214.86,\n",
       " 212.09,\n",
       " 214.66,\n",
       " 212.95,\n",
       " 215.8,\n",
       " 215.25,\n",
       " 212.11,\n",
       " 213.13,\n",
       " 209.86,\n",
       " 207.22,\n",
       " 217.4,\n",
       " 222.4,\n",
       " 225.39,\n",
       " 232.6,\n",
       " 233.22,\n",
       " 234.65,\n",
       " 235.58,\n",
       " 231.58,\n",
       " 232.89,\n",
       " 233.32,\n",
       " 222.23,\n",
       " 218.0,\n",
       " 199.53,\n",
       " 213.54,\n",
       " 221.29,\n",
       " 216.28,\n",
       " 216.92,\n",
       " 216.53,\n",
       " 213.2,\n",
       " 216.11,\n",
       " 200.69,\n",
       " 197.82,\n",
       " 190.59,\n",
       " 192.36,\n",
       " 183.78,\n",
       " 184.36,\n",
       " 179.21,\n",
       " 181.12,\n",
       " 172.68,\n",
       " 171.49,\n",
       " 171.02,\n",
       " 183.05,\n",
       " 184.19,\n",
       " 183.11,\n",
       " 182.56,\n",
       " 188.85,\n",
       " 188.51,\n",
       " 194.99,\n",
       " 181.13,\n",
       " 182.22,\n",
       " 188.04,\n",
       " 188.9,\n",
       " 183.87,\n",
       " 182.04,\n",
       " 176.76,\n",
       " 171.33,\n",
       " 168.58,\n",
       " 168.36,\n",
       " 175.4,\n",
       " 172.08,\n",
       " 169.22,\n",
       " 169.73,\n",
       " 173.92,\n",
       " 169.79,\n",
       " 169.94,\n",
       " 170.77,\n",
       " 182.72,\n",
       " 184.66,\n",
       " 188.41,\n",
       " 197.29,\n",
       " 194.03,\n",
       " 194.8,\n",
       " 194.66,\n",
       " 201.97,\n",
       " 203.79,\n",
       " 205.38,\n",
       " 202.88,\n",
       " 207.98,\n",
       " 204.63,\n",
       " 204.27,\n",
       " 200.88,\n",
       " 203.21,\n",
       " 201.92,\n",
       " 205.04,\n",
       " 207.29,\n",
       " 218.33,\n",
       " 220.03,\n",
       " 213.37,\n",
       " 212.77,\n",
       " 209.8,\n",
       " 208.76,\n",
       " 199.25,\n",
       " 197.2,\n",
       " 196.89,\n",
       " 197.18,\n",
       " 196.95,\n",
       " 197.19,\n",
       " 204.2,\n",
       " 201.29,\n",
       " 193.31,\n",
       " 186.88,\n",
       " 187.91,\n",
       " 185.46,\n",
       " 187.06,\n",
       " 185.31,\n",
       " 184.82,\n",
       " 185.29,\n",
       " 187.6,\n",
       " 190.43,\n",
       " 191.3,\n",
       " 190.48,\n",
       " 185.78,\n",
       " 185.72,\n",
       " 191.12,\n",
       " 189.53,\n",
       " 187.03,\n",
       " 194.8,\n",
       " 193.06,\n",
       " 196.45,\n",
       " 193.09,\n",
       " 190.58,\n",
       " 193.07,\n",
       " 192.0,\n",
       " 195.3,\n",
       " 195.15,\n",
       " 193.88,\n",
       " 193.39,\n",
       " 200.86,\n",
       " 199.78,\n",
       " 202.23,\n",
       " 201.91,\n",
       " 200.96,\n",
       " 202.85,\n",
       " 208.7,\n",
       " 209.46,\n",
       " 211.39,\n",
       " 210.52,\n",
       " 211.38,\n",
       " 210.01,\n",
       " 208.89,\n",
       " 212.07,\n",
       " 208.42,\n",
       " 204.21,\n",
       " 201.55,\n",
       " 203.74,\n",
       " 201.32,\n",
       " 199.3,\n",
       " 193.37,\n",
       " 194.86,\n",
       " 195.25,\n",
       " 194.49,\n",
       " 192.56,\n",
       " 191.01,\n",
       " 193.87,\n",
       " 193.11,\n",
       " 187.57,\n",
       " 183.43,\n",
       " 187.51,\n",
       " 186.74,\n",
       " 188.79,\n",
       " 190.31,\n",
       " 188.28,\n",
       " 186.91,\n",
       " 184.07,\n",
       " 184.53,\n",
       " 190.29,\n",
       " 193.67,\n",
       " 192.71,\n",
       " 191.49,\n",
       " 188.46,\n",
       " 188.96,\n",
       " 186.53,\n",
       " 186.68,\n",
       " 186.44,\n",
       " 190.28,\n",
       " 189.29,\n",
       " 190.18,\n",
       " 189.08,\n",
       " 189.11,\n",
       " 191.99,\n",
       " 189.88,\n",
       " 189.06,\n",
       " 188.74,\n",
       " 191.85,\n",
       " 195.75,\n",
       " 203.08,\n",
       " 201.79,\n",
       " 204.74,\n",
       " 207.14,\n",
       " 201.7,\n",
       " 198.3,\n",
       " 203.22,\n",
       " 201.69,\n",
       " 201.79,\n",
       " 203.23,\n",
       " 201.26,\n",
       " 201.59,\n",
       " 200.75,\n",
       " 200.52,\n",
       " 201.82,\n",
       " 207.64,\n",
       " 205.7,\n",
       " 210.04,\n",
       " 214.29,\n",
       " 213.11,\n",
       " 213.04,\n",
       " 213.51,\n",
       " 213.44,\n",
       " 210.66,\n",
       " 210.11,\n",
       " 209.44,\n",
       " 212.82,\n",
       " 229.61,\n",
       " 240.15,\n",
       " 236.42,\n",
       " 243.06,\n",
       " 242.31,\n",
       " 237.36,\n",
       " 238.05,\n",
       " 237.96,\n",
       " 233.52,\n",
       " 234.72,\n",
       " 235.66,\n",
       " 238.24,\n",
       " 236.05,\n",
       " 237.26,\n",
       " 236.08,\n",
       " 236.54,\n",
       " 240.27,\n",
       " 244.41,\n",
       " 245.72,\n",
       " 247.7,\n",
       " 249.15,\n",
       " 247.28,\n",
       " 254.57,\n",
       " 253.75,\n",
       " 252.2,\n",
       " 242.13,\n",
       " 244.51,\n",
       " 242.08,\n",
       " 242.16,\n",
       " 240.16,\n",
       " 242.18,\n",
       " 243.26,\n",
       " 244.11,\n",
       " 241.08,\n",
       " 241.81,\n",
       " 241.72,\n",
       " 240.65,\n",
       " 239.26,\n",
       " 240.82,\n",
       " 239.91,\n",
       " 231.17,\n",
       " 234.08,\n",
       " 231.22,\n",
       " 227.87,\n",
       " 227.56,\n",
       " 228.54,\n",
       " 233.78,\n",
       " 231.05,\n",
       " 230.01,\n",
       " 233.56,\n",
       " 241.39,\n",
       " 243.35,\n",
       " 241.55,\n",
       " 242.51,\n",
       " 244.49,\n",
       " 249.61,\n",
       " 252.25,\n",
       " 251.89,\n",
       " 248.39,\n",
       " 243.67,\n",
       " 244.63,\n",
       " 240.18,\n",
       " 239.29,\n",
       " 249.28,\n",
       " 243.8,\n",
       " 247.67,\n",
       " 245.99,\n",
       " 246.91,\n",
       " 250.5,\n",
       " 240.63,\n",
       " 240.51,\n",
       " 233.35,\n",
       " 235.5,\n",
       " 234.77,\n",
       " 235.28,\n",
       " 230.71,\n",
       " 228.92,\n",
       " 229.32,\n",
       " 232.73,\n",
       " 230.5,\n",
       " 234.74,\n",
       " 235.81,\n",
       " 237.69,\n",
       " 237.69,\n",
       " 235.07,\n",
       " 232.23,\n",
       " 224.16,\n",
       " 224.5,\n",
       " 223.89,\n",
       " 219.12,\n",
       " 220.25,\n",
       " 228.55,\n",
       " 227.59,\n",
       " 227.13,\n",
       " 226.25,\n",
       " 227.15,\n",
       " 221.29,\n",
       " 223.78,\n",
       " 222.87,\n",
       " 220.2,\n",
       " 223.39,\n",
       " 222.42,\n",
       " 228.05,\n",
       " 230.79,\n",
       " 230.68,\n",
       " 232.27,\n",
       " 231.58,\n",
       " 230.71,\n",
       " 230.23,\n",
       " 228.85,\n",
       " 229.04,\n",
       " 236.06,\n",
       " 235.27,\n",
       " 235.52,\n",
       " 233.87,\n",
       " 233.02,\n",
       " 232.03,\n",
       " 233.46,\n",
       " 232.91,\n",
       " 236.9,\n",
       " 236.16,\n",
       " 237.77,\n",
       " 235.59,\n",
       " 241.0,\n",
       " 239.3,\n",
       " 238.53,\n",
       " 238.76,\n",
       " 240.35,\n",
       " 239.27,\n",
       " 235.45,\n",
       " 234.27,\n",
       " 232.66,\n",
       " 236.38,\n",
       " 235.32,\n",
       " 233.4,\n",
       " 233.17,\n",
       " 234.39,\n",
       " 230.5,\n",
       " 233.14,\n",
       " 230.66,\n",
       " 228.77,\n",
       " 236.07,\n",
       " 235.24,\n",
       " 234.92,\n",
       " 235.06,\n",
       " 237.69,\n",
       " 236.75,\n",
       " 236.93,\n",
       " 241.52,\n",
       " 243.31,\n",
       " 249.05,\n",
       " 248.71,\n",
       " 249.95,\n",
       " 253.28,\n",
       " 259.16,\n",
       " 258.87,\n",
       " 257.27,\n",
       " 257.49,\n",
       " 255.41,\n",
       " 252.13,\n",
       " 252.37,\n",
       " 251.17,\n",
       " 252.69,\n",
       " 257.34,\n",
       " 256.9,\n",
       " 254.73,\n",
       " 256.8,\n",
       " 262.23,\n",
       " 263.45,\n",
       " 264.86,\n",
       " 262.88,\n",
       " 262.24,\n",
       " 261.09,\n",
       " 264.92,\n",
       " 266.9,\n",
       " 270.54,\n",
       " 269.43,\n",
       " 271.01,\n",
       " 271.4,\n",
       " 271.96,\n",
       " 272.39,\n",
       " 275.8,\n",
       " 276.22,\n",
       " 277.22,\n",
       " 274.48,\n",
       " 274.02,\n",
       " 259.8,\n",
       " 256.0,\n",
       " 256.74,\n",
       " 254.63,\n",
       " 253.75,\n",
       " 255.69,\n",
       " 257.8,\n",
       " 254.74,\n",
       " 256.21,\n",
       " 255.25,\n",
       " 251.25,\n",
       " 254.74,\n",
       " 257.75,\n",
       " 262.63,\n",
       " 257.11,\n",
       " 257.62,\n",
       " 257.49,\n",
       " 254.05,\n",
       " 248.53,\n",
       " 245.51,\n",
       " 249.77,\n",
       " 248.71,\n",
       " 253.05,\n",
       " 256.12,\n",
       " 255.84,\n",
       " 257.24,\n",
       " 256.37,\n",
       " 252.95,\n",
       " 256.18,\n",
       " 255.44,\n",
       " 257.37,\n",
       " 262.31,\n",
       " 263.64,\n",
       " 261.5,\n",
       " 259.42,\n",
       " 256.98,\n",
       " 260.4,\n",
       " 261.06,\n",
       " 262.13,\n",
       " 264.11,\n",
       " 262.39,\n",
       " 267.37,\n",
       " 273.15,\n",
       " 276.14,\n",
       " 279.77,\n",
       " 283.73,\n",
       " 284.22,\n",
       " 283.8,\n",
       " 283.47,\n",
       " 283.35,\n",
       " 290.98,\n",
       " 291.9,\n",
       " 291.72,\n",
       " 289.23,\n",
       " 296.73,\n",
       " 304.51,\n",
       " 307.28,\n",
       " 312.38,\n",
       " 310.69,\n",
       " 318.38,\n",
       " 309.74,\n",
       " 307.69,\n",
       " 316.42,\n",
       " 319.49,\n",
       " 322.03,\n",
       " 325.05,\n",
       " 337.55,\n",
       " 337.57,\n",
       " 333.92,\n",
       " 336.96,\n",
       " 339.28,\n",
       " 347.04,\n",
       " 353.15,\n",
       " 351.25,\n",
       " 355.27,\n",
       " 362.46,\n",
       " 370.52,\n",
       " 366.1,\n",
       " 346.57,\n",
       " 331.65,\n",
       " 315.72,\n",
       " 329.94,\n",
       " 320.52,\n",
       " 314.51,\n",
       " 316.5,\n",
       " 312.61,\n",
       " 323.95,\n",
       " 329.93,\n",
       " 338.01,\n",
       " 332.7,\n",
       " 336.45,\n",
       " 345.78,\n",
       " 348.15,\n",
       " 346.15,\n",
       " 340.42,\n",
       " 341.74,\n",
       " 348.91,\n",
       " 357.27,\n",
       " 357.08,\n",
       " 358.85,\n",
       " 349.25,\n",
       " 349.33,\n",
       " 346.68,\n",
       " 344.64,\n",
       " 334.28,\n",
       " 336.34,\n",
       " 338.35,\n",
       " 344.5,\n",
       " 348.0,\n",
       " 350.01,\n",
       " 355.06,\n",
       " 350.02,\n",
       " 350.91,\n",
       " 345.39,\n",
       " 342.25,\n",
       " 342.32,\n",
       " 328.17,\n",
       " 324.3,\n",
       " 315.52,\n",
       " 326.27,\n",
       " 323.04,\n",
       " 318.81,\n",
       " 326.58,\n",
       " 318.51,\n",
       " 307.67,\n",
       " 300.09,\n",
       " 299.82,\n",
       " 291.88,\n",
       " 274.04,\n",
       " 286.96,\n",
       " 282.92,\n",
       " 277.71,\n",
       " 274.98,\n",
       " 273.86,\n",
       " 281.87,\n",
       " 257.69,\n",
       " 247.47,\n",
       " 253.15,\n",
       " 250.6,\n",
       " 252.22,\n",
       " 258.09,\n",
       " 260.32,\n",
       " 258.79,\n",
       " 267.04,\n",
       " 265.86,\n",
       " 264.56,\n",
       " 254.22,\n",
       " 254.25,\n",
       " 251.18,\n",
       " 253.65,\n",
       " 242.98,\n",
       " 231.86,\n",
       " 236.19,\n",
       " 237.46,\n",
       " 235.35,\n",
       " 228.28,\n",
       " 222.08,\n",
       " 223.63,\n",
       " 216.13,\n",
       " 216.46,\n",
       " 206.6,\n",
       " 219.7,\n",
       " 219.87,\n",
       " 221.28,\n",
       " 218.74,\n",
       " 209.73,\n",
       " 219.36,\n",
       " 215.78,\n",
       " 216.56,\n",
       " 230.05,\n",
       " 225.16,\n",
       " 228.87,\n",
       " 221.82,\n",
       " 218.82,\n",
       " 220.01,\n",
       " 232.62,\n",
       " 232.62,\n",
       " 227.33,\n",
       " 235.31,\n",
       " 238.17,\n",
       " 233.67,\n",
       " 231.86,\n",
       " 234.3,\n",
       " 228.5,\n",
       " 225.6,\n",
       " 223.2,\n",
       " 227.29,\n",
       " 224.55,\n",
       " 269.44,\n",
       " 268.63,\n",
       " 277.22,\n",
       " 272.97,\n",
       " 271.25,\n",
       " 271.76,\n",
       " 275.78,\n",
       " 278.96,\n",
       " 286.86,\n",
       " 296.24,\n",
       " 290.35,\n",
       " 297.15,\n",
       " 292.89,\n",
       " 289.21,\n",
       " 291.21,\n",
       " 286.3,\n",
       " 292.18,\n",
       " 291.21,\n",
       " 287.86,\n",
       " 290.21,\n",
       " 289.74,\n",
       " 288.47,\n",
       " 289.01,\n",
       " 274.72,\n",
       " 274.46,\n",
       " 272.04,\n",
       " 280.17,\n",
       " 283.84,\n",
       " 291.21,\n",
       " 292.61,\n",
       " 287.21,\n",
       " 283.37,\n",
       " 285.82,\n",
       " 292.86,\n",
       " 283.22,\n",
       " 278.66,\n",
       " 276.81,\n",
       " 272.33,\n",
       " 276.2,\n",
       " 285.47,\n",
       " 286.12,\n",
       " 284.45,\n",
       " 280.91,\n",
       " 279.82,\n",
       " 272.94,\n",
       " 272.33,\n",
       " 270.88,\n",
       " 275.22,\n",
       " 264.15,\n",
       " 263.77,\n",
       " 262.95,\n",
       " 267.1,\n",
       " 263.26,\n",
       " 268.23,\n",
       " 271.68,\n",
       " 276.99,\n",
       " 270.5,\n",
       " 270.02,\n",
       " 266.63,\n",
       " 260.55,\n",
       " 257.79,\n",
       " 267.53,\n",
       " 266.45,\n",
       " 240.42,\n",
       " 234.17,\n",
       " 238.32,\n",
       " 244.37,\n",
       " 237.57,\n",
       " 245.74,\n",
       " 238.32,\n",
       " 241.31,\n",
       " 241.11,\n",
       " 236.64,\n",
       " 233.7,\n",
       " 231.27,\n",
       " 239.69,\n",
       " 242.93,\n",
       " 239.32,\n",
       " ...]"
      ]
     },
     "execution_count": 41,
     "metadata": {},
     "output_type": "execute_result"
    }
   ],
   "source": [
    "# convert all stocks strings to float -> store it in new list\n",
    "gstock = list(map( float, gnew))\n",
    "gstock"
   ]
  },
  {
   "cell_type": "code",
   "execution_count": 43,
   "metadata": {},
   "outputs": [
    {
     "name": "stdout",
     "output_type": "stream",
     "text": [
      "Max:  782.22\n",
      "Min:  49.95\n",
      "Sum:  1006942.0000000002\n",
      "Mean:  334.31009296148744\n",
      "Median:  283.315\n"
     ]
    }
   ],
   "source": [
    "# Find max, min, sum, mean, median of gstock \n",
    "from functools import reduce\n",
    "from statistics import median\n",
    "max_stock = reduce(lambda x,y: x if x>y else y, gstock)\n",
    "min_stock = reduce(lambda x,y: x if x<y else y, gstock)\n",
    "sum_stock = reduce(lambda x,y: x+y, gstock)\n",
    "mean_stock = sum_stock/len(gstock)\n",
    "median_stock = median(gstock)\n",
    "\n",
    "print('Max: ', max_stock)\n",
    "print('Min: ', min_stock)\n",
    "print('Sum: ', sum_stock)\n",
    "print('Mean: ', mean_stock)\n",
    "print('Median: ', median_stock)\n",
    "\n",
    "\n",
    "# for median -> check the length -> if odd -> check the middle index and print it\n",
    "# if even then check for middle index and find average of that and its previous (g[mid] + g[mid-1])//2"
   ]
  },
  {
   "cell_type": "code",
   "execution_count": 44,
   "metadata": {},
   "outputs": [
    {
     "name": "stdout",
     "output_type": "stream",
     "text": [
      "Excellent:  701\n",
      "Satisfactory:  1541\n",
      "OK:  770\n"
     ]
    }
   ],
   "source": [
    "# categorise into 3, find total count of each\n",
    "\n",
    "excellent = list(filter(lambda s: s>500 , gstock))\n",
    "satisfactory = list(filter(lambda s: s>220 and s<=500 , gstock))\n",
    "ok = list(filter(lambda s: s<=220, gstock))\n",
    "\n",
    "print(\"Excellent: \", len(excellent))\n",
    "print(\"Satisfactory: \", len(satisfactory))\n",
    "print(\"OK: \", len(ok))"
   ]
  },
  {
   "cell_type": "markdown",
   "metadata": {},
   "source": [
    "========================================================================="
   ]
  },
  {
   "cell_type": "markdown",
   "metadata": {},
   "source": [
    "# ACTIVITY"
   ]
  },
  {
   "cell_type": "markdown",
   "metadata": {},
   "source": [
    "======================================================="
   ]
  },
  {
   "cell_type": "code",
   "execution_count": 1,
   "metadata": {},
   "outputs": [],
   "source": [
    "emp = open('clean_emp.csv').readlines()"
   ]
  },
  {
   "cell_type": "code",
   "execution_count": 2,
   "metadata": {},
   "outputs": [
    {
     "data": {
      "text/plain": [
       "[',First Name,Gender,Start Date,Last Login Time,Salary,Bonus %,Senior Management,Team\\n',\n",
       " '0,Douglas,Male,8/6/1993,12:42 PM,97308,6.945,True,Marketing\\n',\n",
       " '2,Maria,Female,4/23/1993,11:17 AM,130590,11.858,False,Finance\\n',\n",
       " '3,Jerry,Male,3/4/2005,1:00 PM,138705,9.34,True,Finance\\n',\n",
       " '4,Larry,Male,1/24/1998,4:47 PM,101004,1.389,True,Client Services\\n',\n",
       " '5,Dennis,Male,4/18/1987,1:35 AM,115163,10.125,False,Legal\\n',\n",
       " '6,Ruby,Female,8/17/1987,4:20 PM,65476,10.012,True,Product\\n',\n",
       " '8,Angela,Female,11/22/2005,6:29 AM,95570,18.523,True,Engineering\\n',\n",
       " '9,Frances,Female,8/8/2002,6:51 AM,139852,7.524,True,Business Development\\n',\n",
       " '11,Julie,Female,10/26/1997,3:19 PM,102508,12.637,True,Legal\\n',\n",
       " '12,Brandon,Male,12/1/1980,1:08 AM,112807,17.492,True,Human Resources\\n',\n",
       " '13,Gary,Male,1/27/2008,11:40 PM,109831,5.831,False,Sales\\n',\n",
       " '14,Kimberly,Female,1/14/1999,7:13 AM,41426,14.543,True,Finance\\n',\n",
       " '15,Lillian,Female,6/5/2016,6:09 AM,59414,1.256,False,Product\\n',\n",
       " '16,Jeremy,Male,9/21/2010,5:56 AM,90370,7.369,False,Human Resources\\n',\n",
       " '17,Shawn,Male,12/7/1986,7:45 PM,111737,6.414,False,Product\\n',\n",
       " '18,Diana,Female,10/23/1981,10:27 AM,132940,19.082,False,Client Services\\n',\n",
       " '19,Donna,Female,7/22/2010,3:48 AM,81014,1.894,False,Product\\n',\n",
       " '21,Matthew,Male,9/5/1995,2:12 AM,100612,13.645,False,Marketing\\n',\n",
       " '24,John,Male,7/1/1992,10:08 PM,97950,13.873,False,Client Services\\n',\n",
       " '26,Craig,Male,2/27/2000,7:45 AM,37598,7.757,True,Marketing\\n',\n",
       " '28,Terry,Male,11/27/1981,6:30 PM,124008,13.464,True,Client Services\\n',\n",
       " '29,Benjamin,Male,1/26/2005,10:06 PM,79529,7.008,True,Legal\\n',\n",
       " '30,Christina,Female,8/6/2002,1:19 PM,118780,9.096,True,Engineering\\n',\n",
       " '33,Jean,Female,12/18/1993,9:07 AM,119082,16.18,False,Business Development\\n',\n",
       " '34,Jerry,Male,1/10/2004,12:56 PM,95734,19.096,False,Client Services\\n',\n",
       " '35,Theresa,Female,10/10/2006,1:12 AM,85182,16.675,False,Sales\\n',\n",
       " '36,Rachel,Female,2/16/2009,8:47 PM,142032,12.599,False,Business Development\\n',\n",
       " '37,Linda,Female,10/19/1981,8:49 PM,57427,9.557,True,Client Services\\n',\n",
       " '38,Stephanie,Female,9/13/1986,1:52 AM,36844,5.574,True,Business Development\\n',\n",
       " '40,Michael,Male,10/10/2008,11:25 AM,99283,2.665,True,Distribution\\n',\n",
       " '42,Beverly,Female,9/9/1998,8:26 PM,121918,15.835,False,Legal\\n',\n",
       " '43,Marilyn,Female,12/7/1980,3:16 AM,73524,5.207,True,Marketing\\n',\n",
       " '44,Cynthia,Female,11/16/1988,6:54 PM,145146,7.482,True,Product\\n',\n",
       " '45,Roger,Male,4/17/1980,11:32 AM,88010,13.886,True,Sales\\n',\n",
       " '46,Bruce,Male,11/28/2009,10:47 PM,114796,6.796,False,Finance\\n',\n",
       " '47,Kathy,Female,6/22/2005,4:51 AM,66820,9.0,True,Client Services\\n',\n",
       " '48,Clarence,Male,3/26/1996,5:57 AM,93581,6.083,True,Business Development\\n',\n",
       " '50,Nancy,Female,9/23/2000,8:05 AM,94976,13.83,True,Engineering\\n',\n",
       " '52,Todd,Male,2/18/1990,2:41 AM,49339,1.695,True,Human Resources\\n',\n",
       " '54,Sara,Female,8/15/2007,9:23 AM,83677,8.999,False,Engineering\\n',\n",
       " '55,Karen,Female,11/30/1999,7:46 AM,102488,17.653,True,Product\\n',\n",
       " '56,Carl,Male,5/3/2006,5:55 PM,130276,16.084,True,Finance\\n',\n",
       " '57,Henry,Male,6/26/1996,1:44 AM,64715,15.107,True,Human Resources\\n',\n",
       " '58,Theresa,Female,4/11/2010,7:18 AM,72670,1.481,True,Engineering\\n',\n",
       " '59,Irene,Female,5/7/1997,9:32 AM,66851,11.279,False,Engineering\\n',\n",
       " '61,Denise,Female,11/6/2001,12:03 PM,106862,3.699,False,Business Development\\n',\n",
       " '63,Matthew,Male,1/2/2013,10:33 PM,35203,18.04,False,Human Resources\\n',\n",
       " '65,Steve,Male,11/11/2009,11:44 PM,61310,12.428,True,Distribution\\n',\n",
       " '66,Nancy,Female,12/15/2012,11:57 PM,125250,2.672,True,Business Development\\n',\n",
       " '67,Rachel,Female,8/16/1999,6:53 AM,51178,9.735,True,Finance\\n',\n",
       " '68,Jose,Male,10/30/2004,1:39 PM,84834,14.33,True,Finance\\n',\n",
       " '71,Johnny,Male,11/6/2009,4:23 PM,118172,16.194,True,Sales\\n',\n",
       " '72,Bobby,Male,5/7/2007,10:01 AM,54043,3.833,False,Product\\n',\n",
       " '73,Frances,Female,4/4/1999,4:19 PM,90582,4.709,True,Sales\\n',\n",
       " '74,Thomas,Male,6/4/1995,2:24 PM,62096,17.029,False,Marketing\\n',\n",
       " '75,Bonnie,Female,7/2/1991,1:27 AM,104897,5.118,True,Human Resources\\n',\n",
       " '76,Margaret,Female,9/10/1988,12:42 PM,131604,7.353,True,Distribution\\n',\n",
       " '77,Charles,Male,9/14/2004,8:13 PM,107391,1.26,True,Marketing\\n',\n",
       " '78,Robin,Female,6/4/1983,3:15 PM,114797,5.965,True,Sales\\n',\n",
       " '79,Bonnie,Female,11/13/1988,3:30 PM,115814,4.99,False,Product\\n',\n",
       " '81,Christopher,Male,3/30/2008,10:52 AM,47369,14.822,False,Legal\\n',\n",
       " '82,Steven,Male,3/30/1980,9:20 PM,35095,8.379,True,Client Services\\n',\n",
       " '83,Shawn,Male,9/23/2005,2:55 AM,148115,6.539,True,Finance\\n',\n",
       " '84,Doris,Female,8/20/2004,5:51 AM,83072,7.511,False,Finance\\n',\n",
       " '85,Jeremy,Male,2/1/2008,8:50 AM,100238,3.887,True,Client Services\\n',\n",
       " '87,Annie,Female,1/30/1993,2:05 AM,144887,8.276,True,Sales\\n',\n",
       " '88,Donna,Female,11/27/1991,1:59 PM,64088,6.155,True,Legal\\n',\n",
       " '89,Janice,Female,3/12/2016,12:40 AM,51082,11.955,False,Legal\\n',\n",
       " '92,Linda,Female,5/25/2000,5:45 PM,119009,12.506,True,Business Development\\n',\n",
       " '94,Harry,Male,8/26/1981,3:16 PM,130620,7.03,False,Legal\\n',\n",
       " '95,Heather,Female,7/11/1998,2:17 PM,43026,14.166,False,Client Services\\n',\n",
       " '96,Cynthia,Female,3/21/1994,8:34 AM,142321,1.737,False,Finance\\n',\n",
       " '98,Tina,Female,6/16/2016,7:47 PM,100705,16.961,True,Marketing\\n',\n",
       " '99,Harold,Male,1/2/1985,9:40 PM,77544,12.447,False,Business Development\\n',\n",
       " '100,Melissa,Female,6/21/2005,6:33 AM,48109,14.995,False,Finance\\n',\n",
       " '101,Aaron,Male,2/17/2012,10:20 AM,61602,11.849,True,Marketing\\n',\n",
       " '102,Jack,Male,1/12/1997,5:51 AM,103902,12.159,False,Client Services\\n',\n",
       " '103,Phyllis,Female,10/11/1996,9:30 PM,136984,8.932,True,Finance\\n',\n",
       " '104,John,Male,12/23/1989,7:01 AM,80740,19.305,False,Marketing\\n',\n",
       " '105,Kathy,Female,3/9/1996,4:33 AM,91712,8.567,False,Finance\\n',\n",
       " '106,Paul,Male,8/4/1993,7:25 PM,42146,3.046,False,Legal\\n',\n",
       " '107,Steven,Male,4/23/2013,10:12 PM,68680,16.565,False,Legal\\n',\n",
       " '110,Shirley,Female,6/20/2001,10:39 PM,147113,16.135,False,Legal\\n',\n",
       " '111,Bonnie,Female,12/17/1999,3:12 PM,42153,8.454,True,Business Development\\n',\n",
       " '112,Willie,Male,11/27/2003,6:21 AM,64363,4.023,False,Marketing\\n',\n",
       " '113,Tina,Female,6/12/2009,7:16 AM,114767,3.711,True,Engineering\\n',\n",
       " '114,Ashley,Female,8/4/2002,11:00 AM,58698,6.811,True,Business Development\\n',\n",
       " '115,Pamela,Female,7/1/1982,6:51 AM,54585,4.166,False,Product\\n',\n",
       " '117,Steven,Male,3/1/1995,3:03 PM,109095,9.494,False,Finance\\n',\n",
       " '118,Andrea,Female,1/12/2012,5:43 AM,120204,9.557,False,Business Development\\n',\n",
       " '119,Paul,Male,6/3/2008,3:05 PM,41054,12.299,False,Marketing\\n',\n",
       " '120,Peter,Male,11/17/1994,6:15 PM,84885,15.402,False,Business Development\\n',\n",
       " '122,Christina,Female,4/13/2012,2:04 PM,110169,13.892,True,Engineering\\n',\n",
       " '123,Helen,Female,11/29/2001,2:30 AM,73789,14.841,True,Product\\n',\n",
       " '124,Marilyn,Female,11/16/1983,8:29 AM,76078,2.401,True,Product\\n',\n",
       " '125,Patricia,Female,9/1/2003,6:46 AM,49368,14.226,False,Human Resources\\n',\n",
       " '126,Michelle,Female,3/30/1984,6:43 PM,57325,17.179,True,Human Resources\\n',\n",
       " '127,William,Male,9/29/2002,4:09 PM,66521,5.83,False,Human Resources\\n',\n",
       " '128,Kenneth,Male,8/25/1987,9:16 PM,127654,16.439,True,Client Services\\n',\n",
       " '129,Antonio,Male,10/25/1988,1:50 PM,60866,13.101,True,Business Development\\n',\n",
       " '130,Shirley,Female,5/1/1984,1:15 PM,41334,6.219,True,Human Resources\\n',\n",
       " '131,Rebecca,Female,7/10/1992,12:23 AM,94231,17.517,False,Product\\n',\n",
       " '132,Carlos,Male,1/4/1995,7:02 AM,146670,10.763,False,Human Resources\\n',\n",
       " '133,Lois,Female,12/25/1987,4:16 PM,106317,2.235,True,Client Services\\n',\n",
       " '134,Carolyn,Female,4/9/2011,5:38 AM,109260,2.65,True,Business Development\\n',\n",
       " '135,Gloria,Female,6/29/2007,5:34 AM,134148,8.833,True,Legal\\n',\n",
       " '136,Henry,Male,4/24/1995,4:18 AM,43542,19.687,False,Legal\\n',\n",
       " '137,Adam,Male,5/21/2011,1:45 AM,95327,15.12,False,Distribution\\n',\n",
       " '138,Ashley,Female,5/25/2006,11:30 AM,112238,6.03,True,Engineering\\n',\n",
       " '140,Shirley,Female,2/28/1981,1:23 PM,113850,1.854,False,Marketing\\n',\n",
       " '141,Adam,Male,12/24/1990,8:57 PM,110194,14.727,True,Product\\n',\n",
       " '142,Elizabeth,Female,10/9/2003,5:53 PM,146129,5.687,False,Finance\\n',\n",
       " '145,Jennifer,Female,4/4/2009,10:47 PM,71715,13.079,True,Client Services\\n',\n",
       " '146,Patricia,Female,11/25/1992,2:24 AM,95322,4.15,False,Product\\n',\n",
       " '147,Philip,Male,7/17/2008,1:30 PM,89227,3.996,False,Legal\\n',\n",
       " '150,Sean,Male,5/4/1996,8:59 PM,135490,19.934,False,Marketing\\n',\n",
       " '152,Ruth,Female,8/19/1999,4:03 AM,129297,8.067,True,Client Services\\n',\n",
       " '154,Rebecca,Female,11/15/1980,4:13 AM,85730,5.359,True,Product\\n',\n",
       " '155,Marie,Female,3/16/2003,12:12 AM,104058,17.695,True,Business Development\\n',\n",
       " '156,Howard,Male,4/27/1992,1:10 AM,105062,1.563,False,Human Resources\\n',\n",
       " '158,Norma,Female,2/28/1999,8:45 PM,114412,8.756,True,Marketing\\n',\n",
       " '160,Kathy,Female,3/18/2000,7:26 PM,149563,16.991,True,Finance\\n',\n",
       " '162,Arthur,Male,4/13/1998,11:28 AM,89786,14.422,True,Legal\\n',\n",
       " '163,Terry,Male,9/3/1990,9:15 PM,52226,19.135,False,Client Services\\n',\n",
       " '164,Mary,Female,8/13/1999,1:03 AM,134645,18.197,False,Business Development\\n',\n",
       " '167,Christopher,Male,12/24/2011,12:22 PM,142178,17.984,True,Sales\\n',\n",
       " '169,Michelle,Female,11/4/1996,9:34 PM,53754,5.455,True,Product\\n',\n",
       " '170,Irene,Female,1/29/1992,11:36 AM,133772,19.02,True,Sales\\n',\n",
       " '171,Patrick,Male,8/17/2007,3:16 AM,143499,17.495,True,Engineering\\n',\n",
       " '172,Sara,Female,9/23/1991,6:17 PM,97058,9.402,False,Finance\\n',\n",
       " '173,Lillian,Female,12/21/2008,6:51 PM,85446,3.959,True,Engineering\\n',\n",
       " '175,Willie,Male,2/17/1998,8:20 PM,146651,1.451,True,Engineering\\n',\n",
       " '176,Victor,Male,1/8/2003,1:02 PM,124486,10.166,False,Product\\n',\n",
       " '177,Wayne,Male,4/7/2012,8:00 AM,102652,14.085,True,Distribution\\n',\n",
       " '178,Jane,Female,9/3/1997,2:01 AM,144474,17.648,False,Product\\n',\n",
       " '179,Jessica,Female,10/23/1995,5:53 AM,68759,19.343,True,Finance\\n',\n",
       " '180,Mark,Male,4/12/2008,5:40 PM,57286,5.025,True,Business Development\\n',\n",
       " '181,Randy,Male,11/14/1999,12:12 PM,58129,1.952,True,Distribution\\n',\n",
       " '182,Lillian,Female,6/19/1999,4:44 PM,123940,12.184,True,Business Development\\n',\n",
       " '184,Jerry,Male,12/18/2003,6:46 AM,140810,9.177,True,Client Services\\n',\n",
       " '185,Sandra,Female,1/19/1983,7:25 AM,42090,8.842,True,Legal\\n',\n",
       " '187,Roger,Male,11/19/2004,3:55 PM,51430,6.46,False,Marketing\\n',\n",
       " '188,Charles,Male,10/14/2000,9:40 PM,71749,15.931,False,Legal\\n',\n",
       " '189,Clarence,Male,5/2/1998,3:16 AM,85700,1.215,False,Sales\\n',\n",
       " '190,Carol,Female,3/19/1996,3:39 AM,57783,9.129,False,Finance\\n',\n",
       " '191,Lois,Female,10/18/2013,4:51 PM,36946,6.652,False,Engineering\\n',\n",
       " '193,Rebecca,Female,2/18/1995,6:50 AM,109259,4.443,True,Legal\\n',\n",
       " '194,Irene,Female,1/30/2004,8:25 PM,131038,8.996,False,Distribution\\n',\n",
       " '195,Ronald,Male,4/30/2014,2:19 PM,121068,12.757,True,Product\\n',\n",
       " '196,Steven,Male,11/10/1985,10:53 AM,62719,19.127,False,Client Services\\n',\n",
       " '197,Carolyn,Female,11/6/2012,3:51 AM,69268,3.031,False,Client Services\\n',\n",
       " '198,Maria,Female,12/27/1990,9:57 PM,36067,9.64,True,Product\\n',\n",
       " '200,Gary,Male,8/12/1987,12:04 AM,89661,8.525,False,Finance\\n',\n",
       " '201,Kimberly,Female,7/15/1997,5:57 AM,36643,7.953,False,Marketing\\n',\n",
       " '202,Roger,Male,11/8/1982,2:32 AM,140558,5.084,True,Sales\\n',\n",
       " '203,Diana,Female,1/4/2013,7:53 AM,103521,2.784,True,Business Development\\n',\n",
       " '204,Willie,Male,6/6/2006,9:45 AM,55281,4.935,True,Marketing\\n',\n",
       " '205,Brandon,Male,3/27/2006,5:54 PM,115711,8.012,True,Finance\\n',\n",
       " '206,Patricia,Female,12/6/2012,4:01 AM,114079,8.399,True,Client Services\\n',\n",
       " '207,Katherine,Female,11/14/1999,8:15 AM,57531,1.767,False,Client Services\\n',\n",
       " '208,Jonathan,Male,10/12/1987,2:59 AM,141069,4.903,False,Human Resources\\n',\n",
       " '209,Emily,Female,9/20/2007,11:25 AM,89434,11.295,False,Engineering\\n',\n",
       " '210,Ruth,Female,8/12/1986,7:29 PM,44639,9.148,True,Legal\\n',\n",
       " '211,Linda,Female,6/24/2006,12:04 PM,110967,19.612,True,Human Resources\\n',\n",
       " '212,Lisa,Female,11/2/2009,9:42 AM,115387,1.821,False,Client Services\\n',\n",
       " '213,Evelyn,Female,5/24/1980,11:10 PM,81673,15.364,True,Engineering\\n',\n",
       " '214,Julie,Female,7/23/1989,1:52 PM,109588,3.55,False,Engineering\\n',\n",
       " '215,Mary,Female,5/30/2009,11:41 PM,92544,3.8,False,Client Services\\n',\n",
       " '216,Matthew,Male,7/31/2013,8:04 AM,142373,2.462,False,Marketing\\n',\n",
       " '217,Douglas,Male,9/3/1999,4:00 PM,83341,1.015,True,Client Services\\n',\n",
       " '219,Billy,Male,3/13/1995,12:05 PM,120444,7.768,True,Finance\\n',\n",
       " '221,Gregory,Male,1/29/2000,6:01 AM,109564,3.845,False,Legal\\n',\n",
       " '222,Jason,Male,10/17/1999,10:09 PM,78417,3.067,False,Finance\\n',\n",
       " '223,Daniel,Male,4/30/2010,3:48 AM,106947,15.866,True,Legal\\n',\n",
       " '224,Sarah,Female,9/14/1995,7:50 AM,87298,2.311,False,Distribution\\n',\n",
       " '225,Harry,Male,10/1/2015,7:47 PM,64579,15.266,True,Sales\\n',\n",
       " '226,Kathy,Female,4/19/1995,12:46 AM,50905,9.404,True,Finance\\n',\n",
       " '227,Todd,Male,4/13/1999,10:31 AM,59728,11.226,True,Client Services\\n',\n",
       " '228,Bobby,Male,9/23/1994,1:29 AM,51685,17.445,True,Engineering\\n',\n",
       " '229,Jeremy,Male,6/8/2000,12:15 AM,49542,1.679,True,Distribution\\n',\n",
       " '231,Diane,Female,4/18/1993,3:22 AM,64084,17.018,False,Product\\n',\n",
       " '232,Marilyn,Female,4/4/1997,9:28 PM,147663,10.263,False,Human Resources\\n',\n",
       " '233,Kathryn,Female,2/4/2004,1:47 PM,73935,14.752,False,Sales\\n',\n",
       " '234,Irene,Female,2/4/1982,5:26 PM,40837,12.182,True,Client Services\\n',\n",
       " '235,Norma,Female,2/11/2015,11:44 PM,94393,3.643,True,Engineering\\n',\n",
       " '236,Laura,Female,4/2/2006,1:57 PM,42087,2.624,False,Product\\n',\n",
       " '237,Cheryl,Female,9/23/2008,2:57 AM,52080,9.375,False,Legal\\n',\n",
       " '238,Kevin,Male,3/25/1982,7:31 AM,35061,5.128,False,Legal\\n',\n",
       " '241,Walter,Male,7/6/1983,11:54 PM,127813,5.961,False,Finance\\n',\n",
       " '242,Robert,Male,10/27/1990,7:15 PM,38041,18.428,True,Engineering\\n',\n",
       " '243,Jimmy,Male,10/7/1986,5:53 PM,126310,5.413,True,Product\\n',\n",
       " '244,Clarence,Male,10/8/1996,12:53 PM,142561,8.866,False,Client Services\\n',\n",
       " '245,Victor,Male,4/11/1991,7:44 AM,70817,17.138,False,Engineering\\n',\n",
       " '248,Justin,Male,12/6/1992,5:58 PM,82782,4.366,True,Distribution\\n',\n",
       " '249,Betty,Female,6/12/2002,3:59 AM,104896,19.55,True,Business Development\\n',\n",
       " '252,Ralph,Male,11/11/2004,1:35 AM,71896,4.232,True,Marketing\\n',\n",
       " '254,Edward,Male,5/27/1985,10:13 PM,110485,7.995,False,Client Services\\n',\n",
       " '255,Denise,Female,3/20/2009,7:57 AM,115118,5.108,False,Human Resources\\n',\n",
       " '256,Debra,Female,3/13/1998,11:16 PM,48696,4.75,False,Legal\\n',\n",
       " '259,Henry,Male,2/6/1995,8:34 AM,89258,15.585,True,Human Resources\\n',\n",
       " '260,Gloria,Female,3/27/2007,1:44 AM,90730,2.491,False,Distribution\\n',\n",
       " '261,Marie,Female,8/6/1995,1:58 PM,100308,13.677,False,Product\\n',\n",
       " '262,Anne,Female,7/16/1986,2:08 PM,69134,3.723,True,Engineering\\n',\n",
       " '264,Stephanie,Female,3/24/1983,11:15 AM,50141,13.218,True,Human Resources\\n',\n",
       " '265,Roy,Male,9/23/2004,1:31 PM,101941,3.45,False,Client Services\\n',\n",
       " '268,Irene,Female,3/3/1982,8:26 AM,56526,5.81,True,Finance\\n',\n",
       " '270,Thomas,Male,4/6/2011,1:04 PM,103235,9.554,True,Human Resources\\n',\n",
       " '272,Fred,Male,2/20/1980,2:25 AM,74129,18.225,False,Product\\n',\n",
       " '273,Nicholas,Male,4/12/1994,8:21 PM,74669,1.113,True,Product\\n',\n",
       " '274,Howard,Male,10/5/1982,7:22 AM,97490,5.46,True,Marketing\\n',\n",
       " '275,Debra,Female,2/22/1994,10:25 PM,104250,18.456,True,Business Development\\n',\n",
       " '276,Christine,Female,7/3/1989,4:01 AM,94345,11.996,False,Finance\\n',\n",
       " '278,Betty,Female,6/28/2005,6:03 PM,51613,12.984,False,Distribution\\n',\n",
       " '279,Ruby,Female,11/8/2000,7:35 PM,105946,1.139,False,Business Development\\n',\n",
       " '280,Kevin,Male,7/12/1997,2:07 AM,46080,9.635,False,Business Development\\n',\n",
       " '281,Arthur,Male,1/1/2014,7:46 PM,134610,6.147,True,Human Resources\\n',\n",
       " '283,Todd,Male,3/11/2009,3:43 AM,107281,1.612,True,Engineering\\n',\n",
       " '284,Brenda,Female,10/6/2005,9:33 PM,141521,4.337,False,Client Services\\n',\n",
       " '285,Judy,Female,9/16/1997,12:10 AM,65931,2.304,False,Human Resources\\n',\n",
       " '286,Todd,Male,2/2/1984,10:13 AM,69989,10.985,True,Finance\\n',\n",
       " '287,Lois,Female,11/9/2011,7:06 AM,147183,9.999,True,Client Services\\n',\n",
       " '289,Jessica,Female,9/27/1985,1:35 PM,75145,6.388,True,Legal\\n',\n",
       " '291,Tammy,Female,11/11/1984,10:30 AM,132839,17.463,True,Client Services\\n',\n",
       " '292,Anne,Female,3/7/2000,6:45 AM,44537,18.284,True,Client Services\\n',\n",
       " '293,Jesse,Male,10/25/1999,3:35 PM,118733,9.653,False,Marketing\\n',\n",
       " '294,Virginia,Female,10/20/1999,6:23 AM,46905,19.154,False,Distribution\\n',\n",
       " '295,Jesse,Male,3/2/1981,7:26 PM,79582,3.873,False,Legal\\n',\n",
       " '297,Daniel,Male,9/15/2007,10:16 PM,123811,7.664,True,Human Resources\\n',\n",
       " '299,Emily,Female,1/13/1988,6:42 AM,36711,19.028,True,Human Resources\\n',\n",
       " '300,Alan,Male,6/26/1988,3:54 AM,111786,3.592,True,Engineering\\n',\n",
       " '301,James,Male,7/11/2015,8:52 PM,72257,13.023,False,Engineering\\n',\n",
       " '302,Adam,Male,7/5/2007,11:59 AM,71276,5.027,True,Human Resources\\n',\n",
       " '304,Jeremy,Male,8/12/1981,12:05 AM,46930,18.702,True,Finance\\n',\n",
       " '305,Margaret,Female,2/6/1993,1:05 PM,125220,3.733,False,Marketing\\n',\n",
       " '306,Mark,Male,4/1/1984,1:21 PM,121477,17.44,True,Business Development\\n',\n",
       " '307,Marilyn,Female,9/26/1981,2:23 AM,86386,2.937,False,Distribution\\n',\n",
       " '308,Cheryl,Female,9/8/2009,10:16 AM,81308,2.196,True,Legal\\n',\n",
       " '309,Benjamin,Male,9/11/1984,6:37 AM,84810,15.794,False,Marketing\\n',\n",
       " '310,Harold,Male,2/20/1990,11:00 PM,66775,2.158,True,Legal\\n',\n",
       " '312,Gerald,Male,4/16/2001,10:09 PM,121604,1.923,True,Sales\\n',\n",
       " '313,Judy,Female,7/1/1991,2:33 AM,109510,13.457,True,Legal\\n',\n",
       " '316,Marie,Female,10/3/2013,8:05 PM,123711,10.966,False,Product\\n',\n",
       " '317,Kathy,Female,12/18/2013,3:09 PM,132381,8.34,False,Business Development\\n',\n",
       " '318,Roy,Male,8/6/2006,7:52 AM,148225,1.841,False,Finance\\n',\n",
       " '319,Jacqueline,Female,11/25/1981,3:01 PM,145988,18.243,False,Marketing\\n',\n",
       " '321,Julie,Female,3/23/1986,9:26 AM,56926,7.507,False,Sales\\n',\n",
       " '322,Douglas,Male,1/8/2002,6:42 PM,41428,14.372,False,Product\\n',\n",
       " '323,Linda,Female,12/16/1990,2:20 AM,115658,3.041,True,Sales\\n',\n",
       " '324,Ruby,Female,12/10/1988,8:27 PM,76707,6.031,False,Business Development\\n',\n",
       " '325,Russell,Male,1/2/2005,1:48 AM,60388,17.885,False,Client Services\\n',\n",
       " '326,Jeffrey,Male,6/18/1997,8:01 PM,45150,12.075,True,Product\\n',\n",
       " '327,Aaron,Male,1/29/1994,6:48 PM,58755,5.097,True,Marketing\\n',\n",
       " '328,Samuel,Male,12/19/1991,2:54 AM,76076,5.319,True,Finance\\n',\n",
       " '330,Randy,Male,3/16/2014,6:24 PM,135119,7.887,False,Client Services\\n',\n",
       " '331,Evelyn,Female,9/3/1983,1:58 PM,36759,17.269,True,Marketing\\n',\n",
       " '332,Fred,Male,2/13/1987,2:15 PM,121723,18.645,True,Product\\n',\n",
       " '333,Shirley,Female,6/8/1986,2:25 AM,110061,7.494,False,Client Services\\n',\n",
       " '334,Todd,Male,5/23/2011,4:14 PM,85074,1.844,False,Client Services\\n',\n",
       " '335,Robert,Male,11/18/2014,5:00 AM,85799,19.93,False,Finance\\n',\n",
       " '336,Mark,Male,1/22/2007,2:37 PM,75150,12.182,True,Legal\\n',\n",
       " '337,Earl,Male,1/5/2000,5:46 PM,91344,4.035,True,Sales\\n',\n",
       " '338,Richard,Male,9/27/2005,1:41 AM,86326,10.717,False,Product\\n',\n",
       " '339,Michael,Male,11/22/1991,12:57 PM,98753,16.443,True,Human Resources\\n',\n",
       " '340,Steven,Male,5/12/2009,2:14 PM,113060,2.846,True,Sales\\n',\n",
       " '341,Carlos,Male,9/19/2007,1:01 AM,77327,11.58,True,Finance\\n',\n",
       " '342,Marie,Female,10/20/2011,10:09 PM,62666,10.247,False,Product\\n',\n",
       " '343,Ronald,Male,2/24/2009,2:09 PM,96633,4.99,True,Engineering\\n',\n",
       " '344,Scott,Male,5/12/2009,4:36 AM,58248,3.914,False,Business Development\\n',\n",
       " '345,Steven,Male,11/21/2006,8:30 AM,83706,6.96,True,Human Resources\\n',\n",
       " '346,James,Male,11/22/1998,3:48 AM,74086,5.778,True,Human Resources\\n',\n",
       " '347,Lori,Female,3/31/1988,10:59 PM,95389,14.223,False,Sales\\n',\n",
       " '348,Philip,Male,8/2/1989,11:21 AM,129968,19.897,False,Finance\\n',\n",
       " '349,Phyllis,Female,11/24/2005,11:57 PM,140347,8.723,False,Sales\\n',\n",
       " '351,Cynthia,Female,12/3/2012,11:03 PM,74287,10.751,False,Sales\\n',\n",
       " '354,Elizabeth,Female,11/10/2005,4:56 AM,106406,1.782,True,Legal\\n',\n",
       " '355,Andrea,Female,9/14/2003,10:30 PM,115913,12.121,False,Legal\\n',\n",
       " '356,Judy,Female,2/1/1990,3:32 PM,38092,5.668,False,Distribution\\n',\n",
       " '357,Russell,Male,8/13/2014,3:51 PM,121160,7.843,False,Engineering\\n',\n",
       " '358,Scott,Male,12/17/2011,3:45 AM,90429,4.45,False,Product\\n',\n",
       " '359,Sarah,Female,5/22/1994,7:06 AM,64207,7.824,True,Client Services\\n',\n",
       " '360,Susan,Female,9/25/2004,1:30 AM,80688,18.892,True,Sales\\n',\n",
       " '361,Margaret,Female,5/5/2014,6:01 AM,55044,4.078,False,Sales\\n',\n",
       " '362,Joshua,Male,11/9/2009,6:32 AM,72893,9.555,False,Distribution\\n',\n",
       " '364,Juan,Male,4/16/2002,11:09 PM,97364,3.595,False,Product\\n',\n",
       " '368,Marilyn,Female,12/17/1982,12:10 PM,147183,8.748,False,Business Development\\n',\n",
       " '369,Mary,Female,10/18/2009,6:32 PM,87721,12.484,False,Product\\n',\n",
       " '370,Linda,Female,7/15/2009,10:12 PM,144001,2.194,False,Business Development\\n',\n",
       " '371,Larry,Male,8/27/2003,1:00 PM,91133,5.14,False,Sales\\n',\n",
       " '372,Albert,Male,2/1/1997,4:20 PM,67827,19.717,True,Engineering\\n',\n",
       " '373,Kenneth,Male,4/13/1999,10:28 PM,81839,12.072,False,Sales\\n',\n",
       " '376,Brandon,Male,10/16/2015,2:44 AM,112548,4.664,False,Engineering\\n',\n",
       " '377,Stephen,Male,4/9/1987,12:47 PM,111249,10.574,True,Human Resources\\n',\n",
       " '378,Russell,Male,10/30/1994,5:46 AM,114334,9.669,False,Product\\n',\n",
       " '381,Scott,Male,8/3/1996,1:50 AM,64172,10.894,True,Engineering\\n',\n",
       " '383,Carlos,Male,7/28/2010,3:08 PM,50167,2.362,False,Product\\n',\n",
       " '384,Jack,Male,12/24/1980,10:58 PM,106995,15.723,False,Product\\n',\n",
       " '385,Debra,Female,1/19/2010,8:48 AM,70492,8.895,False,Client Services\\n',\n",
       " '386,Phyllis,Female,1/15/1995,5:27 AM,125881,16.697,False,Sales\\n',\n",
       " '387,Robert,Male,10/29/1994,4:26 AM,123294,19.894,False,Client Services\\n',\n",
       " '388,Gloria,Female,9/19/1989,7:40 PM,131045,11.312,True,Product\\n',\n",
       " '391,Marilyn,Female,8/15/1989,9:14 AM,140502,9.989,True,Sales\\n',\n",
       " '392,Ralph,Male,10/27/2010,10:28 AM,106310,4.03,True,Client Services\\n',\n",
       " '394,Robin,Female,1/8/1998,2:12 AM,111163,5.025,True,Product\\n',\n",
       " '395,Kathy,Female,11/25/2001,9:55 PM,93753,7.094,True,Sales\\n',\n",
       " '396,Rose,Female,7/6/2002,3:57 PM,63494,19.385,True,Human Resources\\n',\n",
       " '397,Clarence,Male,1/13/2005,9:00 AM,116693,13.835,True,Distribution\\n',\n",
       " '398,Doris,Female,7/29/1992,6:40 PM,85215,7.425,True,Human Resources\\n',\n",
       " '399,Kathryn,Female,6/9/1988,9:29 AM,86439,7.799,False,Finance\\n',\n",
       " '401,Norma,Female,4/16/1996,5:40 AM,38872,9.302,True,Business Development\\n',\n",
       " '403,Craig,Male,2/8/1984,4:45 AM,113506,19.642,False,Marketing\\n',\n",
       " '405,Sharon,Female,3/9/2014,4:39 PM,91522,7.564,False,Finance\\n',\n",
       " '406,Mary,Female,8/22/2010,8:03 AM,42214,17.538,True,Business Development\\n',\n",
       " '408,Joe,Male,12/5/2010,4:20 PM,144082,1.62,True,Client Services\\n',\n",
       " '409,Jeremy,Male,5/29/1994,6:24 AM,47885,19.276,True,Human Resources\\n',\n",
       " '410,Ernest,Male,8/14/2012,11:25 AM,126232,6.191,True,Sales\\n',\n",
       " '411,Kevin,Male,6/23/1981,8:26 PM,134598,11.699,False,Business Development\\n',\n",
       " '412,Jacqueline,Female,2/11/2007,2:01 AM,66604,14.609,False,Legal\\n',\n",
       " '413,Johnny,Male,9/14/1992,8:21 AM,115194,5.861,True,Marketing\\n',\n",
       " '414,Gary,Male,8/18/2011,8:12 AM,49101,11.9,True,Business Development\\n',\n",
       " '418,Julia,Female,3/2/1982,12:52 PM,36403,2.664,True,Finance\\n',\n",
       " '419,Dorothy,Female,11/5/2013,10:50 PM,140136,3.12,True,Business Development\\n',\n",
       " '420,Justin,Male,5/22/1986,6:30 AM,121508,19.334,True,Finance\\n',\n",
       " '421,Kevin,Male,11/20/1986,6:59 PM,79906,18.021,True,Sales\\n',\n",
       " '422,Victor,Male,9/24/2005,12:04 PM,123144,16.261,True,Product\\n',\n",
       " '423,Deborah,Female,11/25/1980,4:33 AM,46953,17.436,False,Client Services\\n',\n",
       " '425,Alice,Female,5/2/1986,1:50 AM,51395,2.378,True,Finance\\n',\n",
       " '426,Todd,Male,3/16/2016,2:45 PM,134408,3.56,True,Human Resources\\n',\n",
       " '427,Frank,Male,1/10/1981,1:30 PM,71853,8.037,True,Sales\\n',\n",
       " '428,Christopher,Male,5/13/1999,10:48 AM,68028,7.869,True,Finance\\n',\n",
       " '429,Rose,Female,5/28/2015,8:40 AM,149903,5.63,False,Human Resources\\n',\n",
       " '430,Andrea,Female,10/1/2010,11:54 AM,79123,19.422,False,Distribution\\n',\n",
       " '431,Charles,Male,12/16/1999,8:28 PM,104014,7.077,False,Legal\\n',\n",
       " '433,Wanda,Female,7/20/2008,1:44 PM,65362,7.132,True,Legal\\n',\n",
       " '435,Billy,Male,12/1/2006,3:32 PM,144709,10.069,True,Distribution\\n',\n",
       " '436,Kathryn,Female,8/29/2007,6:10 AM,53061,11.864,True,Finance\\n',\n",
       " '437,Denise,Female,3/18/2001,12:02 AM,36697,11.196,True,Sales\\n',\n",
       " '439,Nicholas,Male,3/1/2013,9:26 PM,101036,2.826,True,Human Resources\\n',\n",
       " '440,Aaron,Male,7/22/1990,2:53 PM,52119,11.343,True,Client Services\\n',\n",
       " '441,Louise,Female,5/13/2003,9:47 AM,46666,1.886,True,Business Development\\n',\n",
       " '442,Julie,Female,4/23/1998,5:52 AM,73437,2.518,True,Finance\\n',\n",
       " '443,Kathy,Female,5/8/1987,6:19 PM,86318,18.492,True,Sales\\n',\n",
       " '446,Cheryl,Female,8/16/1994,8:33 AM,67150,15.85,True,Marketing\\n',\n",
       " '447,Gregory,Male,5/15/2009,3:52 PM,142208,11.204,True,Engineering\\n',\n",
       " '448,Wayne,Male,1/30/1992,3:01 PM,81183,17.066,False,Client Services\\n',\n",
       " '449,Beverly,Female,11/30/2005,2:57 AM,107163,3.665,True,Human Resources\\n',\n",
       " '450,Willie,Male,8/22/2009,1:03 PM,55038,19.691,False,Legal\\n',\n",
       " '452,Scott,Male,11/17/2012,2:47 PM,146812,1.965,True,Marketing\\n',\n",
       " '453,Annie,Female,12/19/1994,6:19 AM,40119,4.338,True,Human Resources\\n',\n",
       " '455,Ruth,Female,10/24/2000,4:13 AM,69579,18.029,True,Human Resources\\n',\n",
       " '457,Patricia,Female,1/9/2015,4:16 AM,121232,16.624,False,Legal\\n',\n",
       " '458,Albert,Male,9/30/2007,5:34 PM,102626,15.843,False,Finance\\n',\n",
       " '460,Tina,Female,1/17/2005,9:11 AM,88276,14.248,False,Legal\\n',\n",
       " '461,Jeremy,Male,8/9/2001,3:56 AM,43354,13.946,False,Marketing\\n',\n",
       " '462,Craig,Male,4/14/1996,9:17 AM,125556,7.996,False,Engineering\\n',\n",
       " '463,Jose,Male,7/11/2002,9:15 AM,59862,3.269,False,Product\\n',\n",
       " '464,Lawrence,Male,5/13/2005,1:25 AM,74640,18.641,False,Marketing\\n',\n",
       " '465,Helen,Female,10/31/1997,2:43 AM,52875,4.188,False,Legal\\n',\n",
       " '466,Walter,Male,8/4/2007,1:59 PM,58789,5.461,False,Sales\\n',\n",
       " '467,Amy,Female,6/19/2002,3:06 AM,122897,8.222,True,Engineering\\n',\n",
       " '468,Janice,Female,6/28/1997,1:48 PM,136032,10.696,True,Marketing\\n',\n",
       " '469,Stephen,Male,5/9/2015,7:07 PM,141958,9.078,True,Legal\\n',\n",
       " '470,Ryan,Male,7/20/1993,10:18 PM,139917,11.466,False,Distribution\\n',\n",
       " '471,Sharon,Female,3/12/2002,6:32 AM,147635,14.693,False,Human Resources\\n',\n",
       " '472,Joshua,Male,7/10/1984,7:22 PM,68230,8.047,False,Client Services\\n',\n",
       " '473,Clarence,Male,8/20/1992,8:23 PM,124365,8.457,False,Business Development\\n',\n",
       " '474,Jonathan,Male,8/15/2002,12:01 AM,104749,11.364,False,Engineering\\n',\n",
       " '475,Stephanie,Female,11/26/1992,12:54 AM,122121,7.937,True,Engineering\\n',\n",
       " '476,Kathy,Female,10/25/1996,12:59 PM,143541,8.461,False,Human Resources\\n',\n",
       " '477,Albert,Male,8/14/2008,5:43 PM,137840,9.705,False,Business Development\\n',\n",
       " '478,Michael,Male,5/22/2011,10:42 AM,73354,18.357,False,Business Development\\n',\n",
       " '480,Amy,Female,3/30/2008,10:54 PM,106249,15.967,False,Sales\\n',\n",
       " '484,Joe,Male,4/14/2000,3:14 PM,50645,11.119,False,Marketing\\n',\n",
       " '485,Ashley,Female,8/15/1997,9:48 PM,142415,1.985,True,Finance\\n',\n",
       " '486,Howard,Male,4/9/2012,6:36 AM,37984,2.021,False,Distribution\\n',\n",
       " '487,Cheryl,Female,12/3/2014,9:27 AM,71751,15.918,False,Business Development\\n',\n",
       " '488,Robert,Male,3/11/2007,11:20 AM,135882,19.944,False,Legal\\n',\n",
       " '489,Sharon,Female,7/1/2011,9:50 AM,46007,19.731,True,Client Services\\n',\n",
       " '490,Judith,Female,11/23/2007,1:22 PM,117055,7.461,False,Marketing\\n',\n",
       " '492,Jerry,Male,1/30/1995,7:51 PM,121357,18.845,False,Business Development\\n',\n",
       " '493,Craig,Male,11/1/2005,11:31 PM,44857,13.266,False,Finance\\n',\n",
       " '494,Barbara,Female,3/21/2002,8:02 AM,47322,7.25,True,Sales\\n',\n",
       " '495,Eugene,Male,5/24/1984,10:54 AM,81077,2.117,False,Sales\\n',\n",
       " '496,Johnny,Male,2/26/2016,7:39 PM,76394,5.437,True,Marketing\\n',\n",
       " '497,Benjamin,Male,5/5/2013,3:28 PM,114356,7.123,False,Client Services\\n',\n",
       " '498,Diana,Female,6/13/1994,4:21 PM,41831,4.548,False,Business Development\\n',\n",
       " '500,Christine,Female,2/1/2003,1:11 PM,72613,11.126,False,Legal\\n',\n",
       " '501,Sean,Male,2/11/2013,7:07 PM,42748,9.765,False,Distribution\\n',\n",
       " '502,Sarah,Female,11/3/1980,2:47 PM,37259,1.763,False,Client Services\\n',\n",
       " '503,Roger,Male,8/3/2015,4:56 PM,125033,4.887,True,Marketing\\n',\n",
       " '506,Donald,Male,7/14/1995,7:51 AM,106472,6.499,True,Client Services\\n',\n",
       " '507,Clarence,Male,11/3/2015,12:11 AM,103684,18.654,True,Engineering\\n',\n",
       " '508,Scott,Male,11/23/1996,7:36 PM,96111,15.592,False,Human Resources\\n',\n",
       " '509,Ann,Female,11/4/1984,12:17 PM,90719,6.22,False,Business Development\\n',\n",
       " '510,Frank,Male,4/27/2003,12:04 PM,140303,17.07,False,Legal\\n',\n",
       " '511,Joe,Male,7/4/1983,7:32 AM,62161,8.13,True,Business Development\\n',\n",
       " '515,Larry,Male,1/8/1999,2:05 AM,97370,10.458,False,Sales\\n',\n",
       " '516,Gloria,Female,4/12/1992,8:26 PM,66224,15.979,True,Legal\\n',\n",
       " '517,Ruth,Female,12/12/1996,10:07 AM,97915,3.997,True,Human Resources\\n',\n",
       " '518,Diana,Female,1/19/1995,12:37 AM,86883,18.003,True,Product\\n',\n",
       " '519,Raymond,Male,2/16/2009,10:38 PM,37812,3.178,False,Human Resources\\n',\n",
       " '522,Catherine,Female,8/31/2013,7:24 PM,58047,14.858,True,Distribution\\n',\n",
       " '523,Diane,Female,7/5/1982,4:56 PM,124889,15.026,True,Sales\\n',\n",
       " '525,Steve,Male,8/22/1995,6:58 AM,67780,9.54,True,Human Resources\\n',\n",
       " '526,Barbara,Female,3/22/2004,8:11 AM,144677,8.696,False,Finance\\n',\n",
       " '529,Christopher,Male,4/23/2014,7:52 AM,82401,7.252,False,Client Services\\n',\n",
       " '530,Kathleen,Female,6/13/2014,9:16 AM,35575,14.595,False,Distribution\\n',\n",
       " '531,Virginia,Female,5/2/2010,9:10 PM,123649,10.154,True,Marketing\\n',\n",
       " '532,Lisa,Female,2/26/2005,6:33 PM,38078,10.28,True,Product\\n',\n",
       " '533,Earl,Male,2/11/2014,9:03 PM,52620,13.773,False,Product\\n',\n",
       " '535,Louise,Female,9/18/1981,5:47 AM,91462,8.205,False,Marketing\\n',\n",
       " '536,Clarence,Male,8/26/1982,9:47 AM,146589,4.905,True,Business Development\\n',\n",
       " '537,Cynthia,Female,9/14/1991,1:08 PM,51633,13.472,True,Business Development\\n',\n",
       " '538,Adam,Male,10/8/2010,9:53 PM,45181,3.491,False,Human Resources\\n',\n",
       " '539,Justin,Male,9/6/1999,10:30 AM,62454,3.459,True,Sales\\n',\n",
       " '541,Ruby,Female,5/1/1999,3:36 AM,147362,7.851,True,Engineering\\n',\n",
       " '542,Amanda,Female,8/1/2004,1:32 PM,80803,14.077,True,Distribution\\n',\n",
       " '543,Anna,Female,4/15/2008,2:34 PM,117293,2.366,False,Client Services\\n',\n",
       " '544,Roger,Male,7/3/2010,5:11 PM,105689,13.32,True,Marketing\\n',\n",
       " '546,Joseph,Male,9/10/1992,6:50 PM,102555,3.672,True,Product\\n',\n",
       " '547,Evelyn,Female,9/22/1998,7:55 PM,51525,10.366,False,Finance\\n',\n",
       " '548,Janice,Female,1/2/1984,9:06 PM,41190,3.311,True,Sales\\n',\n",
       " '549,Sara,Female,2/25/1980,10:50 PM,75484,3.186,False,Finance\\n',\n",
       " '550,Gregory,Male,6/18/1984,3:46 AM,82726,16.304,True,Marketing\\n',\n",
       " '551,Philip,Male,7/18/1985,6:36 AM,122319,19.122,False,Engineering\\n',\n",
       " '552,Barbara,Female,9/2/1991,3:41 PM,127297,11.905,True,Product\\n',\n",
       " '553,Amanda,Female,6/7/2002,7:46 AM,109290,13.853,False,Engineering\\n',\n",
       " '555,Anne,Female,10/26/1996,8:09 PM,71930,18.451,True,Product\\n',\n",
       " '556,Arthur,Male,12/16/2014,4:56 PM,66819,6.639,True,Marketing\\n',\n",
       " '557,Jane,Female,6/1/1994,8:39 AM,42424,18.115,False,Distribution\\n',\n",
       " '558,Linda,Female,8/18/1985,4:34 AM,51431,13.295,False,Engineering\\n',\n",
       " '559,Ashley,Female,11/17/1999,9:18 PM,120675,6.51,False,Human Resources\\n',\n",
       " '560,Shawn,Male,12/3/2009,10:24 AM,96610,2.097,True,Client Services\\n',\n",
       " '561,Kathleen,Female,9/20/1996,3:45 PM,71430,8.572,False,Engineering\\n',\n",
       " '563,Randy,Male,5/2/2002,7:39 PM,86723,14.842,False,Engineering\\n',\n",
       " '564,Andrew,Male,3/29/1985,6:57 PM,43414,7.563,True,Client Services\\n',\n",
       " '565,Marilyn,Female,8/9/2006,11:24 AM,87145,17.33,False,Human Resources\\n',\n",
       " '566,Johnny,Male,1/8/1995,1:35 PM,91124,12.986,True,Distribution\\n',\n",
       " '568,Susan,Female,4/18/1986,9:31 AM,90829,19.142,False,Marketing\\n',\n",
       " '569,Ruby,Female,7/7/1980,3:42 AM,101262,6.773,False,Client Services\\n',\n",
       " '570,Kelly,Female,8/16/1996,3:09 AM,41427,1.431,False,Product\\n',\n",
       " '571,Jonathan,Male,4/6/1995,10:38 PM,56993,18.623,False,Marketing\\n',\n",
       " '572,Raymond,Male,1/13/1996,4:14 PM,114244,16.69,False,Human Resources\\n',\n",
       " '575,John,Male,1/22/1995,12:17 AM,66077,5.809,True,Product\\n',\n",
       " '576,Michael,Male,7/30/1993,5:35 PM,35013,14.879,False,Product\\n',\n",
       " '577,Jerry,Male,5/4/2003,4:29 AM,98393,11.393,False,Client Services\\n',\n",
       " '578,Amanda,Female,3/17/1982,11:46 PM,107111,1.438,True,Product\\n',\n",
       " '579,Harold,Male,10/18/2010,8:45 PM,65673,1.187,True,Legal\\n',\n",
       " '581,Ernest,Male,1/28/1990,12:08 AM,81919,15.118,False,Marketing\\n',\n",
       " '582,Harry,Male,11/19/1982,11:25 AM,59277,10.2,False,Finance\\n',\n",
       " '583,Diane,Female,2/2/1988,6:14 PM,49501,13.506,False,Business Development\\n',\n",
       " '584,Jack,Male,5/30/2012,3:17 AM,70367,18.266,True,Legal\\n',\n",
       " '585,Shirley,Female,4/16/1988,11:09 AM,132156,2.754,False,Marketing\\n',\n",
       " '586,Rose,Female,10/30/2004,4:34 PM,56961,7.585,False,Marketing\\n',\n",
       " '587,Cheryl,Female,7/23/1982,6:28 AM,98841,8.945,True,Client Services\\n',\n",
       " '588,Cynthia,Female,5/23/1980,3:19 AM,78226,2.419,False,Human Resources\\n',\n",
       " '589,Sandra,Female,4/24/1995,7:14 PM,116931,9.657,True,Human Resources\\n',\n",
       " '590,Andrea,Female,10/30/1994,11:23 AM,87575,13.346,True,Business Development\\n',\n",
       " '591,Rachel,Female,4/22/1988,12:01 PM,110924,7.808,False,Distribution\\n',\n",
       " '592,Justin,Male,5/24/1981,11:15 PM,78351,15.221,False,Sales\\n',\n",
       " '593,Marie,Female,11/23/2000,5:06 AM,125574,4.644,False,Sales\\n',\n",
       " '594,Louis,Male,4/15/2011,5:02 AM,95198,2.075,False,Business Development\\n',\n",
       " '595,Nancy,Female,5/7/1985,10:20 PM,121006,3.512,True,Finance\\n',\n",
       " '596,Mark,Male,10/3/1984,5:31 AM,95728,6.752,True,Business Development\\n',\n",
       " '597,Teresa,Female,6/24/1987,7:37 PM,69740,8.294,False,Distribution\\n',\n",
       " '598,Frances,Female,7/21/2001,2:34 AM,91996,11.506,False,Product\\n',\n",
       " '604,Bruce,Male,3/15/2013,11:13 PM,141335,15.427,True,Engineering\\n',\n",
       " '605,Rose,Female,5/20/1982,9:14 AM,97691,2.142,False,Client Services\\n',\n",
       " '606,Mildred,Female,2/21/1981,3:30 AM,47266,10.256,False,Client Services\\n',\n",
       " '609,Todd,Male,2/16/2010,11:29 AM,103405,15.91,False,Sales\\n',\n",
       " '610,Alan,Male,2/17/2012,12:26 AM,41453,10.084,False,Product\\n',\n",
       " '614,Eric,Male,11/12/2004,9:16 PM,65168,11.513,False,Distribution\\n',\n",
       " '615,Edward,Male,8/30/2001,1:24 AM,73105,6.083,True,Engineering\\n',\n",
       " '616,Kimberly,Female,12/6/1986,2:23 PM,37916,12.929,True,Distribution\\n',\n",
       " '617,Kathy,Female,1/14/2001,5:11 AM,45682,1.451,True,Marketing\\n',\n",
       " '618,Peter,Male,11/24/1992,5:43 PM,69297,1.268,False,Finance\\n',\n",
       " '619,Beverly,Female,10/22/1990,2:45 PM,59070,19.064,True,Engineering\\n',\n",
       " '620,Ralph,Male,3/7/2012,2:25 AM,81215,8.4,False,Finance\\n',\n",
       " '621,Justin,Male,8/10/1997,11:00 PM,128036,18.824,False,Client Services\\n',\n",
       " '622,Irene,Female,6/23/2005,11:03 AM,89780,8.999,True,Sales\\n',\n",
       " '623,Irene,Female,11/29/2006,2:14 PM,125018,9.601,True,Legal\\n',\n",
       " '624,Jeremy,Male,11/26/1997,8:22 AM,133033,12.2,False,Sales\\n',\n",
       " '625,Cynthia,Female,6/29/2015,6:38 AM,82408,8.701,True,Marketing\\n',\n",
       " '627,Anne,Female,11/21/1984,12:30 PM,128305,16.636,False,Marketing\\n',\n",
       " '629,Debra,Female,3/12/1983,12:19 PM,74911,19.513,False,Marketing\\n',\n",
       " '630,Michael,Male,7/13/1988,1:48 PM,47079,2.617,False,Legal\\n',\n",
       " '632,Rebecca,Female,2/23/1990,3:21 PM,134673,6.878,False,Engineering\\n',\n",
       " '633,Andrea,Female,11/17/2011,2:37 PM,123591,6.5,True,Engineering\\n',\n",
       " '636,Marilyn,Female,7/2/1984,4:06 PM,92430,2.924,False,Engineering\\n',\n",
       " '637,Wayne,Male,9/2/2009,1:37 AM,126956,18.396,False,Human Resources\\n',\n",
       " '638,Frances,Female,11/12/1996,6:08 PM,112467,1.433,False,Business Development\\n',\n",
       " '640,Kathleen,Female,8/28/2004,10:49 AM,42553,3.756,True,Distribution\\n',\n",
       " '641,Amanda,Female,1/25/1995,5:06 AM,102081,5.203,False,Sales\\n',\n",
       " '643,Shawn,Male,9/29/1987,10:11 PM,71975,9.77,False,Human Resources\\n',\n",
       " '644,Katherine,Female,8/13/1996,12:21 AM,149908,18.912,False,Finance\\n',\n",
       " '646,Elizabeth,Female,2/21/2010,7:02 AM,79145,19.78,False,Finance\\n',\n",
       " '648,Gregory,Male,11/15/1999,5:22 PM,128031,15.857,True,Business Development\\n',\n",
       " '649,Ruth,Female,2/17/2004,5:38 AM,59969,14.064,True,Finance\\n',\n",
       " '650,Cynthia,Female,7/5/1986,1:24 AM,35381,11.749,False,Finance\\n',\n",
       " '651,Deborah,Female,11/21/1985,1:40 PM,113129,17.371,False,Client Services\\n',\n",
       " '652,Willie,Male,12/5/2009,5:39 AM,141932,1.017,True,Engineering\\n',\n",
       " '653,Debra,Female,5/28/2006,6:51 AM,42296,16.922,False,Product\\n',\n",
       " '654,Carl,Male,12/14/1984,8:49 PM,63395,11.411,False,Legal\\n',\n",
       " '655,Walter,Male,9/24/2007,11:16 PM,125382,13.613,True,Client Services\\n',\n",
       " '656,Lisa,Female,2/9/1982,6:44 PM,113592,17.108,True,Marketing\\n',\n",
       " '657,Rebecca,Female,3/5/2000,10:33 AM,46750,11.367,True,Sales\\n',\n",
       " '658,Jessica,Female,10/19/1986,9:58 PM,90285,13.591,True,Client Services\\n',\n",
       " '661,Craig,Male,8/21/1995,2:38 AM,123876,4.225,False,Engineering\\n',\n",
       " '662,Katherine,Female,12/19/2000,1:40 AM,41643,4.659,True,Distribution\\n',\n",
       " '663,Andrea,Female,8/31/1989,11:10 PM,113760,12.866,True,Distribution\\n',\n",
       " '664,Timothy,Male,10/6/2010,10:49 PM,49473,12.463,False,Legal\\n',\n",
       " '665,Anthony,Male,2/13/2013,1:35 PM,146141,3.645,True,Distribution\\n',\n",
       " '668,James,Male,12/5/2001,7:06 AM,67789,17.105,True,Legal\\n',\n",
       " '670,Martha,Female,9/14/2001,3:22 AM,135758,14.782,True,Client Services\\n',\n",
       " '671,Laura,Female,7/12/2000,6:07 PM,84672,3.96,False,Distribution\\n',\n",
       " '672,Robert,Male,11/5/1982,12:41 PM,111580,10.982,False,Human Resources\\n',\n",
       " '673,Ralph,Male,3/24/1996,11:54 AM,50455,16.248,False,Business Development\\n',\n",
       " '675,Diane,Female,10/30/2009,6:56 PM,130577,12.791,False,Marketing\\n',\n",
       " '676,Annie,Female,6/6/1992,10:04 AM,138925,9.801,True,Marketing\\n',\n",
       " '677,Jacqueline,Female,9/20/1994,6:07 PM,62371,15.77,True,Client Services\\n',\n",
       " '678,Brenda,Female,4/17/1984,7:12 AM,87715,2.675,False,Product\\n',\n",
       " '679,Lori,Female,9/11/2002,7:36 AM,66029,3.345,True,Client Services\\n',\n",
       " '680,Albert,Male,6/17/1992,3:25 AM,86818,14.301,True,Engineering\\n',\n",
       " '681,Frank,Male,11/23/2002,6:10 PM,75147,17.398,False,Product\\n',\n",
       " '682,Deborah,Female,4/23/2000,6:55 PM,105573,5.268,True,Product\\n',\n",
       " '688,Brian,Male,4/7/2007,10:47 PM,93901,17.821,True,Legal\\n',\n",
       " '690,Bruce,Male,1/28/2007,11:10 PM,134988,13.926,True,Sales\\n',\n",
       " '691,Joan,Female,10/2/2007,2:53 AM,120941,3.694,True,Finance\\n',\n",
       " '692,Harold,Male,5/15/2007,6:37 PM,118753,8.162,False,Sales\\n',\n",
       " '693,Alice,Female,10/16/1995,9:19 PM,92799,2.782,False,Sales\\n',\n",
       " '694,Barbara,Female,11/12/2011,12:35 AM,85718,13.326,False,Client Services\\n',\n",
       " '695,Sarah,Female,4/6/1999,11:17 AM,109517,5.146,False,Human Resources\\n',\n",
       " '696,Samuel,Male,5/25/2012,4:40 PM,85550,11.593,True,Marketing\\n',\n",
       " '700,Frank,Male,3/2/2009,9:15 PM,78891,7.927,True,Distribution\\n',\n",
       " '702,Debra,Female,3/17/2011,1:12 PM,84693,6.976,True,Finance\\n',\n",
       " '704,Thomas,Male,9/7/1991,9:51 AM,65251,11.211,False,Distribution\\n',\n",
       " '705,Harry,Male,9/23/2015,1:36 AM,129148,15.193,True,Engineering\\n',\n",
       " '707,Patricia,Female,3/7/1998,1:10 AM,75825,7.839,False,Engineering\\n',\n",
       " '708,Steve,Male,1/11/2002,9:17 PM,51821,1.197,True,Legal\\n',\n",
       " '710,Edward,Male,11/27/1997,1:00 AM,58327,17.095,True,Finance\\n',\n",
       " '711,Karen,Female,1/9/2014,10:09 PM,46478,16.552,False,Engineering\\n',\n",
       " '713,Ann,Female,9/28/1994,5:44 AM,79796,9.851,False,Distribution\\n',\n",
       " '714,Jonathan,Male,7/30/1984,6:02 PM,83809,12.922,False,Distribution\\n',\n",
       " '715,Peter,Male,3/22/1982,7:28 AM,77933,13.132,True,Engineering\\n',\n",
       " '716,Eric,Male,6/15/1993,3:56 AM,51070,13.806,True,Business Development\\n',\n",
       " '718,Terry,Male,10/21/2010,11:18 PM,58357,7.969,False,Engineering\\n',\n",
       " '719,John,Male,1/29/1999,3:07 AM,67165,13.001,False,Engineering\\n',\n",
       " '720,Marie,Female,4/8/1983,2:01 PM,145988,18.685,True,Human Resources\\n',\n",
       " '721,Harold,Male,4/16/2010,5:13 AM,147417,11.626,True,Business Development\\n',\n",
       " '722,Joshua,Male,6/27/1997,3:23 PM,95003,5.197,True,Marketing\\n',\n",
       " '724,Andrea,Female,12/10/2001,6:40 AM,37888,13.47,False,Engineering\\n',\n",
       " '725,Jeremy,Male,5/19/1991,1:40 PM,131513,1.876,True,Finance\\n',\n",
       " '727,Roy,Male,5/10/2004,1:22 PM,46875,12.942,True,Sales\\n',\n",
       " '728,Dorothy,Female,10/8/2008,12:22 AM,82744,19.111,True,Client Services\\n',\n",
       " '729,Steven,Male,9/7/1986,12:32 AM,43252,18.892,False,Client Services\\n',\n",
       " '730,Nicole,Female,4/26/2009,12:40 AM,66047,18.674,True,Marketing\\n',\n",
       " '731,Ann,Female,7/16/2001,9:27 AM,118431,12.772,True,Finance\\n',\n",
       " '732,Henry,Male,5/12/1986,2:04 AM,59943,1.432,False,Finance\\n',\n",
       " '735,Barbara,Female,11/26/2002,5:32 AM,82884,6.837,True,Business Development\\n',\n",
       " '736,Judy,Female,4/5/2011,1:44 AM,48668,11.716,True,Product\\n',\n",
       " '737,Lawrence,Male,7/23/2011,3:41 AM,122971,14.618,False,Product\\n',\n",
       " '738,Joseph,Male,10/10/2010,11:12 PM,107050,12.737,False,Business Development\\n',\n",
       " '739,Carlos,Male,1/25/1981,10:00 AM,138598,14.737,False,Sales\\n',\n",
       " '741,Jane,Female,7/10/1999,7:02 PM,128540,15.941,False,Legal\\n',\n",
       " '742,Martin,Male,2/25/2016,6:29 PM,61117,2.844,False,Client Services\\n',\n",
       " '743,Steven,Male,5/30/1980,8:25 PM,100949,13.813,True,Human Resources\\n',\n",
       " '745,James,Male,2/16/2008,2:49 AM,69111,14.625,True,Business Development\\n',\n",
       " '746,Gloria,Female,8/19/2004,10:31 AM,46602,1.027,True,Business Development\\n',\n",
       " '747,Ernest,Male,6/30/2001,1:46 PM,61181,16.559,False,Business Development\\n',\n",
       " '748,Martha,Female,7/17/1997,11:11 PM,94963,19.626,True,Business Development\\n',\n",
       " '751,Tina,Female,8/6/1999,3:18 AM,102841,3.369,False,Client Services\\n',\n",
       " '752,Henry,Male,2/23/2007,3:24 AM,49665,18.338,False,Business Development\\n',\n",
       " '754,Lisa,Female,4/11/2007,1:04 AM,128042,2.03,True,Legal\\n',\n",
       " '755,Denise,Female,2/19/1984,6:22 AM,86150,3.997,False,Client Services\\n',\n",
       " '756,Stephen,Male,10/21/1984,6:26 AM,121816,10.615,True,Distribution\\n',\n",
       " '757,Benjamin,Male,4/12/1988,11:32 PM,123409,7.783,False,Product\\n',\n",
       " '759,Ruth,Female,9/2/1980,6:52 AM,59678,10.895,False,Distribution\\n',\n",
       " '760,Shawn,Male,12/29/2006,3:05 AM,57871,4.02,True,Human Resources\\n',\n",
       " '761,Jennifer,Female,3/31/2015,7:43 PM,132084,10.006,True,Engineering\\n',\n",
       " '762,Terry,Male,11/10/2004,4:33 AM,35633,3.947,True,Distribution\\n',\n",
       " '763,Jacqueline,Female,7/27/2008,12:08 PM,125298,3.019,True,Legal\\n',\n",
       " '764,Roger,Male,5/2/1988,10:04 PM,115582,15.343,True,Sales\\n',\n",
       " '766,Justin,Male,7/25/1991,12:45 AM,112975,9.699,False,Human Resources\\n',\n",
       " '767,Janet,Female,7/12/2008,12:10 PM,36927,18.769,False,Client Services\\n',\n",
       " '768,Robin,Female,3/26/2004,5:41 PM,70248,9.66,True,Sales\\n',\n",
       " '770,Katherine,Female,9/22/2006,8:08 PM,72002,13.178,True,Product\\n',\n",
       " '771,Peter,Male,5/22/1991,1:39 AM,102577,12.026,True,Product\\n',\n",
       " '772,Lillian,Female,8/14/2009,5:41 AM,113554,18.018,True,Business Development\\n',\n",
       " '775,Rose,Female,11/3/1999,9:06 AM,75181,6.06,True,Finance\\n',\n",
       " '776,Bobby,Male,9/30/2004,10:52 PM,79047,18.784,False,Human Resources\\n',\n",
       " '777,Kimberly,Female,4/20/1986,3:55 PM,52970,4.513,False,Sales\\n',\n",
       " '778,Antonio,Male,12/28/2003,4:17 AM,137979,5.266,False,Distribution\\n',\n",
       " '779,Doris,Female,9/8/1984,7:03 PM,114360,17.799,True,Business Development\\n',\n",
       " '780,Steven,Male,7/5/2009,4:55 AM,110306,16.843,True,Human Resources\\n',\n",
       " '784,Stephanie,Female,9/14/1982,8:14 AM,96649,3.453,False,Sales\\n',\n",
       " '786,Sandra,Female,9/7/1989,4:17 PM,111468,2.58,True,Product\\n',\n",
       " '787,Kevin,Male,7/1/2005,3:22 PM,141498,4.135,True,Sales\\n',\n",
       " '789,Lisa,Female,7/8/2000,9:19 PM,40121,6.293,False,Product\\n',\n",
       " '790,Fred,Male,3/3/1989,2:27 AM,129712,11.058,False,Finance\\n',\n",
       " '791,Joseph,Male,11/4/1982,9:46 PM,126010,19.601,False,Legal\\n',\n",
       " '793,Andrea,Female,7/22/1999,9:25 AM,149105,13.707,True,Distribution\\n',\n",
       " '796,Catherine,Female,8/31/1986,6:20 PM,59970,12.801,False,Client Services\\n',\n",
       " '797,Rose,Female,12/31/1982,6:50 PM,145001,19.85,False,Engineering\\n',\n",
       " '798,Lawrence,Male,10/1/1984,2:06 PM,102589,17.952,True,Marketing\\n',\n",
       " '799,Raymond,Male,12/12/1986,12:18 PM,47529,2.712,True,Product\\n',\n",
       " '800,Clarence,Male,8/5/1989,6:11 PM,148941,11.517,False,Product\\n',\n",
       " '801,Ryan,Male,4/15/1988,5:18 AM,91109,17.499,True,Human Resources\\n',\n",
       " '802,Jane,Female,1/12/1992,1:23 PM,51923,13.623,False,Business Development\\n',\n",
       " '803,Lois,Female,7/28/2012,11:39 AM,53954,19.075,False,Product\\n',\n",
       " '804,Shawn,Male,3/17/2008,2:12 PM,39335,10.664,False,Distribution\\n',\n",
       " '805,Thomas,Male,5/3/1990,9:29 AM,111371,15.081,True,Engineering\\n',\n",
       " '806,Kathryn,Female,1/29/2008,12:29 AM,86676,6.081,False,Sales\\n',\n",
       " '807,Mary,Female,11/6/2011,8:32 AM,115057,2.089,False,Finance\\n',\n",
       " '808,Julie,Female,3/8/1980,5:13 AM,145357,3.459,False,Engineering\\n',\n",
       " '809,George,Male,9/27/1995,5:04 PM,36749,19.754,False,Finance\\n',\n",
       " '810,Ralph,Male,2/10/2000,4:48 PM,89854,7.227,False,Business Development\\n',\n",
       " '811,Judith,Female,9/3/1989,11:16 AM,134048,6.818,True,Marketing\\n',\n",
       " '813,Evelyn,Female,2/10/2002,4:44 AM,123621,19.767,True,Marketing\\n',\n",
       " '814,Rachel,Female,6/23/2011,12:52 AM,54941,3.221,True,Distribution\\n',\n",
       " '816,Kelly,Female,3/17/2007,6:20 PM,39371,4.068,False,Engineering\\n',\n",
       " '817,Ruby,Female,5/31/2008,8:41 PM,83112,4.083,False,Marketing\\n',\n",
       " '818,Ann,Female,10/3/1980,1:08 AM,96941,10.048,True,Distribution\\n',\n",
       " '819,Kenneth,Male,12/14/1985,6:55 AM,47232,17.862,True,Legal\\n',\n",
       " '820,William,Male,11/18/1993,12:27 PM,54058,5.182,True,Human Resources\\n',\n",
       " '822,Deborah,Female,2/26/2009,10:17 AM,118043,7.266,True,Business Development\\n',\n",
       " '824,Julia,Female,8/18/2014,3:12 AM,97566,2.147,False,Marketing\\n',\n",
       " '828,Cynthia,Female,7/12/2006,8:55 AM,149684,7.864,False,Product\\n',\n",
       " '829,Johnny,Male,1/14/2007,2:54 PM,71383,2.097,True,Human Resources\\n',\n",
       " '830,Michael,Male,8/31/2002,1:20 AM,81206,19.908,True,Distribution\\n',\n",
       " '831,Kenneth,Male,1/15/2015,2:41 PM,69112,7.588,True,Finance\\n',\n",
       " '832,Keith,Male,2/12/2003,3:02 PM,120672,19.467,False,Legal\\n',\n",
       " '833,Gerald,Male,5/28/2010,12:26 PM,96511,9.331,False,Human Resources\\n',\n",
       " '835,Douglas,Male,8/4/2007,5:23 AM,132175,2.28,False,Engineering\\n',\n",
       " '836,Carolyn,Female,3/17/2004,6:38 AM,118037,13.492,False,Finance\\n',\n",
       " '837,Joseph,Male,5/23/1985,10:16 PM,139570,15.804,True,Finance\\n',\n",
       " '838,Billy,Male,4/6/2000,3:14 PM,115280,9.153,False,Distribution\\n',\n",
       " '839,Joyce,Female,7/25/2001,6:04 AM,51065,16.807,False,Human Resources\\n',\n",
       " '840,Lillian,Female,8/26/2002,8:53 AM,103854,4.924,True,Distribution\\n',\n",
       " '841,Ruby,Female,8/13/2006,6:27 PM,48354,19.501,False,Business Development\\n',\n",
       " '842,Sandra,Female,2/7/1998,12:39 PM,132327,19.264,False,Product\\n',\n",
       " '843,Louise,Female,2/26/1982,1:03 AM,106362,8.965,False,Sales\\n',\n",
       " '845,Brenda,Female,1/3/1981,6:01 PM,131131,11.682,False,Client Services\\n',\n",
       " '846,Stephen,Male,9/10/1990,10:42 PM,129663,15.574,False,Human Resources\\n',\n",
       " '848,Bobby,Male,6/5/1984,7:40 AM,93368,2.88,True,Product\\n',\n",
       " '849,Ernest,Male,9/6/1997,2:02 PM,53335,9.192,False,Product\\n',\n",
       " '852,Diana,Female,11/19/2004,8:47 AM,105066,17.343,True,Business Development\\n',\n",
       " '854,Harry,Male,2/10/1985,7:46 PM,63046,10.411,False,Finance\\n',\n",
       " '857,Marie,Female,12/8/1993,6:28 PM,98406,7.943,True,Product\\n',\n",
       " '858,Sean,Male,4/25/2006,4:51 PM,108581,9.634,False,Human Resources\\n',\n",
       " '859,Robin,Female,10/1/2012,2:44 AM,41808,19.239,False,Business Development\\n',\n",
       " '860,Phillip,Male,10/7/1984,11:05 AM,36837,14.66,False,Marketing\\n',\n",
       " '861,Jerry,Male,3/26/1989,4:15 AM,140850,18.855,False,Finance\\n',\n",
       " '862,Ronald,Male,5/25/1983,10:05 AM,50426,18.536,True,Sales\\n',\n",
       " '863,Phillip,Male,5/15/1984,6:15 AM,134120,6.842,False,Human Resources\\n',\n",
       " '865,Karen,Female,8/29/1997,4:56 PM,80633,16.306,False,Legal\\n',\n",
       " '866,Bonnie,Female,8/25/2004,2:17 AM,131943,14.249,False,Client Services\\n',\n",
       " '867,Earl,Male,6/15/2013,3:00 AM,48046,7.737,False,Marketing\\n',\n",
       " '868,Katherine,Female,8/18/2013,3:58 PM,97443,13.657,False,Product\\n',\n",
       " '869,Matthew,Male,8/3/1995,5:39 AM,135352,7.986,True,Business Development\\n',\n",
       " '871,Gerald,Male,3/29/2003,10:37 AM,96329,2.469,True,Engineering\\n',\n",
       " '872,Brenda,Female,1/18/2015,4:39 PM,73749,19.332,False,Business Development\\n',\n",
       " '873,Jason,Male,5/1/1998,6:05 PM,75607,4.299,True,Sales\\n',\n",
       " '874,Melissa,Female,9/8/1994,4:11 AM,98858,3.525,True,Human Resources\\n',\n",
       " '875,Beverly,Female,4/11/1998,2:27 PM,76485,9.212,True,Engineering\\n',\n",
       " '878,Jacqueline,Female,5/25/2003,7:13 PM,125418,8.064,False,Distribution\\n',\n",
       " '879,Amy,Female,5/20/2009,6:26 AM,75415,19.132,False,Client Services\\n',\n",
       " '881,Ruby,Female,1/28/1980,11:08 PM,142868,6.318,False,Marketing\\n',\n",
       " '883,Kathryn,Female,10/27/1995,3:39 PM,57300,18.015,False,Marketing\\n',\n",
       " '884,Lisa,Female,10/17/2003,1:42 PM,73706,18.53,False,Finance\\n',\n",
       " '885,Juan,Male,10/6/1993,8:52 AM,85871,9.16,False,Product\\n',\n",
       " '886,Anthony,Male,1/30/2014,9:04 PM,96795,14.837,False,Sales\\n',\n",
       " '887,David,Male,12/5/2009,8:48 AM,92242,15.407,False,Legal\\n',\n",
       " '888,Marilyn,Female,10/8/2007,12:32 AM,115149,11.934,True,Legal\\n',\n",
       " '889,Margaret,Female,1/4/2001,3:07 AM,126924,1.552,True,Finance\\n',\n",
       " '891,Timothy,Male,8/25/1991,10:37 AM,92587,8.475,False,Finance\\n',\n",
       " '892,Brandon,Male,10/23/1995,12:04 PM,60263,2.709,False,Sales\\n',\n",
       " '893,Frank,Male,7/27/2013,4:32 PM,91406,5.681,True,Business Development\\n',\n",
       " '894,Betty,Female,11/19/2002,10:40 AM,37005,7.645,True,Marketing\\n',\n",
       " '896,Victor,Male,3/10/2010,5:01 PM,45267,3.942,True,Sales\\n',\n",
       " '898,Jane,Female,4/27/2012,2:12 PM,59680,15.211,True,Business Development\\n',\n",
       " '899,Walter,Male,5/21/1992,12:39 AM,144701,16.323,True,Marketing\\n',\n",
       " '900,Christina,Female,6/23/2002,3:18 PM,35477,18.178,False,Human Resources\\n',\n",
       " '901,Patricia,Female,10/10/1995,4:52 PM,119266,6.911,False,Distribution\\n',\n",
       " '903,Heather,Female,7/29/1983,10:48 AM,47605,14.955,True,Human Resources\\n',\n",
       " '904,Stephanie,Female,6/26/1988,5:48 AM,136604,6.16,True,Human Resources\\n',\n",
       " '905,Alice,Female,2/9/2013,12:49 AM,121250,4.363,True,Finance\\n',\n",
       " '906,Frances,Female,5/16/2014,8:31 AM,35884,17.667,False,Sales\\n',\n",
       " '907,Elizabeth,Female,7/27/1998,11:12 AM,137144,10.081,False,Finance\\n',\n",
       " '908,Janice,Female,12/17/2009,6:42 AM,102697,3.283,False,Engineering\\n',\n",
       " '909,Donald,Male,8/1/1991,2:25 AM,61999,6.466,False,Product\\n',\n",
       " '910,Melissa,Female,10/22/2002,1:20 AM,45223,8.879,True,Legal\\n',\n",
       " '911,Carl,Male,7/7/2010,1:33 PM,54033,15.528,True,Business Development\\n',\n",
       " '913,Lois,Female,12/11/2015,4:10 PM,99747,6.168,False,Marketing\\n',\n",
       " '914,Ann,Female,9/28/2001,6:37 AM,71958,5.272,True,Distribution\\n',\n",
       " '915,Todd,Male,1/4/1983,12:34 PM,115566,6.716,True,Client Services\\n',\n",
       " '916,Marilyn,Female,1/16/1996,7:18 AM,118369,7.696,True,Business Development\\n',\n",
       " '917,Shawn,Male,3/13/2008,5:36 PM,51667,6.339,False,Product\\n',\n",
       " '918,Ryan,Male,4/27/1999,3:41 AM,85858,19.475,False,Client Services\\n',\n",
       " '919,Sean,Male,3/21/2009,11:38 AM,131423,8.957,False,Distribution\\n',\n",
       " '920,Rose,Female,1/2/2002,9:14 PM,49538,9.828,False,Client Services\\n',\n",
       " '921,George,Male,6/5/2015,5:40 AM,50369,18.9,True,Sales\\n',\n",
       " '922,Arthur,Male,12/5/2013,8:44 AM,86615,3.412,True,Business Development\\n',\n",
       " '924,Deborah,Female,11/11/2003,4:53 PM,60003,9.624,False,Client Services\\n',\n",
       " '926,Judith,Female,3/1/2004,7:32 AM,109324,19.488,False,Distribution\\n',\n",
       " '927,Philip,Male,3/11/2005,10:56 AM,103557,16.014,True,Business Development\\n',\n",
       " '928,Jeffrey,Male,9/20/1986,6:06 AM,111376,2.673,True,Business Development\\n',\n",
       " '929,Theresa,Female,4/27/2001,9:17 PM,75661,1.079,True,Legal\\n',\n",
       " '930,Nancy,Female,9/10/2001,11:57 PM,85213,2.386,True,Marketing\\n',\n",
       " '931,Harold,Male,6/23/2012,12:40 PM,140444,3.771,False,Distribution\\n',\n",
       " '932,Bonnie,Female,12/23/2008,9:26 AM,90427,2.01,True,Client Services\\n',\n",
       " '933,Doris,Female,7/5/1993,5:54 PM,141439,3.799,False,Business Development\\n',\n",
       " '934,Samuel,Male,8/7/1997,12:40 PM,43694,3.787,True,Engineering\\n',\n",
       " '935,Alice,Female,3/23/1996,3:09 AM,131952,12.09,False,Engineering\\n',\n",
       " '936,Maria,Female,3/14/2003,5:23 PM,96250,10.056,False,Business Development\\n',\n",
       " '940,Andrew,Male,9/28/1990,9:38 AM,137386,8.611,True,Distribution\\n',\n",
       " '941,William,Male,6/26/1997,8:33 AM,104840,15.653,True,Engineering\\n',\n",
       " '942,Lori,Female,11/20/2015,1:15 PM,75498,6.537,True,Marketing\\n',\n",
       " '943,Wayne,Male,9/8/2006,11:09 AM,67471,2.728,False,Engineering\\n',\n",
       " '944,Kenneth,Male,5/10/2006,8:24 AM,101914,1.905,True,Distribution\\n',\n",
       " '948,Ashley,Female,3/31/2006,1:24 PM,142410,11.048,True,Engineering\\n',\n",
       " '949,Scott,Male,8/20/2011,8:08 AM,37385,8.226,True,Business Development\\n',\n",
       " '950,Paula,Female,5/21/1983,11:42 AM,58423,10.833,False,Business Development\\n',\n",
       " '952,Teresa,Female,1/22/2013,3:17 PM,113425,11.907,True,Human Resources\\n',\n",
       " '953,Randy,Male,2/25/2012,5:33 AM,57266,14.077,False,Product\\n',\n",
       " '954,Joe,Male,1/19/1980,4:06 PM,119667,1.148,True,Finance\\n',\n",
       " '955,Sarah,Female,8/17/2014,11:08 PM,127118,11.176,False,Legal\\n',\n",
       " '956,Beverly,Female,10/17/1986,12:51 AM,80838,8.115,False,Engineering\\n',\n",
       " '957,Jeffrey,Male,2/3/1984,1:26 PM,70990,15.901,True,Sales\\n',\n",
       " '958,Gloria,Female,10/24/1987,4:43 AM,39833,9.631,False,Engineering\\n',\n",
       " '959,Albert,Male,9/19/1992,2:35 AM,45094,5.85,True,Business Development\\n',\n",
       " '960,Stephen,Male,10/29/1989,11:34 PM,93997,18.093,True,Business Development\\n',\n",
       " '962,Jonathan,Male,8/21/2013,12:45 AM,121797,16.923,False,Product\\n',\n",
       " '963,Ann,Female,9/23/1994,11:15 AM,89443,17.94,True,Sales\\n',\n",
       " '964,Bruce,Male,5/7/1980,8:00 PM,35802,12.391,True,Sales\\n',\n",
       " '965,Catherine,Female,9/25/1989,1:31 AM,68164,18.393,False,Client Services\\n',\n",
       " '966,Louis,Male,8/16/2011,5:19 PM,93022,9.146,True,Human Resources\\n',\n",
       " '967,Thomas,Male,3/12/2016,3:10 PM,105681,19.572,False,Engineering\\n',\n",
       " '968,Louise,Female,3/27/1995,10:27 PM,43050,11.671,False,Distribution\\n',\n",
       " '969,Linda,Female,2/4/2010,8:49 PM,44486,17.308,True,Engineering\\n',\n",
       " '970,Alice,Female,9/3/1988,8:54 PM,63571,15.397,True,Product\\n',\n",
       " '971,Patrick,Male,12/30/2002,2:01 AM,75423,5.368,True,Business Development\\n',\n",
       " '973,Russell,Male,5/10/2013,11:08 PM,137359,11.105,False,Business Development\\n',\n",
       " '974,Harry,Male,8/30/2011,6:31 PM,67656,16.455,True,Client Services\\n',\n",
       " '975,Susan,Female,4/7/1995,10:05 PM,92436,12.467,False,Sales\\n',\n",
       " '976,Denise,Female,10/19/1992,5:42 AM,137954,4.195,True,Legal\\n',\n",
       " '977,Sarah,Female,12/4/1995,9:16 AM,124566,5.949,False,Product\\n',\n",
       " '978,Sean,Male,1/17/1983,2:23 PM,66146,11.178,False,Human Resources\\n',\n",
       " '979,Ernest,Male,7/20/2013,6:41 AM,142935,13.198,True,Product\\n',\n",
       " '980,Kimberly,Female,1/26/2013,12:57 AM,46233,8.862,True,Engineering\\n',\n",
       " '981,James,Male,1/15/1993,5:19 PM,148985,19.28,False,Legal\\n',\n",
       " '982,Rose,Female,4/6/1982,10:43 AM,91411,8.639,True,Human Resources\\n',\n",
       " '983,John,Male,12/23/1982,10:35 PM,146907,11.738,False,Engineering\\n',\n",
       " '984,Maria,Female,10/15/2011,4:53 PM,43455,13.04,False,Engineering\\n',\n",
       " '986,Donna,Female,11/26/1982,7:04 AM,82871,17.999,False,Marketing\\n',\n",
       " '987,Gloria,Female,12/8/2014,5:08 AM,136709,10.331,True,Finance\\n',\n",
       " '988,Alice,Female,10/5/2004,9:34 AM,47638,11.209,False,Human Resources\\n',\n",
       " '990,Robin,Female,7/24/1987,1:35 PM,100765,10.982,True,Client Services\\n',\n",
       " '991,Rose,Female,8/25/2002,5:12 AM,134505,11.051,True,Marketing\\n',\n",
       " '992,Anthony,Male,10/16/2011,8:35 AM,112769,11.625,True,Finance\\n',\n",
       " '993,Tina,Female,5/15/1997,3:53 PM,56450,19.04,True,Engineering\\n',\n",
       " '994,George,Male,6/21/2013,5:47 PM,98874,4.479,True,Marketing\\n',\n",
       " '996,Phillip,Male,1/31/1984,6:30 AM,42392,19.675,False,Finance\\n',\n",
       " '997,Russell,Male,5/20/2013,12:39 PM,96914,1.421,False,Product\\n',\n",
       " '998,Larry,Male,4/20/2013,4:45 PM,60500,11.985,False,Business Development\\n',\n",
       " '999,Albert,Male,5/15/2012,6:24 PM,129949,10.169,True,Sales\\n']"
      ]
     },
     "execution_count": 2,
     "metadata": {},
     "output_type": "execute_result"
    }
   ],
   "source": [
    "emp"
   ]
  },
  {
   "cell_type": "code",
   "execution_count": 4,
   "metadata": {},
   "outputs": [
    {
     "data": {
      "text/plain": [
       "764"
      ]
     },
     "execution_count": 4,
     "metadata": {},
     "output_type": "execute_result"
    }
   ],
   "source": [
    "# \n",
    "newemp = emp[1:]\n",
    "len(newemp)"
   ]
  },
  {
   "cell_type": "code",
   "execution_count": 5,
   "metadata": {},
   "outputs": [
    {
     "data": {
      "text/plain": [
       "['0,Douglas,Male,8/6/1993,12:42 PM,97308,6.945,True,Marketing\\n',\n",
       " '2,Maria,Female,4/23/1993,11:17 AM,130590,11.858,False,Finance\\n',\n",
       " '3,Jerry,Male,3/4/2005,1:00 PM,138705,9.34,True,Finance\\n',\n",
       " '4,Larry,Male,1/24/1998,4:47 PM,101004,1.389,True,Client Services\\n',\n",
       " '5,Dennis,Male,4/18/1987,1:35 AM,115163,10.125,False,Legal\\n',\n",
       " '6,Ruby,Female,8/17/1987,4:20 PM,65476,10.012,True,Product\\n',\n",
       " '8,Angela,Female,11/22/2005,6:29 AM,95570,18.523,True,Engineering\\n',\n",
       " '9,Frances,Female,8/8/2002,6:51 AM,139852,7.524,True,Business Development\\n',\n",
       " '11,Julie,Female,10/26/1997,3:19 PM,102508,12.637,True,Legal\\n',\n",
       " '12,Brandon,Male,12/1/1980,1:08 AM,112807,17.492,True,Human Resources\\n',\n",
       " '13,Gary,Male,1/27/2008,11:40 PM,109831,5.831,False,Sales\\n',\n",
       " '14,Kimberly,Female,1/14/1999,7:13 AM,41426,14.543,True,Finance\\n',\n",
       " '15,Lillian,Female,6/5/2016,6:09 AM,59414,1.256,False,Product\\n',\n",
       " '16,Jeremy,Male,9/21/2010,5:56 AM,90370,7.369,False,Human Resources\\n',\n",
       " '17,Shawn,Male,12/7/1986,7:45 PM,111737,6.414,False,Product\\n',\n",
       " '18,Diana,Female,10/23/1981,10:27 AM,132940,19.082,False,Client Services\\n',\n",
       " '19,Donna,Female,7/22/2010,3:48 AM,81014,1.894,False,Product\\n',\n",
       " '21,Matthew,Male,9/5/1995,2:12 AM,100612,13.645,False,Marketing\\n',\n",
       " '24,John,Male,7/1/1992,10:08 PM,97950,13.873,False,Client Services\\n',\n",
       " '26,Craig,Male,2/27/2000,7:45 AM,37598,7.757,True,Marketing\\n',\n",
       " '28,Terry,Male,11/27/1981,6:30 PM,124008,13.464,True,Client Services\\n',\n",
       " '29,Benjamin,Male,1/26/2005,10:06 PM,79529,7.008,True,Legal\\n',\n",
       " '30,Christina,Female,8/6/2002,1:19 PM,118780,9.096,True,Engineering\\n',\n",
       " '33,Jean,Female,12/18/1993,9:07 AM,119082,16.18,False,Business Development\\n',\n",
       " '34,Jerry,Male,1/10/2004,12:56 PM,95734,19.096,False,Client Services\\n',\n",
       " '35,Theresa,Female,10/10/2006,1:12 AM,85182,16.675,False,Sales\\n',\n",
       " '36,Rachel,Female,2/16/2009,8:47 PM,142032,12.599,False,Business Development\\n',\n",
       " '37,Linda,Female,10/19/1981,8:49 PM,57427,9.557,True,Client Services\\n',\n",
       " '38,Stephanie,Female,9/13/1986,1:52 AM,36844,5.574,True,Business Development\\n',\n",
       " '40,Michael,Male,10/10/2008,11:25 AM,99283,2.665,True,Distribution\\n',\n",
       " '42,Beverly,Female,9/9/1998,8:26 PM,121918,15.835,False,Legal\\n',\n",
       " '43,Marilyn,Female,12/7/1980,3:16 AM,73524,5.207,True,Marketing\\n',\n",
       " '44,Cynthia,Female,11/16/1988,6:54 PM,145146,7.482,True,Product\\n',\n",
       " '45,Roger,Male,4/17/1980,11:32 AM,88010,13.886,True,Sales\\n',\n",
       " '46,Bruce,Male,11/28/2009,10:47 PM,114796,6.796,False,Finance\\n',\n",
       " '47,Kathy,Female,6/22/2005,4:51 AM,66820,9.0,True,Client Services\\n',\n",
       " '48,Clarence,Male,3/26/1996,5:57 AM,93581,6.083,True,Business Development\\n',\n",
       " '50,Nancy,Female,9/23/2000,8:05 AM,94976,13.83,True,Engineering\\n',\n",
       " '52,Todd,Male,2/18/1990,2:41 AM,49339,1.695,True,Human Resources\\n',\n",
       " '54,Sara,Female,8/15/2007,9:23 AM,83677,8.999,False,Engineering\\n',\n",
       " '55,Karen,Female,11/30/1999,7:46 AM,102488,17.653,True,Product\\n',\n",
       " '56,Carl,Male,5/3/2006,5:55 PM,130276,16.084,True,Finance\\n',\n",
       " '57,Henry,Male,6/26/1996,1:44 AM,64715,15.107,True,Human Resources\\n',\n",
       " '58,Theresa,Female,4/11/2010,7:18 AM,72670,1.481,True,Engineering\\n',\n",
       " '59,Irene,Female,5/7/1997,9:32 AM,66851,11.279,False,Engineering\\n',\n",
       " '61,Denise,Female,11/6/2001,12:03 PM,106862,3.699,False,Business Development\\n',\n",
       " '63,Matthew,Male,1/2/2013,10:33 PM,35203,18.04,False,Human Resources\\n',\n",
       " '65,Steve,Male,11/11/2009,11:44 PM,61310,12.428,True,Distribution\\n',\n",
       " '66,Nancy,Female,12/15/2012,11:57 PM,125250,2.672,True,Business Development\\n',\n",
       " '67,Rachel,Female,8/16/1999,6:53 AM,51178,9.735,True,Finance\\n',\n",
       " '68,Jose,Male,10/30/2004,1:39 PM,84834,14.33,True,Finance\\n',\n",
       " '71,Johnny,Male,11/6/2009,4:23 PM,118172,16.194,True,Sales\\n',\n",
       " '72,Bobby,Male,5/7/2007,10:01 AM,54043,3.833,False,Product\\n',\n",
       " '73,Frances,Female,4/4/1999,4:19 PM,90582,4.709,True,Sales\\n',\n",
       " '74,Thomas,Male,6/4/1995,2:24 PM,62096,17.029,False,Marketing\\n',\n",
       " '75,Bonnie,Female,7/2/1991,1:27 AM,104897,5.118,True,Human Resources\\n',\n",
       " '76,Margaret,Female,9/10/1988,12:42 PM,131604,7.353,True,Distribution\\n',\n",
       " '77,Charles,Male,9/14/2004,8:13 PM,107391,1.26,True,Marketing\\n',\n",
       " '78,Robin,Female,6/4/1983,3:15 PM,114797,5.965,True,Sales\\n',\n",
       " '79,Bonnie,Female,11/13/1988,3:30 PM,115814,4.99,False,Product\\n',\n",
       " '81,Christopher,Male,3/30/2008,10:52 AM,47369,14.822,False,Legal\\n',\n",
       " '82,Steven,Male,3/30/1980,9:20 PM,35095,8.379,True,Client Services\\n',\n",
       " '83,Shawn,Male,9/23/2005,2:55 AM,148115,6.539,True,Finance\\n',\n",
       " '84,Doris,Female,8/20/2004,5:51 AM,83072,7.511,False,Finance\\n',\n",
       " '85,Jeremy,Male,2/1/2008,8:50 AM,100238,3.887,True,Client Services\\n',\n",
       " '87,Annie,Female,1/30/1993,2:05 AM,144887,8.276,True,Sales\\n',\n",
       " '88,Donna,Female,11/27/1991,1:59 PM,64088,6.155,True,Legal\\n',\n",
       " '89,Janice,Female,3/12/2016,12:40 AM,51082,11.955,False,Legal\\n',\n",
       " '92,Linda,Female,5/25/2000,5:45 PM,119009,12.506,True,Business Development\\n',\n",
       " '94,Harry,Male,8/26/1981,3:16 PM,130620,7.03,False,Legal\\n',\n",
       " '95,Heather,Female,7/11/1998,2:17 PM,43026,14.166,False,Client Services\\n',\n",
       " '96,Cynthia,Female,3/21/1994,8:34 AM,142321,1.737,False,Finance\\n',\n",
       " '98,Tina,Female,6/16/2016,7:47 PM,100705,16.961,True,Marketing\\n',\n",
       " '99,Harold,Male,1/2/1985,9:40 PM,77544,12.447,False,Business Development\\n',\n",
       " '100,Melissa,Female,6/21/2005,6:33 AM,48109,14.995,False,Finance\\n',\n",
       " '101,Aaron,Male,2/17/2012,10:20 AM,61602,11.849,True,Marketing\\n',\n",
       " '102,Jack,Male,1/12/1997,5:51 AM,103902,12.159,False,Client Services\\n',\n",
       " '103,Phyllis,Female,10/11/1996,9:30 PM,136984,8.932,True,Finance\\n',\n",
       " '104,John,Male,12/23/1989,7:01 AM,80740,19.305,False,Marketing\\n',\n",
       " '105,Kathy,Female,3/9/1996,4:33 AM,91712,8.567,False,Finance\\n',\n",
       " '106,Paul,Male,8/4/1993,7:25 PM,42146,3.046,False,Legal\\n',\n",
       " '107,Steven,Male,4/23/2013,10:12 PM,68680,16.565,False,Legal\\n',\n",
       " '110,Shirley,Female,6/20/2001,10:39 PM,147113,16.135,False,Legal\\n',\n",
       " '111,Bonnie,Female,12/17/1999,3:12 PM,42153,8.454,True,Business Development\\n',\n",
       " '112,Willie,Male,11/27/2003,6:21 AM,64363,4.023,False,Marketing\\n',\n",
       " '113,Tina,Female,6/12/2009,7:16 AM,114767,3.711,True,Engineering\\n',\n",
       " '114,Ashley,Female,8/4/2002,11:00 AM,58698,6.811,True,Business Development\\n',\n",
       " '115,Pamela,Female,7/1/1982,6:51 AM,54585,4.166,False,Product\\n',\n",
       " '117,Steven,Male,3/1/1995,3:03 PM,109095,9.494,False,Finance\\n',\n",
       " '118,Andrea,Female,1/12/2012,5:43 AM,120204,9.557,False,Business Development\\n',\n",
       " '119,Paul,Male,6/3/2008,3:05 PM,41054,12.299,False,Marketing\\n',\n",
       " '120,Peter,Male,11/17/1994,6:15 PM,84885,15.402,False,Business Development\\n',\n",
       " '122,Christina,Female,4/13/2012,2:04 PM,110169,13.892,True,Engineering\\n',\n",
       " '123,Helen,Female,11/29/2001,2:30 AM,73789,14.841,True,Product\\n',\n",
       " '124,Marilyn,Female,11/16/1983,8:29 AM,76078,2.401,True,Product\\n',\n",
       " '125,Patricia,Female,9/1/2003,6:46 AM,49368,14.226,False,Human Resources\\n',\n",
       " '126,Michelle,Female,3/30/1984,6:43 PM,57325,17.179,True,Human Resources\\n',\n",
       " '127,William,Male,9/29/2002,4:09 PM,66521,5.83,False,Human Resources\\n',\n",
       " '128,Kenneth,Male,8/25/1987,9:16 PM,127654,16.439,True,Client Services\\n',\n",
       " '129,Antonio,Male,10/25/1988,1:50 PM,60866,13.101,True,Business Development\\n',\n",
       " '130,Shirley,Female,5/1/1984,1:15 PM,41334,6.219,True,Human Resources\\n',\n",
       " '131,Rebecca,Female,7/10/1992,12:23 AM,94231,17.517,False,Product\\n',\n",
       " '132,Carlos,Male,1/4/1995,7:02 AM,146670,10.763,False,Human Resources\\n',\n",
       " '133,Lois,Female,12/25/1987,4:16 PM,106317,2.235,True,Client Services\\n',\n",
       " '134,Carolyn,Female,4/9/2011,5:38 AM,109260,2.65,True,Business Development\\n',\n",
       " '135,Gloria,Female,6/29/2007,5:34 AM,134148,8.833,True,Legal\\n',\n",
       " '136,Henry,Male,4/24/1995,4:18 AM,43542,19.687,False,Legal\\n',\n",
       " '137,Adam,Male,5/21/2011,1:45 AM,95327,15.12,False,Distribution\\n',\n",
       " '138,Ashley,Female,5/25/2006,11:30 AM,112238,6.03,True,Engineering\\n',\n",
       " '140,Shirley,Female,2/28/1981,1:23 PM,113850,1.854,False,Marketing\\n',\n",
       " '141,Adam,Male,12/24/1990,8:57 PM,110194,14.727,True,Product\\n',\n",
       " '142,Elizabeth,Female,10/9/2003,5:53 PM,146129,5.687,False,Finance\\n',\n",
       " '145,Jennifer,Female,4/4/2009,10:47 PM,71715,13.079,True,Client Services\\n',\n",
       " '146,Patricia,Female,11/25/1992,2:24 AM,95322,4.15,False,Product\\n',\n",
       " '147,Philip,Male,7/17/2008,1:30 PM,89227,3.996,False,Legal\\n',\n",
       " '150,Sean,Male,5/4/1996,8:59 PM,135490,19.934,False,Marketing\\n',\n",
       " '152,Ruth,Female,8/19/1999,4:03 AM,129297,8.067,True,Client Services\\n',\n",
       " '154,Rebecca,Female,11/15/1980,4:13 AM,85730,5.359,True,Product\\n',\n",
       " '155,Marie,Female,3/16/2003,12:12 AM,104058,17.695,True,Business Development\\n',\n",
       " '156,Howard,Male,4/27/1992,1:10 AM,105062,1.563,False,Human Resources\\n',\n",
       " '158,Norma,Female,2/28/1999,8:45 PM,114412,8.756,True,Marketing\\n',\n",
       " '160,Kathy,Female,3/18/2000,7:26 PM,149563,16.991,True,Finance\\n',\n",
       " '162,Arthur,Male,4/13/1998,11:28 AM,89786,14.422,True,Legal\\n',\n",
       " '163,Terry,Male,9/3/1990,9:15 PM,52226,19.135,False,Client Services\\n',\n",
       " '164,Mary,Female,8/13/1999,1:03 AM,134645,18.197,False,Business Development\\n',\n",
       " '167,Christopher,Male,12/24/2011,12:22 PM,142178,17.984,True,Sales\\n',\n",
       " '169,Michelle,Female,11/4/1996,9:34 PM,53754,5.455,True,Product\\n',\n",
       " '170,Irene,Female,1/29/1992,11:36 AM,133772,19.02,True,Sales\\n',\n",
       " '171,Patrick,Male,8/17/2007,3:16 AM,143499,17.495,True,Engineering\\n',\n",
       " '172,Sara,Female,9/23/1991,6:17 PM,97058,9.402,False,Finance\\n',\n",
       " '173,Lillian,Female,12/21/2008,6:51 PM,85446,3.959,True,Engineering\\n',\n",
       " '175,Willie,Male,2/17/1998,8:20 PM,146651,1.451,True,Engineering\\n',\n",
       " '176,Victor,Male,1/8/2003,1:02 PM,124486,10.166,False,Product\\n',\n",
       " '177,Wayne,Male,4/7/2012,8:00 AM,102652,14.085,True,Distribution\\n',\n",
       " '178,Jane,Female,9/3/1997,2:01 AM,144474,17.648,False,Product\\n',\n",
       " '179,Jessica,Female,10/23/1995,5:53 AM,68759,19.343,True,Finance\\n',\n",
       " '180,Mark,Male,4/12/2008,5:40 PM,57286,5.025,True,Business Development\\n',\n",
       " '181,Randy,Male,11/14/1999,12:12 PM,58129,1.952,True,Distribution\\n',\n",
       " '182,Lillian,Female,6/19/1999,4:44 PM,123940,12.184,True,Business Development\\n',\n",
       " '184,Jerry,Male,12/18/2003,6:46 AM,140810,9.177,True,Client Services\\n',\n",
       " '185,Sandra,Female,1/19/1983,7:25 AM,42090,8.842,True,Legal\\n',\n",
       " '187,Roger,Male,11/19/2004,3:55 PM,51430,6.46,False,Marketing\\n',\n",
       " '188,Charles,Male,10/14/2000,9:40 PM,71749,15.931,False,Legal\\n',\n",
       " '189,Clarence,Male,5/2/1998,3:16 AM,85700,1.215,False,Sales\\n',\n",
       " '190,Carol,Female,3/19/1996,3:39 AM,57783,9.129,False,Finance\\n',\n",
       " '191,Lois,Female,10/18/2013,4:51 PM,36946,6.652,False,Engineering\\n',\n",
       " '193,Rebecca,Female,2/18/1995,6:50 AM,109259,4.443,True,Legal\\n',\n",
       " '194,Irene,Female,1/30/2004,8:25 PM,131038,8.996,False,Distribution\\n',\n",
       " '195,Ronald,Male,4/30/2014,2:19 PM,121068,12.757,True,Product\\n',\n",
       " '196,Steven,Male,11/10/1985,10:53 AM,62719,19.127,False,Client Services\\n',\n",
       " '197,Carolyn,Female,11/6/2012,3:51 AM,69268,3.031,False,Client Services\\n',\n",
       " '198,Maria,Female,12/27/1990,9:57 PM,36067,9.64,True,Product\\n',\n",
       " '200,Gary,Male,8/12/1987,12:04 AM,89661,8.525,False,Finance\\n',\n",
       " '201,Kimberly,Female,7/15/1997,5:57 AM,36643,7.953,False,Marketing\\n',\n",
       " '202,Roger,Male,11/8/1982,2:32 AM,140558,5.084,True,Sales\\n',\n",
       " '203,Diana,Female,1/4/2013,7:53 AM,103521,2.784,True,Business Development\\n',\n",
       " '204,Willie,Male,6/6/2006,9:45 AM,55281,4.935,True,Marketing\\n',\n",
       " '205,Brandon,Male,3/27/2006,5:54 PM,115711,8.012,True,Finance\\n',\n",
       " '206,Patricia,Female,12/6/2012,4:01 AM,114079,8.399,True,Client Services\\n',\n",
       " '207,Katherine,Female,11/14/1999,8:15 AM,57531,1.767,False,Client Services\\n',\n",
       " '208,Jonathan,Male,10/12/1987,2:59 AM,141069,4.903,False,Human Resources\\n',\n",
       " '209,Emily,Female,9/20/2007,11:25 AM,89434,11.295,False,Engineering\\n',\n",
       " '210,Ruth,Female,8/12/1986,7:29 PM,44639,9.148,True,Legal\\n',\n",
       " '211,Linda,Female,6/24/2006,12:04 PM,110967,19.612,True,Human Resources\\n',\n",
       " '212,Lisa,Female,11/2/2009,9:42 AM,115387,1.821,False,Client Services\\n',\n",
       " '213,Evelyn,Female,5/24/1980,11:10 PM,81673,15.364,True,Engineering\\n',\n",
       " '214,Julie,Female,7/23/1989,1:52 PM,109588,3.55,False,Engineering\\n',\n",
       " '215,Mary,Female,5/30/2009,11:41 PM,92544,3.8,False,Client Services\\n',\n",
       " '216,Matthew,Male,7/31/2013,8:04 AM,142373,2.462,False,Marketing\\n',\n",
       " '217,Douglas,Male,9/3/1999,4:00 PM,83341,1.015,True,Client Services\\n',\n",
       " '219,Billy,Male,3/13/1995,12:05 PM,120444,7.768,True,Finance\\n',\n",
       " '221,Gregory,Male,1/29/2000,6:01 AM,109564,3.845,False,Legal\\n',\n",
       " '222,Jason,Male,10/17/1999,10:09 PM,78417,3.067,False,Finance\\n',\n",
       " '223,Daniel,Male,4/30/2010,3:48 AM,106947,15.866,True,Legal\\n',\n",
       " '224,Sarah,Female,9/14/1995,7:50 AM,87298,2.311,False,Distribution\\n',\n",
       " '225,Harry,Male,10/1/2015,7:47 PM,64579,15.266,True,Sales\\n',\n",
       " '226,Kathy,Female,4/19/1995,12:46 AM,50905,9.404,True,Finance\\n',\n",
       " '227,Todd,Male,4/13/1999,10:31 AM,59728,11.226,True,Client Services\\n',\n",
       " '228,Bobby,Male,9/23/1994,1:29 AM,51685,17.445,True,Engineering\\n',\n",
       " '229,Jeremy,Male,6/8/2000,12:15 AM,49542,1.679,True,Distribution\\n',\n",
       " '231,Diane,Female,4/18/1993,3:22 AM,64084,17.018,False,Product\\n',\n",
       " '232,Marilyn,Female,4/4/1997,9:28 PM,147663,10.263,False,Human Resources\\n',\n",
       " '233,Kathryn,Female,2/4/2004,1:47 PM,73935,14.752,False,Sales\\n',\n",
       " '234,Irene,Female,2/4/1982,5:26 PM,40837,12.182,True,Client Services\\n',\n",
       " '235,Norma,Female,2/11/2015,11:44 PM,94393,3.643,True,Engineering\\n',\n",
       " '236,Laura,Female,4/2/2006,1:57 PM,42087,2.624,False,Product\\n',\n",
       " '237,Cheryl,Female,9/23/2008,2:57 AM,52080,9.375,False,Legal\\n',\n",
       " '238,Kevin,Male,3/25/1982,7:31 AM,35061,5.128,False,Legal\\n',\n",
       " '241,Walter,Male,7/6/1983,11:54 PM,127813,5.961,False,Finance\\n',\n",
       " '242,Robert,Male,10/27/1990,7:15 PM,38041,18.428,True,Engineering\\n',\n",
       " '243,Jimmy,Male,10/7/1986,5:53 PM,126310,5.413,True,Product\\n',\n",
       " '244,Clarence,Male,10/8/1996,12:53 PM,142561,8.866,False,Client Services\\n',\n",
       " '245,Victor,Male,4/11/1991,7:44 AM,70817,17.138,False,Engineering\\n',\n",
       " '248,Justin,Male,12/6/1992,5:58 PM,82782,4.366,True,Distribution\\n',\n",
       " '249,Betty,Female,6/12/2002,3:59 AM,104896,19.55,True,Business Development\\n',\n",
       " '252,Ralph,Male,11/11/2004,1:35 AM,71896,4.232,True,Marketing\\n',\n",
       " '254,Edward,Male,5/27/1985,10:13 PM,110485,7.995,False,Client Services\\n',\n",
       " '255,Denise,Female,3/20/2009,7:57 AM,115118,5.108,False,Human Resources\\n',\n",
       " '256,Debra,Female,3/13/1998,11:16 PM,48696,4.75,False,Legal\\n',\n",
       " '259,Henry,Male,2/6/1995,8:34 AM,89258,15.585,True,Human Resources\\n',\n",
       " '260,Gloria,Female,3/27/2007,1:44 AM,90730,2.491,False,Distribution\\n',\n",
       " '261,Marie,Female,8/6/1995,1:58 PM,100308,13.677,False,Product\\n',\n",
       " '262,Anne,Female,7/16/1986,2:08 PM,69134,3.723,True,Engineering\\n',\n",
       " '264,Stephanie,Female,3/24/1983,11:15 AM,50141,13.218,True,Human Resources\\n',\n",
       " '265,Roy,Male,9/23/2004,1:31 PM,101941,3.45,False,Client Services\\n',\n",
       " '268,Irene,Female,3/3/1982,8:26 AM,56526,5.81,True,Finance\\n',\n",
       " '270,Thomas,Male,4/6/2011,1:04 PM,103235,9.554,True,Human Resources\\n',\n",
       " '272,Fred,Male,2/20/1980,2:25 AM,74129,18.225,False,Product\\n',\n",
       " '273,Nicholas,Male,4/12/1994,8:21 PM,74669,1.113,True,Product\\n',\n",
       " '274,Howard,Male,10/5/1982,7:22 AM,97490,5.46,True,Marketing\\n',\n",
       " '275,Debra,Female,2/22/1994,10:25 PM,104250,18.456,True,Business Development\\n',\n",
       " '276,Christine,Female,7/3/1989,4:01 AM,94345,11.996,False,Finance\\n',\n",
       " '278,Betty,Female,6/28/2005,6:03 PM,51613,12.984,False,Distribution\\n',\n",
       " '279,Ruby,Female,11/8/2000,7:35 PM,105946,1.139,False,Business Development\\n',\n",
       " '280,Kevin,Male,7/12/1997,2:07 AM,46080,9.635,False,Business Development\\n',\n",
       " '281,Arthur,Male,1/1/2014,7:46 PM,134610,6.147,True,Human Resources\\n',\n",
       " '283,Todd,Male,3/11/2009,3:43 AM,107281,1.612,True,Engineering\\n',\n",
       " '284,Brenda,Female,10/6/2005,9:33 PM,141521,4.337,False,Client Services\\n',\n",
       " '285,Judy,Female,9/16/1997,12:10 AM,65931,2.304,False,Human Resources\\n',\n",
       " '286,Todd,Male,2/2/1984,10:13 AM,69989,10.985,True,Finance\\n',\n",
       " '287,Lois,Female,11/9/2011,7:06 AM,147183,9.999,True,Client Services\\n',\n",
       " '289,Jessica,Female,9/27/1985,1:35 PM,75145,6.388,True,Legal\\n',\n",
       " '291,Tammy,Female,11/11/1984,10:30 AM,132839,17.463,True,Client Services\\n',\n",
       " '292,Anne,Female,3/7/2000,6:45 AM,44537,18.284,True,Client Services\\n',\n",
       " '293,Jesse,Male,10/25/1999,3:35 PM,118733,9.653,False,Marketing\\n',\n",
       " '294,Virginia,Female,10/20/1999,6:23 AM,46905,19.154,False,Distribution\\n',\n",
       " '295,Jesse,Male,3/2/1981,7:26 PM,79582,3.873,False,Legal\\n',\n",
       " '297,Daniel,Male,9/15/2007,10:16 PM,123811,7.664,True,Human Resources\\n',\n",
       " '299,Emily,Female,1/13/1988,6:42 AM,36711,19.028,True,Human Resources\\n',\n",
       " '300,Alan,Male,6/26/1988,3:54 AM,111786,3.592,True,Engineering\\n',\n",
       " '301,James,Male,7/11/2015,8:52 PM,72257,13.023,False,Engineering\\n',\n",
       " '302,Adam,Male,7/5/2007,11:59 AM,71276,5.027,True,Human Resources\\n',\n",
       " '304,Jeremy,Male,8/12/1981,12:05 AM,46930,18.702,True,Finance\\n',\n",
       " '305,Margaret,Female,2/6/1993,1:05 PM,125220,3.733,False,Marketing\\n',\n",
       " '306,Mark,Male,4/1/1984,1:21 PM,121477,17.44,True,Business Development\\n',\n",
       " '307,Marilyn,Female,9/26/1981,2:23 AM,86386,2.937,False,Distribution\\n',\n",
       " '308,Cheryl,Female,9/8/2009,10:16 AM,81308,2.196,True,Legal\\n',\n",
       " '309,Benjamin,Male,9/11/1984,6:37 AM,84810,15.794,False,Marketing\\n',\n",
       " '310,Harold,Male,2/20/1990,11:00 PM,66775,2.158,True,Legal\\n',\n",
       " '312,Gerald,Male,4/16/2001,10:09 PM,121604,1.923,True,Sales\\n',\n",
       " '313,Judy,Female,7/1/1991,2:33 AM,109510,13.457,True,Legal\\n',\n",
       " '316,Marie,Female,10/3/2013,8:05 PM,123711,10.966,False,Product\\n',\n",
       " '317,Kathy,Female,12/18/2013,3:09 PM,132381,8.34,False,Business Development\\n',\n",
       " '318,Roy,Male,8/6/2006,7:52 AM,148225,1.841,False,Finance\\n',\n",
       " '319,Jacqueline,Female,11/25/1981,3:01 PM,145988,18.243,False,Marketing\\n',\n",
       " '321,Julie,Female,3/23/1986,9:26 AM,56926,7.507,False,Sales\\n',\n",
       " '322,Douglas,Male,1/8/2002,6:42 PM,41428,14.372,False,Product\\n',\n",
       " '323,Linda,Female,12/16/1990,2:20 AM,115658,3.041,True,Sales\\n',\n",
       " '324,Ruby,Female,12/10/1988,8:27 PM,76707,6.031,False,Business Development\\n',\n",
       " '325,Russell,Male,1/2/2005,1:48 AM,60388,17.885,False,Client Services\\n',\n",
       " '326,Jeffrey,Male,6/18/1997,8:01 PM,45150,12.075,True,Product\\n',\n",
       " '327,Aaron,Male,1/29/1994,6:48 PM,58755,5.097,True,Marketing\\n',\n",
       " '328,Samuel,Male,12/19/1991,2:54 AM,76076,5.319,True,Finance\\n',\n",
       " '330,Randy,Male,3/16/2014,6:24 PM,135119,7.887,False,Client Services\\n',\n",
       " '331,Evelyn,Female,9/3/1983,1:58 PM,36759,17.269,True,Marketing\\n',\n",
       " '332,Fred,Male,2/13/1987,2:15 PM,121723,18.645,True,Product\\n',\n",
       " '333,Shirley,Female,6/8/1986,2:25 AM,110061,7.494,False,Client Services\\n',\n",
       " '334,Todd,Male,5/23/2011,4:14 PM,85074,1.844,False,Client Services\\n',\n",
       " '335,Robert,Male,11/18/2014,5:00 AM,85799,19.93,False,Finance\\n',\n",
       " '336,Mark,Male,1/22/2007,2:37 PM,75150,12.182,True,Legal\\n',\n",
       " '337,Earl,Male,1/5/2000,5:46 PM,91344,4.035,True,Sales\\n',\n",
       " '338,Richard,Male,9/27/2005,1:41 AM,86326,10.717,False,Product\\n',\n",
       " '339,Michael,Male,11/22/1991,12:57 PM,98753,16.443,True,Human Resources\\n',\n",
       " '340,Steven,Male,5/12/2009,2:14 PM,113060,2.846,True,Sales\\n',\n",
       " '341,Carlos,Male,9/19/2007,1:01 AM,77327,11.58,True,Finance\\n',\n",
       " '342,Marie,Female,10/20/2011,10:09 PM,62666,10.247,False,Product\\n',\n",
       " '343,Ronald,Male,2/24/2009,2:09 PM,96633,4.99,True,Engineering\\n',\n",
       " '344,Scott,Male,5/12/2009,4:36 AM,58248,3.914,False,Business Development\\n',\n",
       " '345,Steven,Male,11/21/2006,8:30 AM,83706,6.96,True,Human Resources\\n',\n",
       " '346,James,Male,11/22/1998,3:48 AM,74086,5.778,True,Human Resources\\n',\n",
       " '347,Lori,Female,3/31/1988,10:59 PM,95389,14.223,False,Sales\\n',\n",
       " '348,Philip,Male,8/2/1989,11:21 AM,129968,19.897,False,Finance\\n',\n",
       " '349,Phyllis,Female,11/24/2005,11:57 PM,140347,8.723,False,Sales\\n',\n",
       " '351,Cynthia,Female,12/3/2012,11:03 PM,74287,10.751,False,Sales\\n',\n",
       " '354,Elizabeth,Female,11/10/2005,4:56 AM,106406,1.782,True,Legal\\n',\n",
       " '355,Andrea,Female,9/14/2003,10:30 PM,115913,12.121,False,Legal\\n',\n",
       " '356,Judy,Female,2/1/1990,3:32 PM,38092,5.668,False,Distribution\\n',\n",
       " '357,Russell,Male,8/13/2014,3:51 PM,121160,7.843,False,Engineering\\n',\n",
       " '358,Scott,Male,12/17/2011,3:45 AM,90429,4.45,False,Product\\n',\n",
       " '359,Sarah,Female,5/22/1994,7:06 AM,64207,7.824,True,Client Services\\n',\n",
       " '360,Susan,Female,9/25/2004,1:30 AM,80688,18.892,True,Sales\\n',\n",
       " '361,Margaret,Female,5/5/2014,6:01 AM,55044,4.078,False,Sales\\n',\n",
       " '362,Joshua,Male,11/9/2009,6:32 AM,72893,9.555,False,Distribution\\n',\n",
       " '364,Juan,Male,4/16/2002,11:09 PM,97364,3.595,False,Product\\n',\n",
       " '368,Marilyn,Female,12/17/1982,12:10 PM,147183,8.748,False,Business Development\\n',\n",
       " '369,Mary,Female,10/18/2009,6:32 PM,87721,12.484,False,Product\\n',\n",
       " '370,Linda,Female,7/15/2009,10:12 PM,144001,2.194,False,Business Development\\n',\n",
       " '371,Larry,Male,8/27/2003,1:00 PM,91133,5.14,False,Sales\\n',\n",
       " '372,Albert,Male,2/1/1997,4:20 PM,67827,19.717,True,Engineering\\n',\n",
       " '373,Kenneth,Male,4/13/1999,10:28 PM,81839,12.072,False,Sales\\n',\n",
       " '376,Brandon,Male,10/16/2015,2:44 AM,112548,4.664,False,Engineering\\n',\n",
       " '377,Stephen,Male,4/9/1987,12:47 PM,111249,10.574,True,Human Resources\\n',\n",
       " '378,Russell,Male,10/30/1994,5:46 AM,114334,9.669,False,Product\\n',\n",
       " '381,Scott,Male,8/3/1996,1:50 AM,64172,10.894,True,Engineering\\n',\n",
       " '383,Carlos,Male,7/28/2010,3:08 PM,50167,2.362,False,Product\\n',\n",
       " '384,Jack,Male,12/24/1980,10:58 PM,106995,15.723,False,Product\\n',\n",
       " '385,Debra,Female,1/19/2010,8:48 AM,70492,8.895,False,Client Services\\n',\n",
       " '386,Phyllis,Female,1/15/1995,5:27 AM,125881,16.697,False,Sales\\n',\n",
       " '387,Robert,Male,10/29/1994,4:26 AM,123294,19.894,False,Client Services\\n',\n",
       " '388,Gloria,Female,9/19/1989,7:40 PM,131045,11.312,True,Product\\n',\n",
       " '391,Marilyn,Female,8/15/1989,9:14 AM,140502,9.989,True,Sales\\n',\n",
       " '392,Ralph,Male,10/27/2010,10:28 AM,106310,4.03,True,Client Services\\n',\n",
       " '394,Robin,Female,1/8/1998,2:12 AM,111163,5.025,True,Product\\n',\n",
       " '395,Kathy,Female,11/25/2001,9:55 PM,93753,7.094,True,Sales\\n',\n",
       " '396,Rose,Female,7/6/2002,3:57 PM,63494,19.385,True,Human Resources\\n',\n",
       " '397,Clarence,Male,1/13/2005,9:00 AM,116693,13.835,True,Distribution\\n',\n",
       " '398,Doris,Female,7/29/1992,6:40 PM,85215,7.425,True,Human Resources\\n',\n",
       " '399,Kathryn,Female,6/9/1988,9:29 AM,86439,7.799,False,Finance\\n',\n",
       " '401,Norma,Female,4/16/1996,5:40 AM,38872,9.302,True,Business Development\\n',\n",
       " '403,Craig,Male,2/8/1984,4:45 AM,113506,19.642,False,Marketing\\n',\n",
       " '405,Sharon,Female,3/9/2014,4:39 PM,91522,7.564,False,Finance\\n',\n",
       " '406,Mary,Female,8/22/2010,8:03 AM,42214,17.538,True,Business Development\\n',\n",
       " '408,Joe,Male,12/5/2010,4:20 PM,144082,1.62,True,Client Services\\n',\n",
       " '409,Jeremy,Male,5/29/1994,6:24 AM,47885,19.276,True,Human Resources\\n',\n",
       " '410,Ernest,Male,8/14/2012,11:25 AM,126232,6.191,True,Sales\\n',\n",
       " '411,Kevin,Male,6/23/1981,8:26 PM,134598,11.699,False,Business Development\\n',\n",
       " '412,Jacqueline,Female,2/11/2007,2:01 AM,66604,14.609,False,Legal\\n',\n",
       " '413,Johnny,Male,9/14/1992,8:21 AM,115194,5.861,True,Marketing\\n',\n",
       " '414,Gary,Male,8/18/2011,8:12 AM,49101,11.9,True,Business Development\\n',\n",
       " '418,Julia,Female,3/2/1982,12:52 PM,36403,2.664,True,Finance\\n',\n",
       " '419,Dorothy,Female,11/5/2013,10:50 PM,140136,3.12,True,Business Development\\n',\n",
       " '420,Justin,Male,5/22/1986,6:30 AM,121508,19.334,True,Finance\\n',\n",
       " '421,Kevin,Male,11/20/1986,6:59 PM,79906,18.021,True,Sales\\n',\n",
       " '422,Victor,Male,9/24/2005,12:04 PM,123144,16.261,True,Product\\n',\n",
       " '423,Deborah,Female,11/25/1980,4:33 AM,46953,17.436,False,Client Services\\n',\n",
       " '425,Alice,Female,5/2/1986,1:50 AM,51395,2.378,True,Finance\\n',\n",
       " '426,Todd,Male,3/16/2016,2:45 PM,134408,3.56,True,Human Resources\\n',\n",
       " '427,Frank,Male,1/10/1981,1:30 PM,71853,8.037,True,Sales\\n',\n",
       " '428,Christopher,Male,5/13/1999,10:48 AM,68028,7.869,True,Finance\\n',\n",
       " '429,Rose,Female,5/28/2015,8:40 AM,149903,5.63,False,Human Resources\\n',\n",
       " '430,Andrea,Female,10/1/2010,11:54 AM,79123,19.422,False,Distribution\\n',\n",
       " '431,Charles,Male,12/16/1999,8:28 PM,104014,7.077,False,Legal\\n',\n",
       " '433,Wanda,Female,7/20/2008,1:44 PM,65362,7.132,True,Legal\\n',\n",
       " '435,Billy,Male,12/1/2006,3:32 PM,144709,10.069,True,Distribution\\n',\n",
       " '436,Kathryn,Female,8/29/2007,6:10 AM,53061,11.864,True,Finance\\n',\n",
       " '437,Denise,Female,3/18/2001,12:02 AM,36697,11.196,True,Sales\\n',\n",
       " '439,Nicholas,Male,3/1/2013,9:26 PM,101036,2.826,True,Human Resources\\n',\n",
       " '440,Aaron,Male,7/22/1990,2:53 PM,52119,11.343,True,Client Services\\n',\n",
       " '441,Louise,Female,5/13/2003,9:47 AM,46666,1.886,True,Business Development\\n',\n",
       " '442,Julie,Female,4/23/1998,5:52 AM,73437,2.518,True,Finance\\n',\n",
       " '443,Kathy,Female,5/8/1987,6:19 PM,86318,18.492,True,Sales\\n',\n",
       " '446,Cheryl,Female,8/16/1994,8:33 AM,67150,15.85,True,Marketing\\n',\n",
       " '447,Gregory,Male,5/15/2009,3:52 PM,142208,11.204,True,Engineering\\n',\n",
       " '448,Wayne,Male,1/30/1992,3:01 PM,81183,17.066,False,Client Services\\n',\n",
       " '449,Beverly,Female,11/30/2005,2:57 AM,107163,3.665,True,Human Resources\\n',\n",
       " '450,Willie,Male,8/22/2009,1:03 PM,55038,19.691,False,Legal\\n',\n",
       " '452,Scott,Male,11/17/2012,2:47 PM,146812,1.965,True,Marketing\\n',\n",
       " '453,Annie,Female,12/19/1994,6:19 AM,40119,4.338,True,Human Resources\\n',\n",
       " '455,Ruth,Female,10/24/2000,4:13 AM,69579,18.029,True,Human Resources\\n',\n",
       " '457,Patricia,Female,1/9/2015,4:16 AM,121232,16.624,False,Legal\\n',\n",
       " '458,Albert,Male,9/30/2007,5:34 PM,102626,15.843,False,Finance\\n',\n",
       " '460,Tina,Female,1/17/2005,9:11 AM,88276,14.248,False,Legal\\n',\n",
       " '461,Jeremy,Male,8/9/2001,3:56 AM,43354,13.946,False,Marketing\\n',\n",
       " '462,Craig,Male,4/14/1996,9:17 AM,125556,7.996,False,Engineering\\n',\n",
       " '463,Jose,Male,7/11/2002,9:15 AM,59862,3.269,False,Product\\n',\n",
       " '464,Lawrence,Male,5/13/2005,1:25 AM,74640,18.641,False,Marketing\\n',\n",
       " '465,Helen,Female,10/31/1997,2:43 AM,52875,4.188,False,Legal\\n',\n",
       " '466,Walter,Male,8/4/2007,1:59 PM,58789,5.461,False,Sales\\n',\n",
       " '467,Amy,Female,6/19/2002,3:06 AM,122897,8.222,True,Engineering\\n',\n",
       " '468,Janice,Female,6/28/1997,1:48 PM,136032,10.696,True,Marketing\\n',\n",
       " '469,Stephen,Male,5/9/2015,7:07 PM,141958,9.078,True,Legal\\n',\n",
       " '470,Ryan,Male,7/20/1993,10:18 PM,139917,11.466,False,Distribution\\n',\n",
       " '471,Sharon,Female,3/12/2002,6:32 AM,147635,14.693,False,Human Resources\\n',\n",
       " '472,Joshua,Male,7/10/1984,7:22 PM,68230,8.047,False,Client Services\\n',\n",
       " '473,Clarence,Male,8/20/1992,8:23 PM,124365,8.457,False,Business Development\\n',\n",
       " '474,Jonathan,Male,8/15/2002,12:01 AM,104749,11.364,False,Engineering\\n',\n",
       " '475,Stephanie,Female,11/26/1992,12:54 AM,122121,7.937,True,Engineering\\n',\n",
       " '476,Kathy,Female,10/25/1996,12:59 PM,143541,8.461,False,Human Resources\\n',\n",
       " '477,Albert,Male,8/14/2008,5:43 PM,137840,9.705,False,Business Development\\n',\n",
       " '478,Michael,Male,5/22/2011,10:42 AM,73354,18.357,False,Business Development\\n',\n",
       " '480,Amy,Female,3/30/2008,10:54 PM,106249,15.967,False,Sales\\n',\n",
       " '484,Joe,Male,4/14/2000,3:14 PM,50645,11.119,False,Marketing\\n',\n",
       " '485,Ashley,Female,8/15/1997,9:48 PM,142415,1.985,True,Finance\\n',\n",
       " '486,Howard,Male,4/9/2012,6:36 AM,37984,2.021,False,Distribution\\n',\n",
       " '487,Cheryl,Female,12/3/2014,9:27 AM,71751,15.918,False,Business Development\\n',\n",
       " '488,Robert,Male,3/11/2007,11:20 AM,135882,19.944,False,Legal\\n',\n",
       " '489,Sharon,Female,7/1/2011,9:50 AM,46007,19.731,True,Client Services\\n',\n",
       " '490,Judith,Female,11/23/2007,1:22 PM,117055,7.461,False,Marketing\\n',\n",
       " '492,Jerry,Male,1/30/1995,7:51 PM,121357,18.845,False,Business Development\\n',\n",
       " '493,Craig,Male,11/1/2005,11:31 PM,44857,13.266,False,Finance\\n',\n",
       " '494,Barbara,Female,3/21/2002,8:02 AM,47322,7.25,True,Sales\\n',\n",
       " '495,Eugene,Male,5/24/1984,10:54 AM,81077,2.117,False,Sales\\n',\n",
       " '496,Johnny,Male,2/26/2016,7:39 PM,76394,5.437,True,Marketing\\n',\n",
       " '497,Benjamin,Male,5/5/2013,3:28 PM,114356,7.123,False,Client Services\\n',\n",
       " '498,Diana,Female,6/13/1994,4:21 PM,41831,4.548,False,Business Development\\n',\n",
       " '500,Christine,Female,2/1/2003,1:11 PM,72613,11.126,False,Legal\\n',\n",
       " '501,Sean,Male,2/11/2013,7:07 PM,42748,9.765,False,Distribution\\n',\n",
       " '502,Sarah,Female,11/3/1980,2:47 PM,37259,1.763,False,Client Services\\n',\n",
       " '503,Roger,Male,8/3/2015,4:56 PM,125033,4.887,True,Marketing\\n',\n",
       " '506,Donald,Male,7/14/1995,7:51 AM,106472,6.499,True,Client Services\\n',\n",
       " '507,Clarence,Male,11/3/2015,12:11 AM,103684,18.654,True,Engineering\\n',\n",
       " '508,Scott,Male,11/23/1996,7:36 PM,96111,15.592,False,Human Resources\\n',\n",
       " '509,Ann,Female,11/4/1984,12:17 PM,90719,6.22,False,Business Development\\n',\n",
       " '510,Frank,Male,4/27/2003,12:04 PM,140303,17.07,False,Legal\\n',\n",
       " '511,Joe,Male,7/4/1983,7:32 AM,62161,8.13,True,Business Development\\n',\n",
       " '515,Larry,Male,1/8/1999,2:05 AM,97370,10.458,False,Sales\\n',\n",
       " '516,Gloria,Female,4/12/1992,8:26 PM,66224,15.979,True,Legal\\n',\n",
       " '517,Ruth,Female,12/12/1996,10:07 AM,97915,3.997,True,Human Resources\\n',\n",
       " '518,Diana,Female,1/19/1995,12:37 AM,86883,18.003,True,Product\\n',\n",
       " '519,Raymond,Male,2/16/2009,10:38 PM,37812,3.178,False,Human Resources\\n',\n",
       " '522,Catherine,Female,8/31/2013,7:24 PM,58047,14.858,True,Distribution\\n',\n",
       " '523,Diane,Female,7/5/1982,4:56 PM,124889,15.026,True,Sales\\n',\n",
       " '525,Steve,Male,8/22/1995,6:58 AM,67780,9.54,True,Human Resources\\n',\n",
       " '526,Barbara,Female,3/22/2004,8:11 AM,144677,8.696,False,Finance\\n',\n",
       " '529,Christopher,Male,4/23/2014,7:52 AM,82401,7.252,False,Client Services\\n',\n",
       " '530,Kathleen,Female,6/13/2014,9:16 AM,35575,14.595,False,Distribution\\n',\n",
       " '531,Virginia,Female,5/2/2010,9:10 PM,123649,10.154,True,Marketing\\n',\n",
       " '532,Lisa,Female,2/26/2005,6:33 PM,38078,10.28,True,Product\\n',\n",
       " '533,Earl,Male,2/11/2014,9:03 PM,52620,13.773,False,Product\\n',\n",
       " '535,Louise,Female,9/18/1981,5:47 AM,91462,8.205,False,Marketing\\n',\n",
       " '536,Clarence,Male,8/26/1982,9:47 AM,146589,4.905,True,Business Development\\n',\n",
       " '537,Cynthia,Female,9/14/1991,1:08 PM,51633,13.472,True,Business Development\\n',\n",
       " '538,Adam,Male,10/8/2010,9:53 PM,45181,3.491,False,Human Resources\\n',\n",
       " '539,Justin,Male,9/6/1999,10:30 AM,62454,3.459,True,Sales\\n',\n",
       " '541,Ruby,Female,5/1/1999,3:36 AM,147362,7.851,True,Engineering\\n',\n",
       " '542,Amanda,Female,8/1/2004,1:32 PM,80803,14.077,True,Distribution\\n',\n",
       " '543,Anna,Female,4/15/2008,2:34 PM,117293,2.366,False,Client Services\\n',\n",
       " '544,Roger,Male,7/3/2010,5:11 PM,105689,13.32,True,Marketing\\n',\n",
       " '546,Joseph,Male,9/10/1992,6:50 PM,102555,3.672,True,Product\\n',\n",
       " '547,Evelyn,Female,9/22/1998,7:55 PM,51525,10.366,False,Finance\\n',\n",
       " '548,Janice,Female,1/2/1984,9:06 PM,41190,3.311,True,Sales\\n',\n",
       " '549,Sara,Female,2/25/1980,10:50 PM,75484,3.186,False,Finance\\n',\n",
       " '550,Gregory,Male,6/18/1984,3:46 AM,82726,16.304,True,Marketing\\n',\n",
       " '551,Philip,Male,7/18/1985,6:36 AM,122319,19.122,False,Engineering\\n',\n",
       " '552,Barbara,Female,9/2/1991,3:41 PM,127297,11.905,True,Product\\n',\n",
       " '553,Amanda,Female,6/7/2002,7:46 AM,109290,13.853,False,Engineering\\n',\n",
       " '555,Anne,Female,10/26/1996,8:09 PM,71930,18.451,True,Product\\n',\n",
       " '556,Arthur,Male,12/16/2014,4:56 PM,66819,6.639,True,Marketing\\n',\n",
       " '557,Jane,Female,6/1/1994,8:39 AM,42424,18.115,False,Distribution\\n',\n",
       " '558,Linda,Female,8/18/1985,4:34 AM,51431,13.295,False,Engineering\\n',\n",
       " '559,Ashley,Female,11/17/1999,9:18 PM,120675,6.51,False,Human Resources\\n',\n",
       " '560,Shawn,Male,12/3/2009,10:24 AM,96610,2.097,True,Client Services\\n',\n",
       " '561,Kathleen,Female,9/20/1996,3:45 PM,71430,8.572,False,Engineering\\n',\n",
       " '563,Randy,Male,5/2/2002,7:39 PM,86723,14.842,False,Engineering\\n',\n",
       " '564,Andrew,Male,3/29/1985,6:57 PM,43414,7.563,True,Client Services\\n',\n",
       " '565,Marilyn,Female,8/9/2006,11:24 AM,87145,17.33,False,Human Resources\\n',\n",
       " '566,Johnny,Male,1/8/1995,1:35 PM,91124,12.986,True,Distribution\\n',\n",
       " '568,Susan,Female,4/18/1986,9:31 AM,90829,19.142,False,Marketing\\n',\n",
       " '569,Ruby,Female,7/7/1980,3:42 AM,101262,6.773,False,Client Services\\n',\n",
       " '570,Kelly,Female,8/16/1996,3:09 AM,41427,1.431,False,Product\\n',\n",
       " '571,Jonathan,Male,4/6/1995,10:38 PM,56993,18.623,False,Marketing\\n',\n",
       " '572,Raymond,Male,1/13/1996,4:14 PM,114244,16.69,False,Human Resources\\n',\n",
       " '575,John,Male,1/22/1995,12:17 AM,66077,5.809,True,Product\\n',\n",
       " '576,Michael,Male,7/30/1993,5:35 PM,35013,14.879,False,Product\\n',\n",
       " '577,Jerry,Male,5/4/2003,4:29 AM,98393,11.393,False,Client Services\\n',\n",
       " '578,Amanda,Female,3/17/1982,11:46 PM,107111,1.438,True,Product\\n',\n",
       " '579,Harold,Male,10/18/2010,8:45 PM,65673,1.187,True,Legal\\n',\n",
       " '581,Ernest,Male,1/28/1990,12:08 AM,81919,15.118,False,Marketing\\n',\n",
       " '582,Harry,Male,11/19/1982,11:25 AM,59277,10.2,False,Finance\\n',\n",
       " '583,Diane,Female,2/2/1988,6:14 PM,49501,13.506,False,Business Development\\n',\n",
       " '584,Jack,Male,5/30/2012,3:17 AM,70367,18.266,True,Legal\\n',\n",
       " '585,Shirley,Female,4/16/1988,11:09 AM,132156,2.754,False,Marketing\\n',\n",
       " '586,Rose,Female,10/30/2004,4:34 PM,56961,7.585,False,Marketing\\n',\n",
       " '587,Cheryl,Female,7/23/1982,6:28 AM,98841,8.945,True,Client Services\\n',\n",
       " '588,Cynthia,Female,5/23/1980,3:19 AM,78226,2.419,False,Human Resources\\n',\n",
       " '589,Sandra,Female,4/24/1995,7:14 PM,116931,9.657,True,Human Resources\\n',\n",
       " '590,Andrea,Female,10/30/1994,11:23 AM,87575,13.346,True,Business Development\\n',\n",
       " '591,Rachel,Female,4/22/1988,12:01 PM,110924,7.808,False,Distribution\\n',\n",
       " '592,Justin,Male,5/24/1981,11:15 PM,78351,15.221,False,Sales\\n',\n",
       " '593,Marie,Female,11/23/2000,5:06 AM,125574,4.644,False,Sales\\n',\n",
       " '594,Louis,Male,4/15/2011,5:02 AM,95198,2.075,False,Business Development\\n',\n",
       " '595,Nancy,Female,5/7/1985,10:20 PM,121006,3.512,True,Finance\\n',\n",
       " '596,Mark,Male,10/3/1984,5:31 AM,95728,6.752,True,Business Development\\n',\n",
       " '597,Teresa,Female,6/24/1987,7:37 PM,69740,8.294,False,Distribution\\n',\n",
       " '598,Frances,Female,7/21/2001,2:34 AM,91996,11.506,False,Product\\n',\n",
       " '604,Bruce,Male,3/15/2013,11:13 PM,141335,15.427,True,Engineering\\n',\n",
       " '605,Rose,Female,5/20/1982,9:14 AM,97691,2.142,False,Client Services\\n',\n",
       " '606,Mildred,Female,2/21/1981,3:30 AM,47266,10.256,False,Client Services\\n',\n",
       " '609,Todd,Male,2/16/2010,11:29 AM,103405,15.91,False,Sales\\n',\n",
       " '610,Alan,Male,2/17/2012,12:26 AM,41453,10.084,False,Product\\n',\n",
       " '614,Eric,Male,11/12/2004,9:16 PM,65168,11.513,False,Distribution\\n',\n",
       " '615,Edward,Male,8/30/2001,1:24 AM,73105,6.083,True,Engineering\\n',\n",
       " '616,Kimberly,Female,12/6/1986,2:23 PM,37916,12.929,True,Distribution\\n',\n",
       " '617,Kathy,Female,1/14/2001,5:11 AM,45682,1.451,True,Marketing\\n',\n",
       " '618,Peter,Male,11/24/1992,5:43 PM,69297,1.268,False,Finance\\n',\n",
       " '619,Beverly,Female,10/22/1990,2:45 PM,59070,19.064,True,Engineering\\n',\n",
       " '620,Ralph,Male,3/7/2012,2:25 AM,81215,8.4,False,Finance\\n',\n",
       " '621,Justin,Male,8/10/1997,11:00 PM,128036,18.824,False,Client Services\\n',\n",
       " '622,Irene,Female,6/23/2005,11:03 AM,89780,8.999,True,Sales\\n',\n",
       " '623,Irene,Female,11/29/2006,2:14 PM,125018,9.601,True,Legal\\n',\n",
       " '624,Jeremy,Male,11/26/1997,8:22 AM,133033,12.2,False,Sales\\n',\n",
       " '625,Cynthia,Female,6/29/2015,6:38 AM,82408,8.701,True,Marketing\\n',\n",
       " '627,Anne,Female,11/21/1984,12:30 PM,128305,16.636,False,Marketing\\n',\n",
       " '629,Debra,Female,3/12/1983,12:19 PM,74911,19.513,False,Marketing\\n',\n",
       " '630,Michael,Male,7/13/1988,1:48 PM,47079,2.617,False,Legal\\n',\n",
       " '632,Rebecca,Female,2/23/1990,3:21 PM,134673,6.878,False,Engineering\\n',\n",
       " '633,Andrea,Female,11/17/2011,2:37 PM,123591,6.5,True,Engineering\\n',\n",
       " '636,Marilyn,Female,7/2/1984,4:06 PM,92430,2.924,False,Engineering\\n',\n",
       " '637,Wayne,Male,9/2/2009,1:37 AM,126956,18.396,False,Human Resources\\n',\n",
       " '638,Frances,Female,11/12/1996,6:08 PM,112467,1.433,False,Business Development\\n',\n",
       " '640,Kathleen,Female,8/28/2004,10:49 AM,42553,3.756,True,Distribution\\n',\n",
       " '641,Amanda,Female,1/25/1995,5:06 AM,102081,5.203,False,Sales\\n',\n",
       " '643,Shawn,Male,9/29/1987,10:11 PM,71975,9.77,False,Human Resources\\n',\n",
       " '644,Katherine,Female,8/13/1996,12:21 AM,149908,18.912,False,Finance\\n',\n",
       " '646,Elizabeth,Female,2/21/2010,7:02 AM,79145,19.78,False,Finance\\n',\n",
       " '648,Gregory,Male,11/15/1999,5:22 PM,128031,15.857,True,Business Development\\n',\n",
       " '649,Ruth,Female,2/17/2004,5:38 AM,59969,14.064,True,Finance\\n',\n",
       " '650,Cynthia,Female,7/5/1986,1:24 AM,35381,11.749,False,Finance\\n',\n",
       " '651,Deborah,Female,11/21/1985,1:40 PM,113129,17.371,False,Client Services\\n',\n",
       " '652,Willie,Male,12/5/2009,5:39 AM,141932,1.017,True,Engineering\\n',\n",
       " '653,Debra,Female,5/28/2006,6:51 AM,42296,16.922,False,Product\\n',\n",
       " '654,Carl,Male,12/14/1984,8:49 PM,63395,11.411,False,Legal\\n',\n",
       " '655,Walter,Male,9/24/2007,11:16 PM,125382,13.613,True,Client Services\\n',\n",
       " '656,Lisa,Female,2/9/1982,6:44 PM,113592,17.108,True,Marketing\\n',\n",
       " '657,Rebecca,Female,3/5/2000,10:33 AM,46750,11.367,True,Sales\\n',\n",
       " '658,Jessica,Female,10/19/1986,9:58 PM,90285,13.591,True,Client Services\\n',\n",
       " '661,Craig,Male,8/21/1995,2:38 AM,123876,4.225,False,Engineering\\n',\n",
       " '662,Katherine,Female,12/19/2000,1:40 AM,41643,4.659,True,Distribution\\n',\n",
       " '663,Andrea,Female,8/31/1989,11:10 PM,113760,12.866,True,Distribution\\n',\n",
       " '664,Timothy,Male,10/6/2010,10:49 PM,49473,12.463,False,Legal\\n',\n",
       " '665,Anthony,Male,2/13/2013,1:35 PM,146141,3.645,True,Distribution\\n',\n",
       " '668,James,Male,12/5/2001,7:06 AM,67789,17.105,True,Legal\\n',\n",
       " '670,Martha,Female,9/14/2001,3:22 AM,135758,14.782,True,Client Services\\n',\n",
       " '671,Laura,Female,7/12/2000,6:07 PM,84672,3.96,False,Distribution\\n',\n",
       " '672,Robert,Male,11/5/1982,12:41 PM,111580,10.982,False,Human Resources\\n',\n",
       " '673,Ralph,Male,3/24/1996,11:54 AM,50455,16.248,False,Business Development\\n',\n",
       " '675,Diane,Female,10/30/2009,6:56 PM,130577,12.791,False,Marketing\\n',\n",
       " '676,Annie,Female,6/6/1992,10:04 AM,138925,9.801,True,Marketing\\n',\n",
       " '677,Jacqueline,Female,9/20/1994,6:07 PM,62371,15.77,True,Client Services\\n',\n",
       " '678,Brenda,Female,4/17/1984,7:12 AM,87715,2.675,False,Product\\n',\n",
       " '679,Lori,Female,9/11/2002,7:36 AM,66029,3.345,True,Client Services\\n',\n",
       " '680,Albert,Male,6/17/1992,3:25 AM,86818,14.301,True,Engineering\\n',\n",
       " '681,Frank,Male,11/23/2002,6:10 PM,75147,17.398,False,Product\\n',\n",
       " '682,Deborah,Female,4/23/2000,6:55 PM,105573,5.268,True,Product\\n',\n",
       " '688,Brian,Male,4/7/2007,10:47 PM,93901,17.821,True,Legal\\n',\n",
       " '690,Bruce,Male,1/28/2007,11:10 PM,134988,13.926,True,Sales\\n',\n",
       " '691,Joan,Female,10/2/2007,2:53 AM,120941,3.694,True,Finance\\n',\n",
       " '692,Harold,Male,5/15/2007,6:37 PM,118753,8.162,False,Sales\\n',\n",
       " '693,Alice,Female,10/16/1995,9:19 PM,92799,2.782,False,Sales\\n',\n",
       " '694,Barbara,Female,11/12/2011,12:35 AM,85718,13.326,False,Client Services\\n',\n",
       " '695,Sarah,Female,4/6/1999,11:17 AM,109517,5.146,False,Human Resources\\n',\n",
       " '696,Samuel,Male,5/25/2012,4:40 PM,85550,11.593,True,Marketing\\n',\n",
       " '700,Frank,Male,3/2/2009,9:15 PM,78891,7.927,True,Distribution\\n',\n",
       " '702,Debra,Female,3/17/2011,1:12 PM,84693,6.976,True,Finance\\n',\n",
       " '704,Thomas,Male,9/7/1991,9:51 AM,65251,11.211,False,Distribution\\n',\n",
       " '705,Harry,Male,9/23/2015,1:36 AM,129148,15.193,True,Engineering\\n',\n",
       " '707,Patricia,Female,3/7/1998,1:10 AM,75825,7.839,False,Engineering\\n',\n",
       " '708,Steve,Male,1/11/2002,9:17 PM,51821,1.197,True,Legal\\n',\n",
       " '710,Edward,Male,11/27/1997,1:00 AM,58327,17.095,True,Finance\\n',\n",
       " '711,Karen,Female,1/9/2014,10:09 PM,46478,16.552,False,Engineering\\n',\n",
       " '713,Ann,Female,9/28/1994,5:44 AM,79796,9.851,False,Distribution\\n',\n",
       " '714,Jonathan,Male,7/30/1984,6:02 PM,83809,12.922,False,Distribution\\n',\n",
       " '715,Peter,Male,3/22/1982,7:28 AM,77933,13.132,True,Engineering\\n',\n",
       " '716,Eric,Male,6/15/1993,3:56 AM,51070,13.806,True,Business Development\\n',\n",
       " '718,Terry,Male,10/21/2010,11:18 PM,58357,7.969,False,Engineering\\n',\n",
       " '719,John,Male,1/29/1999,3:07 AM,67165,13.001,False,Engineering\\n',\n",
       " '720,Marie,Female,4/8/1983,2:01 PM,145988,18.685,True,Human Resources\\n',\n",
       " '721,Harold,Male,4/16/2010,5:13 AM,147417,11.626,True,Business Development\\n',\n",
       " '722,Joshua,Male,6/27/1997,3:23 PM,95003,5.197,True,Marketing\\n',\n",
       " '724,Andrea,Female,12/10/2001,6:40 AM,37888,13.47,False,Engineering\\n',\n",
       " '725,Jeremy,Male,5/19/1991,1:40 PM,131513,1.876,True,Finance\\n',\n",
       " '727,Roy,Male,5/10/2004,1:22 PM,46875,12.942,True,Sales\\n',\n",
       " '728,Dorothy,Female,10/8/2008,12:22 AM,82744,19.111,True,Client Services\\n',\n",
       " '729,Steven,Male,9/7/1986,12:32 AM,43252,18.892,False,Client Services\\n',\n",
       " '730,Nicole,Female,4/26/2009,12:40 AM,66047,18.674,True,Marketing\\n',\n",
       " '731,Ann,Female,7/16/2001,9:27 AM,118431,12.772,True,Finance\\n',\n",
       " '732,Henry,Male,5/12/1986,2:04 AM,59943,1.432,False,Finance\\n',\n",
       " '735,Barbara,Female,11/26/2002,5:32 AM,82884,6.837,True,Business Development\\n',\n",
       " '736,Judy,Female,4/5/2011,1:44 AM,48668,11.716,True,Product\\n',\n",
       " '737,Lawrence,Male,7/23/2011,3:41 AM,122971,14.618,False,Product\\n',\n",
       " '738,Joseph,Male,10/10/2010,11:12 PM,107050,12.737,False,Business Development\\n',\n",
       " '739,Carlos,Male,1/25/1981,10:00 AM,138598,14.737,False,Sales\\n',\n",
       " '741,Jane,Female,7/10/1999,7:02 PM,128540,15.941,False,Legal\\n',\n",
       " '742,Martin,Male,2/25/2016,6:29 PM,61117,2.844,False,Client Services\\n',\n",
       " '743,Steven,Male,5/30/1980,8:25 PM,100949,13.813,True,Human Resources\\n',\n",
       " '745,James,Male,2/16/2008,2:49 AM,69111,14.625,True,Business Development\\n',\n",
       " '746,Gloria,Female,8/19/2004,10:31 AM,46602,1.027,True,Business Development\\n',\n",
       " '747,Ernest,Male,6/30/2001,1:46 PM,61181,16.559,False,Business Development\\n',\n",
       " '748,Martha,Female,7/17/1997,11:11 PM,94963,19.626,True,Business Development\\n',\n",
       " '751,Tina,Female,8/6/1999,3:18 AM,102841,3.369,False,Client Services\\n',\n",
       " '752,Henry,Male,2/23/2007,3:24 AM,49665,18.338,False,Business Development\\n',\n",
       " '754,Lisa,Female,4/11/2007,1:04 AM,128042,2.03,True,Legal\\n',\n",
       " '755,Denise,Female,2/19/1984,6:22 AM,86150,3.997,False,Client Services\\n',\n",
       " '756,Stephen,Male,10/21/1984,6:26 AM,121816,10.615,True,Distribution\\n',\n",
       " '757,Benjamin,Male,4/12/1988,11:32 PM,123409,7.783,False,Product\\n',\n",
       " '759,Ruth,Female,9/2/1980,6:52 AM,59678,10.895,False,Distribution\\n',\n",
       " '760,Shawn,Male,12/29/2006,3:05 AM,57871,4.02,True,Human Resources\\n',\n",
       " '761,Jennifer,Female,3/31/2015,7:43 PM,132084,10.006,True,Engineering\\n',\n",
       " '762,Terry,Male,11/10/2004,4:33 AM,35633,3.947,True,Distribution\\n',\n",
       " '763,Jacqueline,Female,7/27/2008,12:08 PM,125298,3.019,True,Legal\\n',\n",
       " '764,Roger,Male,5/2/1988,10:04 PM,115582,15.343,True,Sales\\n',\n",
       " '766,Justin,Male,7/25/1991,12:45 AM,112975,9.699,False,Human Resources\\n',\n",
       " '767,Janet,Female,7/12/2008,12:10 PM,36927,18.769,False,Client Services\\n',\n",
       " '768,Robin,Female,3/26/2004,5:41 PM,70248,9.66,True,Sales\\n',\n",
       " '770,Katherine,Female,9/22/2006,8:08 PM,72002,13.178,True,Product\\n',\n",
       " '771,Peter,Male,5/22/1991,1:39 AM,102577,12.026,True,Product\\n',\n",
       " '772,Lillian,Female,8/14/2009,5:41 AM,113554,18.018,True,Business Development\\n',\n",
       " '775,Rose,Female,11/3/1999,9:06 AM,75181,6.06,True,Finance\\n',\n",
       " '776,Bobby,Male,9/30/2004,10:52 PM,79047,18.784,False,Human Resources\\n',\n",
       " '777,Kimberly,Female,4/20/1986,3:55 PM,52970,4.513,False,Sales\\n',\n",
       " '778,Antonio,Male,12/28/2003,4:17 AM,137979,5.266,False,Distribution\\n',\n",
       " '779,Doris,Female,9/8/1984,7:03 PM,114360,17.799,True,Business Development\\n',\n",
       " '780,Steven,Male,7/5/2009,4:55 AM,110306,16.843,True,Human Resources\\n',\n",
       " '784,Stephanie,Female,9/14/1982,8:14 AM,96649,3.453,False,Sales\\n',\n",
       " '786,Sandra,Female,9/7/1989,4:17 PM,111468,2.58,True,Product\\n',\n",
       " '787,Kevin,Male,7/1/2005,3:22 PM,141498,4.135,True,Sales\\n',\n",
       " '789,Lisa,Female,7/8/2000,9:19 PM,40121,6.293,False,Product\\n',\n",
       " '790,Fred,Male,3/3/1989,2:27 AM,129712,11.058,False,Finance\\n',\n",
       " '791,Joseph,Male,11/4/1982,9:46 PM,126010,19.601,False,Legal\\n',\n",
       " '793,Andrea,Female,7/22/1999,9:25 AM,149105,13.707,True,Distribution\\n',\n",
       " '796,Catherine,Female,8/31/1986,6:20 PM,59970,12.801,False,Client Services\\n',\n",
       " '797,Rose,Female,12/31/1982,6:50 PM,145001,19.85,False,Engineering\\n',\n",
       " '798,Lawrence,Male,10/1/1984,2:06 PM,102589,17.952,True,Marketing\\n',\n",
       " '799,Raymond,Male,12/12/1986,12:18 PM,47529,2.712,True,Product\\n',\n",
       " '800,Clarence,Male,8/5/1989,6:11 PM,148941,11.517,False,Product\\n',\n",
       " '801,Ryan,Male,4/15/1988,5:18 AM,91109,17.499,True,Human Resources\\n',\n",
       " '802,Jane,Female,1/12/1992,1:23 PM,51923,13.623,False,Business Development\\n',\n",
       " '803,Lois,Female,7/28/2012,11:39 AM,53954,19.075,False,Product\\n',\n",
       " '804,Shawn,Male,3/17/2008,2:12 PM,39335,10.664,False,Distribution\\n',\n",
       " '805,Thomas,Male,5/3/1990,9:29 AM,111371,15.081,True,Engineering\\n',\n",
       " '806,Kathryn,Female,1/29/2008,12:29 AM,86676,6.081,False,Sales\\n',\n",
       " '807,Mary,Female,11/6/2011,8:32 AM,115057,2.089,False,Finance\\n',\n",
       " '808,Julie,Female,3/8/1980,5:13 AM,145357,3.459,False,Engineering\\n',\n",
       " '809,George,Male,9/27/1995,5:04 PM,36749,19.754,False,Finance\\n',\n",
       " '810,Ralph,Male,2/10/2000,4:48 PM,89854,7.227,False,Business Development\\n',\n",
       " '811,Judith,Female,9/3/1989,11:16 AM,134048,6.818,True,Marketing\\n',\n",
       " '813,Evelyn,Female,2/10/2002,4:44 AM,123621,19.767,True,Marketing\\n',\n",
       " '814,Rachel,Female,6/23/2011,12:52 AM,54941,3.221,True,Distribution\\n',\n",
       " '816,Kelly,Female,3/17/2007,6:20 PM,39371,4.068,False,Engineering\\n',\n",
       " '817,Ruby,Female,5/31/2008,8:41 PM,83112,4.083,False,Marketing\\n',\n",
       " '818,Ann,Female,10/3/1980,1:08 AM,96941,10.048,True,Distribution\\n',\n",
       " '819,Kenneth,Male,12/14/1985,6:55 AM,47232,17.862,True,Legal\\n',\n",
       " '820,William,Male,11/18/1993,12:27 PM,54058,5.182,True,Human Resources\\n',\n",
       " '822,Deborah,Female,2/26/2009,10:17 AM,118043,7.266,True,Business Development\\n',\n",
       " '824,Julia,Female,8/18/2014,3:12 AM,97566,2.147,False,Marketing\\n',\n",
       " '828,Cynthia,Female,7/12/2006,8:55 AM,149684,7.864,False,Product\\n',\n",
       " '829,Johnny,Male,1/14/2007,2:54 PM,71383,2.097,True,Human Resources\\n',\n",
       " '830,Michael,Male,8/31/2002,1:20 AM,81206,19.908,True,Distribution\\n',\n",
       " '831,Kenneth,Male,1/15/2015,2:41 PM,69112,7.588,True,Finance\\n',\n",
       " '832,Keith,Male,2/12/2003,3:02 PM,120672,19.467,False,Legal\\n',\n",
       " '833,Gerald,Male,5/28/2010,12:26 PM,96511,9.331,False,Human Resources\\n',\n",
       " '835,Douglas,Male,8/4/2007,5:23 AM,132175,2.28,False,Engineering\\n',\n",
       " '836,Carolyn,Female,3/17/2004,6:38 AM,118037,13.492,False,Finance\\n',\n",
       " '837,Joseph,Male,5/23/1985,10:16 PM,139570,15.804,True,Finance\\n',\n",
       " '838,Billy,Male,4/6/2000,3:14 PM,115280,9.153,False,Distribution\\n',\n",
       " '839,Joyce,Female,7/25/2001,6:04 AM,51065,16.807,False,Human Resources\\n',\n",
       " '840,Lillian,Female,8/26/2002,8:53 AM,103854,4.924,True,Distribution\\n',\n",
       " '841,Ruby,Female,8/13/2006,6:27 PM,48354,19.501,False,Business Development\\n',\n",
       " '842,Sandra,Female,2/7/1998,12:39 PM,132327,19.264,False,Product\\n',\n",
       " '843,Louise,Female,2/26/1982,1:03 AM,106362,8.965,False,Sales\\n',\n",
       " '845,Brenda,Female,1/3/1981,6:01 PM,131131,11.682,False,Client Services\\n',\n",
       " '846,Stephen,Male,9/10/1990,10:42 PM,129663,15.574,False,Human Resources\\n',\n",
       " '848,Bobby,Male,6/5/1984,7:40 AM,93368,2.88,True,Product\\n',\n",
       " '849,Ernest,Male,9/6/1997,2:02 PM,53335,9.192,False,Product\\n',\n",
       " '852,Diana,Female,11/19/2004,8:47 AM,105066,17.343,True,Business Development\\n',\n",
       " '854,Harry,Male,2/10/1985,7:46 PM,63046,10.411,False,Finance\\n',\n",
       " '857,Marie,Female,12/8/1993,6:28 PM,98406,7.943,True,Product\\n',\n",
       " '858,Sean,Male,4/25/2006,4:51 PM,108581,9.634,False,Human Resources\\n',\n",
       " '859,Robin,Female,10/1/2012,2:44 AM,41808,19.239,False,Business Development\\n',\n",
       " '860,Phillip,Male,10/7/1984,11:05 AM,36837,14.66,False,Marketing\\n',\n",
       " '861,Jerry,Male,3/26/1989,4:15 AM,140850,18.855,False,Finance\\n',\n",
       " '862,Ronald,Male,5/25/1983,10:05 AM,50426,18.536,True,Sales\\n',\n",
       " '863,Phillip,Male,5/15/1984,6:15 AM,134120,6.842,False,Human Resources\\n',\n",
       " '865,Karen,Female,8/29/1997,4:56 PM,80633,16.306,False,Legal\\n',\n",
       " '866,Bonnie,Female,8/25/2004,2:17 AM,131943,14.249,False,Client Services\\n',\n",
       " '867,Earl,Male,6/15/2013,3:00 AM,48046,7.737,False,Marketing\\n',\n",
       " '868,Katherine,Female,8/18/2013,3:58 PM,97443,13.657,False,Product\\n',\n",
       " '869,Matthew,Male,8/3/1995,5:39 AM,135352,7.986,True,Business Development\\n',\n",
       " '871,Gerald,Male,3/29/2003,10:37 AM,96329,2.469,True,Engineering\\n',\n",
       " '872,Brenda,Female,1/18/2015,4:39 PM,73749,19.332,False,Business Development\\n',\n",
       " '873,Jason,Male,5/1/1998,6:05 PM,75607,4.299,True,Sales\\n',\n",
       " '874,Melissa,Female,9/8/1994,4:11 AM,98858,3.525,True,Human Resources\\n',\n",
       " '875,Beverly,Female,4/11/1998,2:27 PM,76485,9.212,True,Engineering\\n',\n",
       " '878,Jacqueline,Female,5/25/2003,7:13 PM,125418,8.064,False,Distribution\\n',\n",
       " '879,Amy,Female,5/20/2009,6:26 AM,75415,19.132,False,Client Services\\n',\n",
       " '881,Ruby,Female,1/28/1980,11:08 PM,142868,6.318,False,Marketing\\n',\n",
       " '883,Kathryn,Female,10/27/1995,3:39 PM,57300,18.015,False,Marketing\\n',\n",
       " '884,Lisa,Female,10/17/2003,1:42 PM,73706,18.53,False,Finance\\n',\n",
       " '885,Juan,Male,10/6/1993,8:52 AM,85871,9.16,False,Product\\n',\n",
       " '886,Anthony,Male,1/30/2014,9:04 PM,96795,14.837,False,Sales\\n',\n",
       " '887,David,Male,12/5/2009,8:48 AM,92242,15.407,False,Legal\\n',\n",
       " '888,Marilyn,Female,10/8/2007,12:32 AM,115149,11.934,True,Legal\\n',\n",
       " '889,Margaret,Female,1/4/2001,3:07 AM,126924,1.552,True,Finance\\n',\n",
       " '891,Timothy,Male,8/25/1991,10:37 AM,92587,8.475,False,Finance\\n',\n",
       " '892,Brandon,Male,10/23/1995,12:04 PM,60263,2.709,False,Sales\\n',\n",
       " '893,Frank,Male,7/27/2013,4:32 PM,91406,5.681,True,Business Development\\n',\n",
       " '894,Betty,Female,11/19/2002,10:40 AM,37005,7.645,True,Marketing\\n',\n",
       " '896,Victor,Male,3/10/2010,5:01 PM,45267,3.942,True,Sales\\n',\n",
       " '898,Jane,Female,4/27/2012,2:12 PM,59680,15.211,True,Business Development\\n',\n",
       " '899,Walter,Male,5/21/1992,12:39 AM,144701,16.323,True,Marketing\\n',\n",
       " '900,Christina,Female,6/23/2002,3:18 PM,35477,18.178,False,Human Resources\\n',\n",
       " '901,Patricia,Female,10/10/1995,4:52 PM,119266,6.911,False,Distribution\\n',\n",
       " '903,Heather,Female,7/29/1983,10:48 AM,47605,14.955,True,Human Resources\\n',\n",
       " '904,Stephanie,Female,6/26/1988,5:48 AM,136604,6.16,True,Human Resources\\n',\n",
       " '905,Alice,Female,2/9/2013,12:49 AM,121250,4.363,True,Finance\\n',\n",
       " '906,Frances,Female,5/16/2014,8:31 AM,35884,17.667,False,Sales\\n',\n",
       " '907,Elizabeth,Female,7/27/1998,11:12 AM,137144,10.081,False,Finance\\n',\n",
       " '908,Janice,Female,12/17/2009,6:42 AM,102697,3.283,False,Engineering\\n',\n",
       " '909,Donald,Male,8/1/1991,2:25 AM,61999,6.466,False,Product\\n',\n",
       " '910,Melissa,Female,10/22/2002,1:20 AM,45223,8.879,True,Legal\\n',\n",
       " '911,Carl,Male,7/7/2010,1:33 PM,54033,15.528,True,Business Development\\n',\n",
       " '913,Lois,Female,12/11/2015,4:10 PM,99747,6.168,False,Marketing\\n',\n",
       " '914,Ann,Female,9/28/2001,6:37 AM,71958,5.272,True,Distribution\\n',\n",
       " '915,Todd,Male,1/4/1983,12:34 PM,115566,6.716,True,Client Services\\n',\n",
       " '916,Marilyn,Female,1/16/1996,7:18 AM,118369,7.696,True,Business Development\\n',\n",
       " '917,Shawn,Male,3/13/2008,5:36 PM,51667,6.339,False,Product\\n',\n",
       " '918,Ryan,Male,4/27/1999,3:41 AM,85858,19.475,False,Client Services\\n',\n",
       " '919,Sean,Male,3/21/2009,11:38 AM,131423,8.957,False,Distribution\\n',\n",
       " '920,Rose,Female,1/2/2002,9:14 PM,49538,9.828,False,Client Services\\n',\n",
       " '921,George,Male,6/5/2015,5:40 AM,50369,18.9,True,Sales\\n',\n",
       " '922,Arthur,Male,12/5/2013,8:44 AM,86615,3.412,True,Business Development\\n',\n",
       " '924,Deborah,Female,11/11/2003,4:53 PM,60003,9.624,False,Client Services\\n',\n",
       " '926,Judith,Female,3/1/2004,7:32 AM,109324,19.488,False,Distribution\\n',\n",
       " '927,Philip,Male,3/11/2005,10:56 AM,103557,16.014,True,Business Development\\n',\n",
       " '928,Jeffrey,Male,9/20/1986,6:06 AM,111376,2.673,True,Business Development\\n',\n",
       " '929,Theresa,Female,4/27/2001,9:17 PM,75661,1.079,True,Legal\\n',\n",
       " '930,Nancy,Female,9/10/2001,11:57 PM,85213,2.386,True,Marketing\\n',\n",
       " '931,Harold,Male,6/23/2012,12:40 PM,140444,3.771,False,Distribution\\n',\n",
       " '932,Bonnie,Female,12/23/2008,9:26 AM,90427,2.01,True,Client Services\\n',\n",
       " '933,Doris,Female,7/5/1993,5:54 PM,141439,3.799,False,Business Development\\n',\n",
       " '934,Samuel,Male,8/7/1997,12:40 PM,43694,3.787,True,Engineering\\n',\n",
       " '935,Alice,Female,3/23/1996,3:09 AM,131952,12.09,False,Engineering\\n',\n",
       " '936,Maria,Female,3/14/2003,5:23 PM,96250,10.056,False,Business Development\\n',\n",
       " '940,Andrew,Male,9/28/1990,9:38 AM,137386,8.611,True,Distribution\\n',\n",
       " '941,William,Male,6/26/1997,8:33 AM,104840,15.653,True,Engineering\\n',\n",
       " '942,Lori,Female,11/20/2015,1:15 PM,75498,6.537,True,Marketing\\n',\n",
       " '943,Wayne,Male,9/8/2006,11:09 AM,67471,2.728,False,Engineering\\n',\n",
       " '944,Kenneth,Male,5/10/2006,8:24 AM,101914,1.905,True,Distribution\\n',\n",
       " '948,Ashley,Female,3/31/2006,1:24 PM,142410,11.048,True,Engineering\\n',\n",
       " '949,Scott,Male,8/20/2011,8:08 AM,37385,8.226,True,Business Development\\n',\n",
       " '950,Paula,Female,5/21/1983,11:42 AM,58423,10.833,False,Business Development\\n',\n",
       " '952,Teresa,Female,1/22/2013,3:17 PM,113425,11.907,True,Human Resources\\n',\n",
       " '953,Randy,Male,2/25/2012,5:33 AM,57266,14.077,False,Product\\n',\n",
       " '954,Joe,Male,1/19/1980,4:06 PM,119667,1.148,True,Finance\\n',\n",
       " '955,Sarah,Female,8/17/2014,11:08 PM,127118,11.176,False,Legal\\n',\n",
       " '956,Beverly,Female,10/17/1986,12:51 AM,80838,8.115,False,Engineering\\n',\n",
       " '957,Jeffrey,Male,2/3/1984,1:26 PM,70990,15.901,True,Sales\\n',\n",
       " '958,Gloria,Female,10/24/1987,4:43 AM,39833,9.631,False,Engineering\\n',\n",
       " '959,Albert,Male,9/19/1992,2:35 AM,45094,5.85,True,Business Development\\n',\n",
       " '960,Stephen,Male,10/29/1989,11:34 PM,93997,18.093,True,Business Development\\n',\n",
       " '962,Jonathan,Male,8/21/2013,12:45 AM,121797,16.923,False,Product\\n',\n",
       " '963,Ann,Female,9/23/1994,11:15 AM,89443,17.94,True,Sales\\n',\n",
       " '964,Bruce,Male,5/7/1980,8:00 PM,35802,12.391,True,Sales\\n',\n",
       " '965,Catherine,Female,9/25/1989,1:31 AM,68164,18.393,False,Client Services\\n',\n",
       " '966,Louis,Male,8/16/2011,5:19 PM,93022,9.146,True,Human Resources\\n',\n",
       " '967,Thomas,Male,3/12/2016,3:10 PM,105681,19.572,False,Engineering\\n',\n",
       " '968,Louise,Female,3/27/1995,10:27 PM,43050,11.671,False,Distribution\\n',\n",
       " '969,Linda,Female,2/4/2010,8:49 PM,44486,17.308,True,Engineering\\n',\n",
       " '970,Alice,Female,9/3/1988,8:54 PM,63571,15.397,True,Product\\n',\n",
       " '971,Patrick,Male,12/30/2002,2:01 AM,75423,5.368,True,Business Development\\n',\n",
       " '973,Russell,Male,5/10/2013,11:08 PM,137359,11.105,False,Business Development\\n',\n",
       " '974,Harry,Male,8/30/2011,6:31 PM,67656,16.455,True,Client Services\\n',\n",
       " '975,Susan,Female,4/7/1995,10:05 PM,92436,12.467,False,Sales\\n',\n",
       " '976,Denise,Female,10/19/1992,5:42 AM,137954,4.195,True,Legal\\n',\n",
       " '977,Sarah,Female,12/4/1995,9:16 AM,124566,5.949,False,Product\\n',\n",
       " '978,Sean,Male,1/17/1983,2:23 PM,66146,11.178,False,Human Resources\\n',\n",
       " '979,Ernest,Male,7/20/2013,6:41 AM,142935,13.198,True,Product\\n',\n",
       " '980,Kimberly,Female,1/26/2013,12:57 AM,46233,8.862,True,Engineering\\n',\n",
       " '981,James,Male,1/15/1993,5:19 PM,148985,19.28,False,Legal\\n',\n",
       " '982,Rose,Female,4/6/1982,10:43 AM,91411,8.639,True,Human Resources\\n',\n",
       " '983,John,Male,12/23/1982,10:35 PM,146907,11.738,False,Engineering\\n',\n",
       " '984,Maria,Female,10/15/2011,4:53 PM,43455,13.04,False,Engineering\\n',\n",
       " '986,Donna,Female,11/26/1982,7:04 AM,82871,17.999,False,Marketing\\n',\n",
       " '987,Gloria,Female,12/8/2014,5:08 AM,136709,10.331,True,Finance\\n',\n",
       " '988,Alice,Female,10/5/2004,9:34 AM,47638,11.209,False,Human Resources\\n',\n",
       " '990,Robin,Female,7/24/1987,1:35 PM,100765,10.982,True,Client Services\\n',\n",
       " '991,Rose,Female,8/25/2002,5:12 AM,134505,11.051,True,Marketing\\n',\n",
       " '992,Anthony,Male,10/16/2011,8:35 AM,112769,11.625,True,Finance\\n',\n",
       " '993,Tina,Female,5/15/1997,3:53 PM,56450,19.04,True,Engineering\\n',\n",
       " '994,George,Male,6/21/2013,5:47 PM,98874,4.479,True,Marketing\\n',\n",
       " '996,Phillip,Male,1/31/1984,6:30 AM,42392,19.675,False,Finance\\n',\n",
       " '997,Russell,Male,5/20/2013,12:39 PM,96914,1.421,False,Product\\n',\n",
       " '998,Larry,Male,4/20/2013,4:45 PM,60500,11.985,False,Business Development\\n',\n",
       " '999,Albert,Male,5/15/2012,6:24 PM,129949,10.169,True,Sales\\n']"
      ]
     },
     "execution_count": 5,
     "metadata": {},
     "output_type": "execute_result"
    }
   ],
   "source": [
    "newemp"
   ]
  },
  {
   "cell_type": "code",
   "execution_count": 7,
   "metadata": {},
   "outputs": [
    {
     "data": {
      "text/plain": [
       "'0,Douglas,Male,8/6/1993,12:42 PM,97308,6.945,True,Marketing\\n'"
      ]
     },
     "execution_count": 7,
     "metadata": {},
     "output_type": "execute_result"
    }
   ],
   "source": [
    "newemp[0]"
   ]
  },
  {
   "cell_type": "code",
   "execution_count": 8,
   "metadata": {},
   "outputs": [
    {
     "name": "stdout",
     "output_type": "stream",
     "text": [
      "Male:  371\n",
      "Female:  393\n"
     ]
    }
   ],
   "source": [
    "# male vs female\n",
    "male = list(filter(lambda s: 'Male' in s , newemp))\n",
    "female = list(filter(lambda s: 'Female' in s , newemp))\n",
    "print('Male: ', len(male) )\n",
    "print('Female: ', len(female) )"
   ]
  },
  {
   "cell_type": "code",
   "execution_count": 12,
   "metadata": {},
   "outputs": [
    {
     "name": "stdout",
     "output_type": "stream",
     "text": [
      "{'Marketing', 'Product', 'Distribution', 'Client Services', 'Sales', 'Finance', 'Engineering', 'Human Resources', 'Legal', 'Business Development'}\n"
     ]
    }
   ],
   "source": [
    "# unique teams\n",
    "uniq_team = set()\n",
    "for i in newemp:\n",
    "    team = i.split(',')[-1].strip() \n",
    "    uniq_team.add(team)\n",
    "print(uniq_team) \n",
    "\n",
    "# { line.split(',')[-1].strip()   for line in newemp }"
   ]
  },
  {
   "cell_type": "code",
   "execution_count": 20,
   "metadata": {},
   "outputs": [
    {
     "name": "stdout",
     "output_type": "stream",
     "text": [
      "Senior:  49.86910994764398\n",
      "Junior:  50.13089005235602\n"
     ]
    }
   ],
   "source": [
    "# Percentage of senior and junior\n",
    "senior = list(filter(lambda s: s.split(',')[-2].strip() == 'True' , newemp))\n",
    "s= len(senior)/764*100\n",
    "j= 100-s \n",
    "print('Senior: ', s)\n",
    "print('Junior: ', j)"
   ]
  },
  {
   "cell_type": "code",
   "execution_count": 19,
   "metadata": {},
   "outputs": [
    {
     "name": "stdout",
     "output_type": "stream",
     "text": [
      "49.80392156862745\n",
      "50.19607843137255\n"
     ]
    }
   ],
   "source": [
    "c = sum(1 for line in newemp if line.split(',')[-2] =='True')\n",
    "a = (c/len(emp))*100\n",
    "print(a)\n",
    "b = 100-a\n",
    "print(b) "
   ]
  },
  {
   "cell_type": "code",
   "execution_count": 8,
   "metadata": {},
   "outputs": [
    {
     "data": {
      "text/plain": [
       "'319,Jacqueline,Female,11/25/1981,3:01 PM,145988,18.243,False,Marketing\\n'"
      ]
     },
     "execution_count": 8,
     "metadata": {},
     "output_type": "execute_result"
    }
   ],
   "source": [
    "# Highest salary -> female in Marketing team\n",
    "# all values are in string. Hence while comparing salary convert it to float\n",
    "from functools import reduce\n",
    "women = list(filter(lambda s: (s.split(',')[-1].strip() == 'Marketing') and (s.split(',')[2].strip() == 'Female') , newemp))\n",
    "high_s = reduce(lambda x,y: x if float(x.split(',')[5]) > float(y.split(',')[5]) else y, women)  \n",
    "high_s "
   ]
  },
  {
   "cell_type": "code",
   "execution_count": null,
   "metadata": {},
   "outputs": [],
   "source": [
    "\"\"\"\n",
    "femEmps=[ \n",
    "        (    line.split(',')[1]         ,       int(line.split(',')[5].strip())     ) \n",
    "         for line in emp \n",
    "         if line.split(',')[-1].strip()=='Marketing' and line.split(',')[2].strip()=='Female'\n",
    "         ]\n",
    "sortedFemEmps = sorted(femEmps , key=lambda x : x[1],reverse=True)\n",
    "sortedFemEmps\n",
    "\"\"\""
   ]
  },
  {
   "cell_type": "code",
   "execution_count": 13,
   "metadata": {},
   "outputs": [
    {
     "data": {
      "text/plain": [
       "{'Marketing': 74,\n",
       " 'Finance': 80,\n",
       " 'Client Services': 85,\n",
       " 'Legal': 67,\n",
       " 'Product': 83,\n",
       " 'Engineering': 79,\n",
       " 'Business Development': 88,\n",
       " 'Human Resources': 76,\n",
       " 'Sales': 72,\n",
       " 'Distribution': 60}"
      ]
     },
     "execution_count": 13,
     "metadata": {},
     "output_type": "execute_result"
    }
   ],
   "source": [
    "# Find length of all teams\n",
    "team_length = {}\n",
    "for line in newemp:\n",
    "    team = line.split(',')[-1].strip()  \n",
    "    team_length[team] = team_length.get(team,0) + 1  \n",
    "team_length"
   ]
  },
  {
   "cell_type": "code",
   "execution_count": 22,
   "metadata": {},
   "outputs": [
    {
     "data": {
      "text/plain": [
       "{'Marketing': 90764.08108108108,\n",
       " 'Finance': 94519.075,\n",
       " 'Client Services': 89336.65882352942,\n",
       " 'Legal': 88066.40298507463,\n",
       " 'Product': 86935.96385542168,\n",
       " 'Engineering': 94369.40506329114,\n",
       " 'Business Development': 90520.39772727272,\n",
       " 'Human Resources': 91145.17105263157,\n",
       " 'Sales': 91724.81944444444,\n",
       " 'Distribution': 85849.1}"
      ]
     },
     "execution_count": 22,
     "metadata": {},
     "output_type": "execute_result"
    }
   ],
   "source": [
    "# Find mean salaries of all teams\n",
    "# continue above code for fetching length of the team. \n",
    "salary_sum = {}\n",
    "for line in newemp:\n",
    "    team = line.split(',')[-1].strip()\n",
    "    salary = float(line.split(',')[5].strip())  \n",
    "    if team in salary_sum:\n",
    "        salary_sum[team] += salary\n",
    "    else:\n",
    "        salary_sum[team] = salary\n",
    "mean_salary = {team: salary_sum[team] / team_length[team] for team in salary_sum}\n",
    "mean_salary"
   ]
  },
  {
   "cell_type": "markdown",
   "metadata": {},
   "source": [
    "==========================================================================================="
   ]
  },
  {
   "cell_type": "markdown",
   "metadata": {},
   "source": [
    "--------------------------------------------"
   ]
  }
 ],
 "metadata": {
  "kernelspec": {
   "display_name": "Python 3",
   "language": "python",
   "name": "python3"
  },
  "language_info": {
   "codemirror_mode": {
    "name": "ipython",
    "version": 3
   },
   "file_extension": ".py",
   "mimetype": "text/x-python",
   "name": "python",
   "nbconvert_exporter": "python",
   "pygments_lexer": "ipython3",
   "version": "3.7.4"
  }
 },
 "nbformat": 4,
 "nbformat_minor": 2
}
